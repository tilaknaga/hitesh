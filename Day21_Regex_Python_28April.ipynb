{
 "cells": [
  {
   "cell_type": "code",
   "execution_count": 18,
   "id": "169c2a19",
   "metadata": {},
   "outputs": [
    {
     "name": "stdout",
     "output_type": "stream",
     "text": [
      "None\n",
      "AV\n",
      "['AV', 'AV']\n"
     ]
    }
   ],
   "source": [
    "\n",
    "import re\n",
    "result = re.match(r'AV', 'Analytics AV Vidhya')\n",
    "print(result)#only at the start\n",
    "\n",
    "result = re.search(r'AV', 'Analytics AV Vidhya')\n",
    "print(result.group())#only one occurence,any position\n",
    "\n",
    "result = re.findall(r'AV', 'AV Analytics Vidhya AV')\n",
    "print(result)#list of all the occurences\n"
   ]
  },
  {
   "cell_type": "code",
   "execution_count": 23,
   "id": "b7e711b6",
   "metadata": {},
   "outputs": [
    {
     "name": "stdout",
     "output_type": "stream",
     "text": [
      "abc012\\de023n0f456\n",
      "('abc012\\\\de023n0f4506', 4)\n"
     ]
    }
   ],
   "source": [
    "\n",
    "# multiline string\n",
    "string = 'abc 12\\de 23n f456'\n",
    "# matches all whitespace characters\n",
    "pattern = '\\s+'\n",
    "# empty string\n",
    "replace = '0'\n",
    "new_string = re.sub(pattern, replace, string) \n",
    "print(new_string)\n",
    "\n",
    "\n",
    "# multiline string\n",
    "string = 'abc 12\\de 23n f45 6'\n",
    "# matches all whitespace characters\n",
    "pattern = '\\s+'\n",
    "# empty string\n",
    "replace = '0'\n",
    "new_string = re.subn(pattern, replace, string) \n",
    "print(new_string)"
   ]
  },
  {
   "cell_type": "code",
   "execution_count": 3,
   "id": "91b8610a",
   "metadata": {},
   "outputs": [
    {
     "name": "stdout",
     "output_type": "stream",
     "text": [
      "<re.Match object; span=(2, 8), match='801 35'>\n",
      "801 35\n",
      "2\n",
      "8\n",
      "(2, 8)\n"
     ]
    }
   ],
   "source": [
    "import re\n",
    "\n",
    "string = '39801 356, 2102 1111'\n",
    "#(1st word)space(2nd word)\n",
    "# Three digit number followed by space followed by two digit number\n",
    "pattern = '(\\d{3}) (\\d{2})'\n",
    "\n",
    "# match variable contains a Match object.\n",
    "match = re.search(pattern, string) \n",
    "\n",
    "print(match)\n",
    "if match:\n",
    "  print(match.group())\n",
    "else:\n",
    "  print(\"pattern not found\")\n",
    "\n",
    "print(match.start())\n",
    "print(match.end())\n",
    "print(match.span())\n"
   ]
  },
  {
   "cell_type": "code",
   "execution_count": 56,
   "id": "788ffbb0",
   "metadata": {},
   "outputs": [
    {
     "name": "stdout",
     "output_type": "stream",
     "text": [
      "aalys\n"
     ]
    }
   ],
   "source": [
    "import re\n",
    "\n",
    "string = 'aaalysstt'\n",
    "#(1st word)space(2nd word)\n",
    "# Three digit number followed by space followed by two digit number\n",
    "pattern = 'a...s'\n",
    "pattern1 = '^a...s$'\n",
    "\n",
    "# match variable contains a Match object.\n",
    "match = re.search(pattern, string) \n",
    "print(match.group())\n"
   ]
  },
  {
   "cell_type": "code",
   "execution_count": 45,
   "id": "69aeb816",
   "metadata": {},
   "outputs": [
    {
     "name": "stdout",
     "output_type": "stream",
     "text": [
      ",jvljkAAA\n",
      "[]\n"
     ]
    }
   ],
   "source": [
    "import re\n",
    "\n",
    "string = input()\n",
    "#(1st word)space(2nd word)\n",
    "# Three digit number followed by space followed by two digit number\n",
    "pattern = '[abc]'#[a-z]\n",
    "\n",
    "# match variable contains a Match object.\n",
    "match = re.findall(pattern, string) \n",
    "print(match)"
   ]
  },
  {
   "cell_type": "code",
   "execution_count": 52,
   "id": "88ab8846",
   "metadata": {},
   "outputs": [
    {
     "name": "stdout",
     "output_type": "stream",
     "text": [
      "Sagar\n",
      "['Sag']\n"
     ]
    }
   ],
   "source": [
    "import re\n",
    "\n",
    "string = input()\n",
    "#(1st word)space(2nd word)\n",
    "# Three digit number followed by space followed by two digit number\n",
    "pattern = '...'\n",
    "\n",
    "# match variable contains a Match object.\n",
    "match = re.findall(pattern, string) \n",
    "print(match)"
   ]
  },
  {
   "cell_type": "code",
   "execution_count": 55,
   "id": "c7b1c77a",
   "metadata": {},
   "outputs": [
    {
     "name": "stdout",
     "output_type": "stream",
     "text": [
      "I\n",
      "[]\n"
     ]
    }
   ],
   "source": [
    "import re\n",
    "\n",
    "string = input()\n",
    "#(1st word)space(2nd word)\n",
    "# Three digit number followed by space followed by two digit number\n",
    "pattern = '^In'\n",
    "\n",
    "# match variable contains a Match object.\n",
    "match = re.findall(pattern, string) \n",
    "print(match)"
   ]
  },
  {
   "cell_type": "code",
   "execution_count": null,
   "id": "cd17c99f",
   "metadata": {},
   "outputs": [],
   "source": []
  }
 ],
 "metadata": {
  "kernelspec": {
   "display_name": "Python 3 (ipykernel)",
   "language": "python",
   "name": "python3"
  },
  "language_info": {
   "codemirror_mode": {
    "name": "ipython",
    "version": 3
   },
   "file_extension": ".py",
   "mimetype": "text/x-python",
   "name": "python",
   "nbconvert_exporter": "python",
   "pygments_lexer": "ipython3",
   "version": "3.9.7"
  }
 },
 "nbformat": 4,
 "nbformat_minor": 5
}
