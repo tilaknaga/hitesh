{
 "cells": [
  {
   "cell_type": "code",
   "execution_count": 2,
   "id": "ad63df2a",
   "metadata": {},
   "outputs": [
    {
     "name": "stdout",
     "output_type": "stream",
     "text": [
      "a\n",
      "adoYdE\n",
      "EdYoda\n"
     ]
    }
   ],
   "source": [
    "a=\"EdYoda\"\n",
    "print(a[-1])\n",
    "print(a[::-1])\n",
    "#a[0]=\"y\"\n",
    "#del-- delete the whole string\n",
    "#but cannot delete the members of string\n",
    "del a[2]\n",
    "#cannot delete or update the string members\n",
    "print(a)"
   ]
  },
  {
   "cell_type": "code",
   "execution_count": 7,
   "id": "cff65fc0",
   "metadata": {},
   "outputs": [
    {
     "name": "stdout",
     "output_type": "stream",
     "text": [
      "2215382071088\n",
      "2215382203312\n",
      "False\n"
     ]
    }
   ],
   "source": [
    "s=\"Ed\"\n",
    "d=\"Yoda\"\n",
    "s=s+d\n",
    "print(id(s))\n",
    "print(id(d))\n",
    "print(id(s) == id(d))"
   ]
  },
  {
   "cell_type": "code",
   "execution_count": 9,
   "id": "1ca65eca",
   "metadata": {},
   "outputs": [
    {
     "name": "stdout",
     "output_type": "stream",
     "text": [
      "INDIA\n",
      "INDIA\n"
     ]
    }
   ],
   "source": [
    "#upper function\n",
    "\n",
    "s=\"India\"#INDIA\n",
    "t=\"iNdIa\"\n",
    "print(s.upper())\n",
    "print(t.upper())"
   ]
  },
  {
   "cell_type": "code",
   "execution_count": 11,
   "id": "9a860089",
   "metadata": {},
   "outputs": [
    {
     "name": "stdout",
     "output_type": "stream",
     "text": [
      "india3455\n"
     ]
    }
   ],
   "source": [
    "#lower() function\n",
    "\n",
    "a=\"INDIA3455\"\n",
    "\n",
    "print(a.lower())"
   ]
  },
  {
   "cell_type": "code",
   "execution_count": 8,
   "id": "554f9455",
   "metadata": {},
   "outputs": [
    {
     "name": "stdout",
     "output_type": "stream",
     "text": [
      "False\n",
      "False\n",
      "True\n"
     ]
    }
   ],
   "source": [
    "#isalnum---tells whether it should have either numeric or alpha no symbols--__ ,/\n",
    "# ()*\n",
    "#isalpha----tells whether it should have only alpha\n",
    "p=\"123ut/\"\n",
    "print(p.isalnum())\n",
    "print(p.isalpha())\n",
    "z=\"123abc\"\n",
    "print(z.isalnum())"
   ]
  },
  {
   "cell_type": "code",
   "execution_count": 9,
   "id": "427d473c",
   "metadata": {},
   "outputs": [
    {
     "name": "stdout",
     "output_type": "stream",
     "text": [
      "True\n",
      "True\n"
     ]
    }
   ],
   "source": [
    "p=\"53iusd\"\n",
    "print(p.isalnum())\n",
    "o=\"bbvBBYYYUUUsswa\"\n",
    "print(o.isalpha())"
   ]
  },
  {
   "cell_type": "code",
   "execution_count": 16,
   "id": "ee712cce",
   "metadata": {},
   "outputs": [
    {
     "name": "stdout",
     "output_type": "stream",
     "text": [
      "tilak123\n",
      "False\n"
     ]
    }
   ],
   "source": [
    "#isdigit----members should always be digits--(0-9)\n",
    "d=input()\n",
    "print(d.isdigit())\n",
    "#-9--- string two characters-- \"-\" and 9"
   ]
  },
  {
   "cell_type": "code",
   "execution_count": 17,
   "id": "8b176a19",
   "metadata": {},
   "outputs": [
    {
     "name": "stdout",
     "output_type": "stream",
     "text": [
      "True\n"
     ]
    }
   ],
   "source": [
    "a=\"Shivangi24\"\n",
    "print(a.isalnum())"
   ]
  },
  {
   "cell_type": "code",
   "execution_count": 22,
   "id": "1f6d19ca",
   "metadata": {
    "scrolled": true
   },
   "outputs": [
    {
     "name": "stdout",
     "output_type": "stream",
     "text": [
      "-12sfs\n",
      "True\n"
     ]
    }
   ],
   "source": [
    "#islower--all members are in lower case or not(only considers alphabets)\n",
    "s=input()\n",
    "print(s.islower())"
   ]
  },
  {
   "cell_type": "code",
   "execution_count": null,
   "id": "98583a64",
   "metadata": {},
   "outputs": [],
   "source": []
  },
  {
   "cell_type": "code",
   "execution_count": 28,
   "id": "3b79f7eb",
   "metadata": {},
   "outputs": [
    {
     "name": "stdout",
     "output_type": "stream",
     "text": [
      "TILAK12jdjk\n",
      "False\n"
     ]
    }
   ],
   "source": [
    "#isupper()-all members are in upper case or not(only considers alphabets)\n",
    "\n",
    "w=input()\n",
    "print(w.isupper())"
   ]
  },
  {
   "cell_type": "code",
   "execution_count": 39,
   "id": "6a63f5db",
   "metadata": {},
   "outputs": [
    {
     "name": "stdout",
     "output_type": "stream",
     "text": [
      "I\n",
      "False\n"
     ]
    }
   ],
   "source": [
    "#Roman , Hindi , Greek ---all numbers are identified here\n",
    "#digits are the subset of numerics\n",
    "#digits--0 to 9\n",
    "#numerics- number system in any language (Roman, Greek that is in Unicode)\n",
    "\n",
    "\n",
    "\n",
    "i=input()\n",
    "print(i.isnumeric())\n",
    "\n"
   ]
  },
  {
   "cell_type": "code",
   "execution_count": 44,
   "id": "d8ca28e3",
   "metadata": {
    "scrolled": true
   },
   "outputs": [
    {
     "name": "stdout",
     "output_type": "stream",
     "text": [
      "TIlak NAga\n",
      "False\n",
      "Tilak Naga\n"
     ]
    }
   ],
   "source": [
    "#istitle --whether first alphabet of the string is capital or not\n",
    "#title--convert into title case\n",
    "\n",
    "e=input()\n",
    "\n",
    "print(e.istitle())\n",
    "print(e.title())"
   ]
  },
  {
   "cell_type": "code",
   "execution_count": 46,
   "id": "2a3562f7",
   "metadata": {},
   "outputs": [
    {
     "name": "stdout",
     "output_type": "stream",
     "text": [
      "Tilak!@#nagA\n",
      "tILAK!@#NAGa\n"
     ]
    }
   ],
   "source": [
    "#swapcase--changes the resp cases in a string\n",
    "\n",
    "n=input()\n",
    "print(n.swapcase())"
   ]
  },
  {
   "cell_type": "code",
   "execution_count": 50,
   "id": "e7c5b45d",
   "metadata": {},
   "outputs": [
    {
     "name": "stdout",
     "output_type": "stream",
     "text": [
      "naga\n",
      "a\n",
      "1\n"
     ]
    }
   ],
   "source": [
    "#find--lowest index of occurence\n",
    "#str.find(sub, start, end)\n",
    "\n",
    "u=input()\n",
    "t=input()\n",
    "print(u.find(t))\n"
   ]
  },
  {
   "cell_type": "code",
   "execution_count": 62,
   "id": "4789f3a1",
   "metadata": {},
   "outputs": [
    {
     "name": "stdout",
     "output_type": "stream",
     "text": [
      "12345\n",
      "6\n",
      "-1\n",
      "-1\n"
     ]
    }
   ],
   "source": [
    "#rfind----last/highest index of occurence\n",
    "u=input()\n",
    "t=input()\n",
    "print(u.find(t))\n",
    "print(u.rfind(t))\n"
   ]
  },
  {
   "cell_type": "code",
   "execution_count": 59,
   "id": "9f2acf2b",
   "metadata": {
    "scrolled": true
   },
   "outputs": [
    {
     "name": "stdout",
     "output_type": "stream",
     "text": [
      "123\n",
      "4\n",
      "0\n"
     ]
    }
   ],
   "source": [
    "#count()--counts the occurence\n",
    "\n",
    "l=input()\n",
    "k=input()\n",
    "print(l.count(k))"
   ]
  },
  {
   "cell_type": "code",
   "execution_count": 58,
   "id": "a4cdc0fe",
   "metadata": {},
   "outputs": [
    {
     "name": "stdout",
     "output_type": "stream",
     "text": [
      "123245\n",
      "6\n",
      "0\n"
     ]
    }
   ],
   "source": [
    "s=input()\n",
    "g=input()\n",
    "print(s.count(g))"
   ]
  },
  {
   "cell_type": "code",
   "execution_count": 64,
   "id": "46b725b0",
   "metadata": {},
   "outputs": [
    {
     "name": "stdout",
     "output_type": "stream",
     "text": [
      "tilakk\n",
      "k\n",
      "4\n"
     ]
    }
   ],
   "source": [
    "#index-return the position of first occurence of string\n",
    "#find vs index---find gives -1 on being\n",
    "#not found and index gives error on being not found\n",
    "q=input()\n",
    "w=input()\n",
    "print(q.index(w))\n"
   ]
  },
  {
   "cell_type": "code",
   "execution_count": 71,
   "id": "f4fe92bf",
   "metadata": {},
   "outputs": [
    {
     "name": "stdout",
     "output_type": "stream",
     "text": [
      "ktilak\n",
      "k\n",
      "True\n",
      "True\n"
     ]
    }
   ],
   "source": [
    "#endswith vs startwith\n",
    "\n",
    "#endswith---OP is true or false - based on test\n",
    "#startsswith---OP is true or false - based on test\n",
    "x=input()\n",
    "c=input()\n",
    "\n",
    "print(x.endswith(c))\n",
    "print(x.startswith(c))"
   ]
  },
  {
   "cell_type": "code",
   "execution_count": 73,
   "id": "d56034fd",
   "metadata": {},
   "outputs": [
    {
     "name": "stdout",
     "output_type": "stream",
     "text": [
      "Tilak\n",
      "Tilak\n",
      "Tilak\n",
      "Tilak\n"
     ]
    }
   ],
   "source": [
    "#capitalize vs title\n",
    "\n",
    "s=input()\n",
    "print(s.capitalize())\n",
    "print(s.title())\n",
    "\n",
    "#capitalize\n",
    "ans=\"\"\n",
    "for i in range(len(s)):\n",
    "    \n",
    "    if(i==0):\n",
    "        ans=ans+s[i].upper()\n",
    "    else:\n",
    "        ans=ans+s[i].lower()\n",
    "print(ans)"
   ]
  },
  {
   "cell_type": "code",
   "execution_count": null,
   "id": "a65d4597",
   "metadata": {},
   "outputs": [],
   "source": []
  }
 ],
 "metadata": {
  "kernelspec": {
   "display_name": "Python 3 (ipykernel)",
   "language": "python",
   "name": "python3"
  },
  "language_info": {
   "codemirror_mode": {
    "name": "ipython",
    "version": 3
   },
   "file_extension": ".py",
   "mimetype": "text/x-python",
   "name": "python",
   "nbconvert_exporter": "python",
   "pygments_lexer": "ipython3",
   "version": "3.9.7"
  }
 },
 "nbformat": 4,
 "nbformat_minor": 5
}
