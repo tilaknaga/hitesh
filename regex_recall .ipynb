{
 "cells": [
  {
   "cell_type": "code",
   "execution_count": 9,
   "id": "fb990919",
   "metadata": {},
   "outputs": [
    {
     "name": "stdout",
     "output_type": "stream",
     "text": [
      "Av\n",
      "['Av']\n",
      "Av\n"
     ]
    }
   ],
   "source": [
    "import re \n",
    "\n",
    "result = re.search(r'Av' ,'Vidhyalaya Av Analytics') \n",
    "print(result.group())\n",
    "\n",
    "result = re.findall(r'Av' ,'Vidhyalaya Av Analytics') \n",
    "print(result)\n",
    "\n",
    "\n",
    "result = re.match(r'Av' ,'Av Vidhyalaya Av Analytics') \n",
    "print(result.group()) \n"
   ]
  },
  {
   "cell_type": "code",
   "execution_count": 6,
   "id": "2ca0cc5c",
   "metadata": {},
   "outputs": [
    {
     "name": "stdout",
     "output_type": "stream",
     "text": [
      "['Av', 'Av']\n"
     ]
    }
   ],
   "source": [
    "import re\n",
    "\n",
    "result = re.findall(r'Av' ,'Vidhyalaya Av Analytics Av') \n",
    "print(result)\n"
   ]
  },
  {
   "cell_type": "code",
   "execution_count": 12,
   "id": "856875dd",
   "metadata": {},
   "outputs": [
    {
     "name": "stdout",
     "output_type": "stream",
     "text": [
      "['12', '45', '79', '89']\n"
     ]
    }
   ],
   "source": [
    "\n",
    "s = '12tilak456 799 9 89'\n",
    "pattern = '\\d{2}'\n",
    "res = re.findall(patten, s)\n",
    "\n",
    "print(res)"
   ]
  },
  {
   "cell_type": "code",
   "execution_count": 15,
   "id": "8ce82828",
   "metadata": {},
   "outputs": [
    {
     "name": "stdout",
     "output_type": "stream",
     "text": [
      " tilak    \n",
      "(' tilak    ', 5)\n"
     ]
    }
   ],
   "source": [
    "\n",
    "import re\n",
    "\n",
    "c = '12 tilak 456 799 9 89'\n",
    "pattern = '\\d+'\n",
    "replace = ''\n",
    "res = re.sub(pattern, replace, c)\n",
    "result = re.subn(pattern, replace, c)\n",
    "print(res)\n",
    "print(result)"
   ]
  },
  {
   "cell_type": "markdown",
   "id": "0937861f",
   "metadata": {},
   "source": []
  },
  {
   "cell_type": "code",
   "execution_count": 42,
   "id": "42968b3b",
   "metadata": {},
   "outputs": [
    {
     "name": "stdout",
     "output_type": "stream",
     "text": [
      "<re.Match object; span=(2, 8), match='456 79'>\n",
      "456 79\n",
      "2\n",
      "8\n",
      "(2, 8)\n"
     ]
    }
   ],
   "source": [
    "import re\n",
    "\n",
    "c = '12456 799 89 89'\n",
    "pattern = '(\\d{3}) (\\d{2})'\n",
    "match = re.search(pattern, c)\n",
    "print(match)\n",
    "\n",
    "if match:\n",
    "    print(match.group())\n",
    "    \n",
    "else:\n",
    "    print('NO')\n",
    "    \n",
    "print(match.start())\n",
    "print(match.end())\n",
    "print(match.span())"
   ]
  },
  {
   "cell_type": "code",
   "execution_count": 43,
   "id": "a12c78e4",
   "metadata": {},
   "outputs": [
    {
     "name": "stdout",
     "output_type": "stream",
     "text": [
      "2\n",
      "8\n",
      "(2, 8)\n"
     ]
    }
   ],
   "source": [
    "import re\n",
    "\n",
    "c = '12456 799 89 89'\n",
    "pattern = '(\\d{3}) (\\d{2})'\n",
    "match = re.search(pattern, c)\n",
    "  \n",
    "print(match.start())\n",
    "print(match.end())\n",
    "print(match.span())"
   ]
  },
  {
   "cell_type": "code",
   "execution_count": 2,
   "id": "7733a22e",
   "metadata": {},
   "outputs": [
    {
     "name": "stdout",
     "output_type": "stream",
     "text": [
      "phasoihoj\n",
      "['a']\n"
     ]
    }
   ],
   "source": [
    "import re\n",
    "\n",
    "c = input()\n",
    "pattern = '[abc]'\n",
    "match = re.findall(pattern, c)\n",
    "print(match)"
   ]
  },
  {
   "cell_type": "code",
   "execution_count": 4,
   "id": "eb713278",
   "metadata": {},
   "outputs": [
    {
     "name": "stdout",
     "output_type": "stream",
     "text": [
      "AGHASUGFTaguigdiugbsa \n",
      "['a', 'a']\n"
     ]
    }
   ],
   "source": [
    "import re\n",
    "\n",
    "c = input()\n",
    "pattern = 'a'\n",
    "match = re.findall(pattern, c)\n",
    "print(match)"
   ]
  },
  {
   "cell_type": "code",
   "execution_count": 9,
   "id": "f6dd5a3c",
   "metadata": {},
   "outputs": [
    {
     "name": "stdout",
     "output_type": "stream",
     "text": [
      "uegigigdf\n",
      "['u', 'e', 'g', 'i', 'g', 'i', 'g', 'd', 'f']\n"
     ]
    }
   ],
   "source": [
    "import re\n",
    "\n",
    "c = input()\n",
    "pattern = '^[a-z]'\n",
    "match = re.findall(pattern, c)\n",
    "print(match)"
   ]
  },
  {
   "cell_type": "code",
   "execution_count": 8,
   "id": "6272596e",
   "metadata": {},
   "outputs": [
    {
     "name": "stdout",
     "output_type": "stream",
     "text": [
      "shfjgJHJHhs\n",
      "['J', 'H', 'J', 'H']\n"
     ]
    }
   ],
   "source": [
    "import re\n",
    "\n",
    "c = input()\n",
    "pattern = '[^a-z]'\n",
    "match = re.findall(pattern, c)\n",
    "print(match)"
   ]
  },
  {
   "cell_type": "code",
   "execution_count": 14,
   "id": "17ff562f",
   "metadata": {},
   "outputs": [
    {
     "name": "stdout",
     "output_type": "stream",
     "text": [
      "BKJG768sjbjuFKK\n",
      "['7', '6', '8']\n"
     ]
    }
   ],
   "source": [
    "import re\n",
    "\n",
    "c = input()\n",
    "pattern = '[^a-zA-Z]$'\n",
    "match = re.findall(pattern, c)\n",
    "print(match)"
   ]
  },
  {
   "cell_type": "code",
   "execution_count": 22,
   "id": "8a8ec173",
   "metadata": {},
   "outputs": [
    {
     "name": "stdout",
     "output_type": "stream",
     "text": [
      "akjbfkjmaannn\n",
      "['maan']\n"
     ]
    }
   ],
   "source": [
    "import re\n",
    "\n",
    "c = input()\n",
    "pattern = 'ma*n'\n",
    "match = re.findall(pattern, c)\n",
    "print(match)"
   ]
  },
  {
   "cell_type": "code",
   "execution_count": 28,
   "id": "8cff7bb2",
   "metadata": {},
   "outputs": [
    {
     "name": "stdout",
     "output_type": "stream",
     "text": [
      "add\\\n",
      "['add']\n"
     ]
    }
   ],
   "source": [
    "import re\n",
    "\n",
    "c = input()\n",
    "pattern = 'ad{2,3}'\n",
    "match = re.findall(pattern, c)\n",
    "print(match)"
   ]
  },
  {
   "cell_type": "code",
   "execution_count": 33,
   "id": "87fa0969",
   "metadata": {},
   "outputs": [
    {
     "name": "stdout",
     "output_type": "stream",
     "text": [
      "aigfash sbf\n",
      "['aig', 'fas', 'sbf']\n"
     ]
    }
   ],
   "source": [
    "import re\n",
    "\n",
    "c = input()\n",
    "pattern = '[a-z]{2,3}'\n",
    "match = re.findall(pattern, c)\n",
    "print(match)"
   ]
  },
  {
   "cell_type": "code",
   "execution_count": 36,
   "id": "a27fe7d1",
   "metadata": {},
   "outputs": [
    {
     "name": "stdout",
     "output_type": "stream",
     "text": [
      "football \n",
      "['foo']\n"
     ]
    }
   ],
   "source": [
    "import re\n",
    "\n",
    "c = input()\n",
    "pattern = r'\\bfoo'\n",
    "match = re.findall(pattern, c)\n",
    "print(match)"
   ]
  },
  {
   "cell_type": "code",
   "execution_count": 37,
   "id": "bcd9c671",
   "metadata": {},
   "outputs": [
    {
     "name": "stdout",
     "output_type": "stream",
     "text": [
      "badfigai8936469\n",
      "['b', 'a', 'd', 'f', 'i', 'g', 'a', 'i']\n"
     ]
    }
   ],
   "source": [
    "import re\n",
    "\n",
    "c = input()\n",
    "pattern = r'\\D'\n",
    "match = re.findall(pattern, c)\n",
    "print(match)"
   ]
  },
  {
   "cell_type": "code",
   "execution_count": 41,
   "id": "ae0286ea",
   "metadata": {},
   "outputs": [
    {
     "name": "stdout",
     "output_type": "stream",
     "text": [
      "a sbf f  e\n",
      "[' ', ' ', ' ', ' ']\n"
     ]
    }
   ],
   "source": [
    "import re\n",
    "\n",
    "c = input()\n",
    "pattern = '\\s'\n",
    "match = re.findall(pattern, c)\n",
    "print(match)\n"
   ]
  },
  {
   "cell_type": "code",
   "execution_count": 42,
   "id": "3c5fd33c",
   "metadata": {},
   "outputs": [
    {
     "name": "stdout",
     "output_type": "stream",
     "text": [
      "LJBFjiu  shfoug\n",
      "['L', 'J', 'B', 'F', 'j', 'i', 'u', 's', 'h', 'f', 'o', 'u', 'g']\n"
     ]
    }
   ],
   "source": [
    "import re\n",
    "\n",
    "c = input()\n",
    "pattern = '\\S'\n",
    "match = re.findall(pattern, c)\n",
    "print(match)"
   ]
  },
  {
   "cell_type": "code",
   "execution_count": 45,
   "id": "906d94d1",
   "metadata": {},
   "outputs": [
    {
     "name": "stdout",
     "output_type": "stream",
     "text": [
      "tilak_naga\n",
      "['t', 'i', 'l', 'a', 'k', '_', 'n', 'a', 'g', 'a']\n"
     ]
    }
   ],
   "source": [
    "import re\n",
    "\n",
    "c = input()\n",
    "pattern = '\\w'\n",
    "match = re.findall(pattern, c)\n",
    "print(match)"
   ]
  },
  {
   "cell_type": "code",
   "execution_count": 54,
   "id": "a6237f1b",
   "metadata": {},
   "outputs": [
    {
     "name": "stdout",
     "output_type": "stream",
     "text": [
      "01/07/2000\n",
      "['01/07/2000']\n"
     ]
    }
   ],
   "source": [
    "import re\n",
    "#for date of birth \n",
    "c = input()\n",
    "pattern = r'\\d{2}/\\d{2}/\\d{4}'\n",
    "match = re.findall(pattern, c)\n",
    "print(match)"
   ]
  },
  {
   "cell_type": "code",
   "execution_count": 55,
   "id": "69d8a588",
   "metadata": {},
   "outputs": [
    {
     "name": "stdout",
     "output_type": "stream",
     "text": [
      "asfgoig2oig3 2v44v\n",
      "['a', 's', 'f', 'g', 'o', 'i', 'g', '2', 'o', 'i', 'g', '3', ' ', '2', 'v', '4', '4', 'v']\n"
     ]
    }
   ],
   "source": [
    "import re\n",
    "\n",
    "c = input()\n",
    "pattern = '[a-z A-Z 0-9]'\n",
    "match = re.findall(pattern, c)\n",
    "print(match)"
   ]
  },
  {
   "cell_type": "code",
   "execution_count": 1,
   "id": "96e6266f",
   "metadata": {},
   "outputs": [
    {
     "name": "stdout",
     "output_type": "stream",
     "text": [
      "tilaknaga@gmail.comisafougo\n",
      "['tilaknaga@gmail.com']\n"
     ]
    }
   ],
   "source": [
    "import re\n",
    "\n",
    "string = input()\n",
    "pattern = r'[a-zA-Z0-9]+@[a-zA-Z0-9]+.[a-zA-Z]{2,3}'\n",
    "match = re.findall(pattern, string)\n",
    "print(match)"
   ]
  },
  {
   "cell_type": "code",
   "execution_count": 2,
   "id": "0c3c0a10",
   "metadata": {},
   "outputs": [
    {
     "name": "stdout",
     "output_type": "stream",
     "text": [
      "tilaknaga 432 (*&8r85\n",
      "['t', 'i', 'l', 'a', 'k', 'n', 'a', 'g', 'a', '4', '3', '2', '8', 'r', '8', '5']\n"
     ]
    }
   ],
   "source": [
    "import re\n",
    "\n",
    "string = input()\n",
    "pattern = r'[a-zA-Z0-9]'\n",
    "match = re.findall(pattern, string)\n",
    "print(match)"
   ]
  },
  {
   "cell_type": "code",
   "execution_count": 20,
   "id": "eac652d3",
   "metadata": {},
   "outputs": [
    {
     "name": "stdout",
     "output_type": "stream",
     "text": [
      "a\n",
      "['a']\n"
     ]
    }
   ],
   "source": [
    "import re\n",
    "#zero or more\n",
    "string = input()\n",
    "pattern = r'^ab*$'\n",
    "match = re.findall(pattern, string)\n",
    "print(match)"
   ]
  },
  {
   "cell_type": "code",
   "execution_count": 21,
   "id": "8743f380",
   "metadata": {},
   "outputs": [
    {
     "name": "stdout",
     "output_type": "stream",
     "text": [
      "ab\n",
      "['ab']\n"
     ]
    }
   ],
   "source": [
    "import re\n",
    "# one or more \n",
    "string = input()\n",
    "pattern = r'^ab+$'\n",
    "match = re.findall(pattern, string)\n",
    "print(match)"
   ]
  },
  {
   "cell_type": "code",
   "execution_count": 24,
   "id": "cf2a126c",
   "metadata": {},
   "outputs": [
    {
     "name": "stdout",
     "output_type": "stream",
     "text": [
      "ab\n",
      "['ab']\n"
     ]
    }
   ],
   "source": [
    "import re\n",
    "# zero or one \n",
    "string = input()\n",
    "pattern = r'^ab?$'\n",
    "match = re.findall(pattern, string)\n",
    "print(match)"
   ]
  },
  {
   "cell_type": "code",
   "execution_count": 28,
   "id": "edc35d71",
   "metadata": {},
   "outputs": [
    {
     "name": "stdout",
     "output_type": "stream",
     "text": [
      "ih98yhaabbpirhwebalbfaohghoibsbbbisihyphssbbbaabbbbbsh\n",
      "['abb', 'abbb']\n"
     ]
    }
   ],
   "source": [
    "import re\n",
    "\n",
    "string = input()\n",
    "pattern = 'ab{2,3}'\n",
    "match = re.findall(pattern, string)\n",
    "print(match)"
   ]
  },
  {
   "cell_type": "code",
   "execution_count": 39,
   "id": "f38d73a4",
   "metadata": {},
   "outputs": [
    {
     "name": "stdout",
     "output_type": "stream",
     "text": [
      "tilak_naga\n",
      "['tilak_naga']\n"
     ]
    }
   ],
   "source": [
    "import re\n",
    "\n",
    "string = input()\n",
    "pattern = '[a-z]+_[a-z]+'\n",
    "match = re.findall(pattern, string)\n",
    "print(match)"
   ]
  },
  {
   "cell_type": "code",
   "execution_count": 3,
   "id": "b2b93eda",
   "metadata": {},
   "outputs": [
    {
     "name": "stdout",
     "output_type": "stream",
     "text": [
      "abb\n",
      "['abb']\n"
     ]
    }
   ],
   "source": [
    "import re\n",
    "\n",
    "string = input()\n",
    "pattern = '^ab*$'\n",
    "match = re.findall(pattern, string)\n",
    "print(match)"
   ]
  },
  {
   "cell_type": "code",
   "execution_count": 43,
   "id": "979d3af0",
   "metadata": {},
   "outputs": [
    {
     "name": "stdout",
     "output_type": "stream",
     "text": [
      "['TP', 'TP']\n",
      "['TP']\n"
     ]
    }
   ],
   "source": [
    "import re\n",
    "pattern=re.compile('TP')\n",
    "result=pattern.findall('TP Tutorialspoint TP')\n",
    "print(result)\n",
    "\n",
    "result2=pattern.findall('TP is most popular tutorials site of India')\n",
    "print(result2)"
   ]
  },
  {
   "cell_type": "code",
   "execution_count": 5,
   "id": "699254a7",
   "metadata": {},
   "outputs": [
    {
     "name": "stdout",
     "output_type": "stream",
     "text": [
      "akddlhAdjowhf\n",
      "['Adjowhf']\n"
     ]
    }
   ],
   "source": [
    "import re\n",
    "\n",
    "string = input()\n",
    "pattern = '[A-Z][a-z]+'\n",
    "match = re.findall(pattern, string)\n",
    "print(match)"
   ]
  },
  {
   "cell_type": "code",
   "execution_count": 19,
   "id": "0318ce3a",
   "metadata": {},
   "outputs": [
    {
     "name": "stdout",
     "output_type": "stream",
     "text": [
      "oafoihaoiahb\n",
      "['ahb']\n"
     ]
    }
   ],
   "source": [
    "import re\n",
    "\n",
    "string = input()\n",
    "pattern = 'a.b$'\n",
    "match = re.findall(pattern, string)\n",
    "print(match)"
   ]
  },
  {
   "cell_type": "code",
   "execution_count": 22,
   "id": "45cd91e0",
   "metadata": {},
   "outputs": [
    {
     "name": "stdout",
     "output_type": "stream",
     "text": [
      "_\n",
      "['_']\n"
     ]
    }
   ],
   "source": [
    "import re\n",
    "\n",
    "string = input()\n",
    "pattern = '^\\w+'\n",
    "match = re.findall(pattern, string)\n",
    "print(match)"
   ]
  },
  {
   "cell_type": "code",
   "execution_count": 25,
   "id": "64d0c848",
   "metadata": {},
   "outputs": [
    {
     "name": "stdout",
     "output_type": "stream",
     "text": [
      "what is ypur name?\n",
      "['name?']\n"
     ]
    }
   ],
   "source": [
    "import re\n",
    "\n",
    "string = input()\n",
    "pattern = '\\w+[!?.]$'\n",
    "match = re.findall(pattern, string)\n",
    "print(match)"
   ]
  },
  {
   "cell_type": "code",
   "execution_count": 28,
   "id": "337e228e",
   "metadata": {},
   "outputs": [
    {
     "name": "stdout",
     "output_type": "stream",
     "text": [
      "ti;lakz\n",
      "['lakz']\n"
     ]
    }
   ],
   "source": [
    "import re\n",
    "\n",
    "string = input()\n",
    "\n",
    "pattern = '\\w*z\\w*'\n",
    "match = re.findall(pattern, string)\n",
    "print(match)"
   ]
  },
  {
   "cell_type": "code",
   "execution_count": 2,
   "id": "15131700",
   "metadata": {},
   "outputs": [
    {
     "name": "stdout",
     "output_type": "stream",
     "text": [
      "zkllfsbsz[djwf\n",
      "[]\n"
     ]
    }
   ],
   "source": [
    "import re\n",
    "\n",
    "string = input()\n",
    "\n",
    "pattern = '\\Bz\\B'\n",
    "match = re.findall(pattern, string)\n",
    "print(match)"
   ]
  },
  {
   "cell_type": "code",
   "execution_count": null,
   "id": "d223d65c",
   "metadata": {},
   "outputs": [],
   "source": [
    "|"
   ]
  }
 ],
 "metadata": {
  "kernelspec": {
   "display_name": "Python 3 (ipykernel)",
   "language": "python",
   "name": "python3"
  },
  "language_info": {
   "codemirror_mode": {
    "name": "ipython",
    "version": 3
   },
   "file_extension": ".py",
   "mimetype": "text/x-python",
   "name": "python",
   "nbconvert_exporter": "python",
   "pygments_lexer": "ipython3",
   "version": "3.9.7"
  }
 },
 "nbformat": 4,
 "nbformat_minor": 5
}
