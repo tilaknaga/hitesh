{
 "cells": [
  {
   "cell_type": "code",
   "execution_count": 6,
   "id": "a8c0d635",
   "metadata": {},
   "outputs": [
    {
     "name": "stdout",
     "output_type": "stream",
     "text": [
      "10\n",
      "16\n",
      "(3, 5, 7)\n"
     ]
    }
   ],
   "source": [
    "#Lambda\n",
    "\n",
    "def sumxy(x,y):\n",
    "    \n",
    "    return x+y\n",
    "\n",
    "print(sum(5,5))\n",
    "\n",
    "\n",
    "su=lambda x,y:x+y\n",
    "\n",
    "print(su(8,8))\n",
    "\n",
    "\n",
    "#filter\n",
    "\n",
    "def ef(x):\n",
    "    \n",
    "    if x%2==0:\n",
    "        return False\n",
    "    else:\n",
    "        return True\n",
    "\n",
    "l=[2,3,4,5,6,7,8]    \n",
    "    \n",
    "a=tuple(filter(ef,l))\n",
    "#map and filter ----convert into list,tuple\n",
    "\n",
    "print(a)"
   ]
  },
  {
   "cell_type": "code",
   "execution_count": 7,
   "id": "9c1dd3ae",
   "metadata": {},
   "outputs": [
    {
     "name": "stdout",
     "output_type": "stream",
     "text": [
      "4\n"
     ]
    }
   ],
   "source": [
    "#Sample Questions\n",
    "#Q2\n",
    "dictionary = {}\n",
    "dictionary[1] = 1\n",
    "dictionary['1'] = 2\n",
    "dictionary[1] += 1\n",
    "sum = 0\n",
    "for k in dictionary:\n",
    "\tsum += dictionary[k]\n",
    "print (sum)"
   ]
  },
  {
   "cell_type": "code",
   "execution_count": 8,
   "id": "37233ac6",
   "metadata": {},
   "outputs": [
    {
     "name": "stdout",
     "output_type": "stream",
     "text": [
      "2\n"
     ]
    }
   ],
   "source": [
    "#Q3\n",
    "dictionary = {1:'1', 2:'2', 3:'3'}\n",
    "del dictionary[1]\n",
    "dictionary[1] = '10'\n",
    "del dictionary[2]\n",
    "print (len(dictionary))"
   ]
  },
  {
   "cell_type": "code",
   "execution_count": 9,
   "id": "19bb7f23",
   "metadata": {},
   "outputs": [
    {
     "ename": "ValueError",
     "evalue": "'TTT' is not in list",
     "output_type": "error",
     "traceback": [
      "\u001b[1;31m---------------------------------------------------------------------------\u001b[0m",
      "\u001b[1;31mValueError\u001b[0m                                Traceback (most recent call last)",
      "Input \u001b[1;32mIn [9]\u001b[0m, in \u001b[0;36m<cell line: 5>\u001b[1;34m()\u001b[0m\n\u001b[0;32m      1\u001b[0m \u001b[38;5;66;03m#6\u001b[39;00m\n\u001b[0;32m      2\u001b[0m nameList \u001b[38;5;241m=\u001b[39m [\u001b[38;5;124m'\u001b[39m\u001b[38;5;124mHarsh\u001b[39m\u001b[38;5;124m'\u001b[39m, \u001b[38;5;124m'\u001b[39m\u001b[38;5;124mPratik\u001b[39m\u001b[38;5;124m'\u001b[39m, \u001b[38;5;124m'\u001b[39m\u001b[38;5;124mBob\u001b[39m\u001b[38;5;124m'\u001b[39m, \u001b[38;5;124m'\u001b[39m\u001b[38;5;124mDhruv\u001b[39m\u001b[38;5;124m'\u001b[39m]\n\u001b[1;32m----> 5\u001b[0m pos \u001b[38;5;241m=\u001b[39m \u001b[43mnameList\u001b[49m\u001b[38;5;241;43m.\u001b[39;49m\u001b[43mindex\u001b[49m\u001b[43m(\u001b[49m\u001b[38;5;124;43m\"\u001b[39;49m\u001b[38;5;124;43mTTT\u001b[39;49m\u001b[38;5;124;43m\"\u001b[39;49m\u001b[43m)\u001b[49m\n\u001b[0;32m      6\u001b[0m \u001b[38;5;66;03m#index vs find--positive -- same value\u001b[39;00m\n\u001b[0;32m      7\u001b[0m \u001b[38;5;66;03m#--negative---index==error and find==-1\u001b[39;00m\n\u001b[0;32m      9\u001b[0m \u001b[38;5;28mprint\u001b[39m(pos \u001b[38;5;241m*\u001b[39m \u001b[38;5;241m5\u001b[39m)\n",
      "\u001b[1;31mValueError\u001b[0m: 'TTT' is not in list"
     ]
    }
   ],
   "source": [
    "#6\n",
    "nameList = ['Harsh', 'Pratik', 'Bob', 'Dhruv']\n",
    "\n",
    "\n",
    "pos = nameList.index(\"TTT\")\n",
    "#index vs find--positive -- same value\n",
    "#--negative---index==error and find==-1\n",
    "\n",
    "print(pos * 5)"
   ]
  },
  {
   "cell_type": "code",
   "execution_count": 10,
   "id": "3bca8191",
   "metadata": {},
   "outputs": [
    {
     "name": "stdout",
     "output_type": "stream",
     "text": [
      "5\n"
     ]
    }
   ],
   "source": [
    "#Q9\n",
    "\n",
    "def addToList(listcontainer):\n",
    "\tlistcontainer += [10]\n",
    "\n",
    "mylistContainer = [10, 20, 30, 40]\n",
    "addToList(mylistContainer)\n",
    "print(len(mylistContainer))\n",
    "\n",
    "#list concatenation and append is same\n",
    "# + and ;.append(3)\n",
    "#extend\n",
    "#l1=[0,1] l2=[3,4]\n",
    "#l3=l1+l2==[0,1,3,4]"
   ]
  },
  {
   "cell_type": "code",
   "execution_count": 11,
   "id": "c0a3e79a",
   "metadata": {},
   "outputs": [
    {
     "name": "stdout",
     "output_type": "stream",
     "text": [
      "1\n",
      "2\n",
      "3\n",
      "4\n"
     ]
    }
   ],
   "source": [
    "#Q10\n",
    "values = [1, 2, 3, 4]\n",
    "numbers = set(values)\n",
    "def checknums(num):\n",
    "\tif num in numbers:\n",
    "\t\treturn True\n",
    "\telse:\n",
    "\t\treturn False\n",
    "for i in filter(checknums, values):\n",
    "\tprint (i)"
   ]
  },
  {
   "cell_type": "code",
   "execution_count": 12,
   "id": "6dac0adc",
   "metadata": {},
   "outputs": [
    {
     "name": "stdout",
     "output_type": "stream",
     "text": [
      "11\n"
     ]
    }
   ],
   "source": [
    "#Q11\n",
    "\n",
    "L1 = []\n",
    "L1.append([1, [2, 3], 4])\n",
    "L1.extend([7, 8, 9])\n",
    "print(L1[0][1][1] + L1[2])"
   ]
  },
  {
   "cell_type": "code",
   "execution_count": 13,
   "id": "c5127075",
   "metadata": {},
   "outputs": [
    {
     "name": "stdout",
     "output_type": "stream",
     "text": [
      "python\n"
     ]
    }
   ],
   "source": [
    "#Q13\n",
    "\n",
    "print(['love', 'python'][bool('A')])"
   ]
  },
  {
   "cell_type": "code",
   "execution_count": 14,
   "id": "404e2b09",
   "metadata": {},
   "outputs": [
    {
     "name": "stdout",
     "output_type": "stream",
     "text": [
      "{1, 2, 3, 4, 5}\n"
     ]
    }
   ],
   "source": [
    "#Q14\n",
    "sets = {3, 4, 5}\n",
    "sets.update([1, 2, 3])\n",
    "print(sets)"
   ]
  },
  {
   "cell_type": "code",
   "execution_count": 15,
   "id": "2384f05b",
   "metadata": {},
   "outputs": [
    {
     "name": "stdout",
     "output_type": "stream",
     "text": [
      "{1, 2, 3}\n"
     ]
    }
   ],
   "source": [
    "#Q15\n",
    "set1 = {1, 2, 3}\n",
    "set2 = set1.copy()\n",
    "set2.add(4)\n",
    "print(set1)"
   ]
  },
  {
   "cell_type": "code",
   "execution_count": 16,
   "id": "6ea9c4cd",
   "metadata": {},
   "outputs": [
    {
     "name": "stdout",
     "output_type": "stream",
     "text": [
      "True\n"
     ]
    }
   ],
   "source": [
    "#Q17\n",
    "import string\n",
    "Line1 = \"And Then There Were None\"\n",
    "Line2 = \"Famous In Love\"\n",
    "Line3 = \"Famous Were The Kol And Klaus\"\n",
    "Line4 = Line1 + Line2 + Line3\n",
    "print(\"And\" in Line4)"
   ]
  },
  {
   "cell_type": "code",
   "execution_count": 17,
   "id": "348bb0e9",
   "metadata": {},
   "outputs": [
    {
     "name": "stdout",
     "output_type": "stream",
     "text": [
      "33\n"
     ]
    }
   ],
   "source": [
    "#Q19\n",
    "\n",
    "tuples = {}\n",
    "tuples[(1,2,4)] = 8\n",
    "tuples[(4,2,1)] = 10\n",
    "tuples[(1,2)] = 12\n",
    "_sum = 0\n",
    "for k in tuples:\n",
    "    _sum += tuples[k]\n",
    "print(len(tuples) + _sum)"
   ]
  },
  {
   "cell_type": "code",
   "execution_count": 18,
   "id": "af2023d4",
   "metadata": {},
   "outputs": [
    {
     "name": "stdout",
     "output_type": "stream",
     "text": [
      "(1, 2, 3, 1, 2, 3)\n"
     ]
    }
   ],
   "source": [
    "#Q20\n",
    "\n",
    "tuple = (1, 2, 3)\n",
    "print(2 * tuple)"
   ]
  },
  {
   "cell_type": "code",
   "execution_count": 19,
   "id": "fbd542ac",
   "metadata": {},
   "outputs": [
    {
     "name": "stdout",
     "output_type": "stream",
     "text": [
      "[0, 2, 3, 4, 5]\n"
     ]
    }
   ],
   "source": [
    "#Q22\n",
    "\n",
    "list1 = [1, 2, 3, 4, 5]\n",
    "list2 = list1\n",
    "\n",
    "list2[0] = 0\n",
    "\n",
    "print(list1) #statement 2"
   ]
  },
  {
   "cell_type": "code",
   "execution_count": 20,
   "id": "75ffa7ae",
   "metadata": {},
   "outputs": [
    {
     "name": "stdout",
     "output_type": "stream",
     "text": [
      "[5, 2, 'gfg']\n"
     ]
    }
   ],
   "source": [
    "#Q23\n",
    "\n",
    "\n",
    "mylist =[0, 5, 2, 0, 'gfg', '', []]\n",
    "print(list(filter(bool, mylist)))"
   ]
  },
  {
   "cell_type": "code",
   "execution_count": 21,
   "id": "6a4991e9",
   "metadata": {},
   "outputs": [
    {
     "name": "stdout",
     "output_type": "stream",
     "text": [
      "[0, '2', '3', '5', '5', 0]\n"
     ]
    }
   ],
   "source": [
    "#Q27\n",
    "\n",
    "L = list('123456')\n",
    "L[0] = L[5] = 0\n",
    "L[3] = L[-2]\n",
    "print(L)"
   ]
  },
  {
   "cell_type": "code",
   "execution_count": 22,
   "id": "ae6f5284",
   "metadata": {},
   "outputs": [
    {
     "ename": "TypeError",
     "evalue": "unsupported operand type(s) for -: 'list' and 'list'",
     "output_type": "error",
     "traceback": [
      "\u001b[1;31m---------------------------------------------------------------------------\u001b[0m",
      "\u001b[1;31mTypeError\u001b[0m                                 Traceback (most recent call last)",
      "Input \u001b[1;32mIn [22]\u001b[0m, in \u001b[0;36m<cell line: 3>\u001b[1;34m()\u001b[0m\n\u001b[0;32m      1\u001b[0m d1 \u001b[38;5;241m=\u001b[39m [\u001b[38;5;241m10\u001b[39m, \u001b[38;5;241m20\u001b[39m, \u001b[38;5;241m30\u001b[39m, \u001b[38;5;241m40\u001b[39m, \u001b[38;5;241m50\u001b[39m]\n\u001b[0;32m      2\u001b[0m d2 \u001b[38;5;241m=\u001b[39m [\u001b[38;5;241m1\u001b[39m, \u001b[38;5;241m2\u001b[39m, \u001b[38;5;241m3\u001b[39m, \u001b[38;5;241m4\u001b[39m, \u001b[38;5;241m5\u001b[39m]\n\u001b[1;32m----> 3\u001b[0m \u001b[38;5;28mprint\u001b[39m(\u001b[43md1\u001b[49m\u001b[43m \u001b[49m\u001b[38;5;241;43m-\u001b[39;49m\u001b[43m \u001b[49m\u001b[43md1\u001b[49m)\n",
      "\u001b[1;31mTypeError\u001b[0m: unsupported operand type(s) for -: 'list' and 'list'"
     ]
    }
   ],
   "source": [
    "#Q29\n",
    "d1 = [10, 20, 30, 40, 50]\n",
    "d2 = [1, 2, 3, 4, 5]\n",
    "print(d2 - d1)"
   ]
  },
  {
   "cell_type": "code",
   "execution_count": 27,
   "id": "9d6456f5",
   "metadata": {},
   "outputs": [
    {
     "name": "stdout",
     "output_type": "stream",
     "text": [
      "[]\n"
     ]
    }
   ],
   "source": [
    "#Q30\n",
    "list = ['a', 'b', 'c']*-5\n",
    "print(list)"
   ]
  },
  {
   "cell_type": "code",
   "execution_count": 28,
   "id": "f9f0ad67",
   "metadata": {},
   "outputs": [
    {
     "name": "stdout",
     "output_type": "stream",
     "text": [
      "0\n",
      "1\n",
      "2\n",
      "0\n"
     ]
    }
   ],
   "source": [
    "#Q33\n",
    "i = 0\n",
    "while i < 3:\n",
    "    print(i)\n",
    "    i += 1\n",
    "else:\n",
    "    print(0)"
   ]
  },
  {
   "cell_type": "code",
   "execution_count": 29,
   "id": "0981defb",
   "metadata": {},
   "outputs": [
    {
     "name": "stdout",
     "output_type": "stream",
     "text": [
      "5  None  [3, 7, 9]\n"
     ]
    }
   ],
   "source": [
    "#Q38\n",
    "\n",
    "L = [1, 3, 5, 7, 9]\n",
    "print(L.pop(-3), end = '  ')\n",
    "print(L.remove(L[0]), end = '  ')\n",
    "print(L)\n"
   ]
  },
  {
   "cell_type": "code",
   "execution_count": 30,
   "id": "6703bbe9",
   "metadata": {},
   "outputs": [
    {
     "name": "stdout",
     "output_type": "stream",
     "text": [
      "TCS\n",
      "a\n",
      "a\n"
     ]
    }
   ],
   "source": [
    "#Q39\n",
    "\n",
    "my_string = 'TCS'\n",
    "for i in range(len(my_string)):\n",
    "\tprint (my_string)\n",
    "\tmy_string = 'a'"
   ]
  },
  {
   "cell_type": "code",
   "execution_count": null,
   "id": "f54feeb3",
   "metadata": {},
   "outputs": [],
   "source": []
  }
 ],
 "metadata": {
  "kernelspec": {
   "display_name": "Python 3 (ipykernel)",
   "language": "python",
   "name": "python3"
  },
  "language_info": {
   "codemirror_mode": {
    "name": "ipython",
    "version": 3
   },
   "file_extension": ".py",
   "mimetype": "text/x-python",
   "name": "python",
   "nbconvert_exporter": "python",
   "pygments_lexer": "ipython3",
   "version": "3.9.7"
  }
 },
 "nbformat": 4,
 "nbformat_minor": 5
}
