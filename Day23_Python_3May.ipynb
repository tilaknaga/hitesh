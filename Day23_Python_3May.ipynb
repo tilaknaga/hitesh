{
 "cells": [
  {
   "cell_type": "code",
   "execution_count": 3,
   "id": "b8a633fb",
   "metadata": {},
   "outputs": [
    {
     "name": "stdout",
     "output_type": "stream",
     "text": [
      "khviA_kjfuuu9876\n",
      "[]\n"
     ]
    }
   ],
   "source": [
    "#Q1\n",
    "import re\n",
    "p=r'^[A-Z]_[a-z]+'\n",
    "s=input()\n",
    "a=re.findall(p,s)\n",
    "print(a)\n"
   ]
  },
  {
   "cell_type": "code",
   "execution_count": 5,
   "id": "e90fa5c8",
   "metadata": {},
   "outputs": [
    {
     "name": "stdout",
     "output_type": "stream",
     "text": [
      "AAa__b\n",
      "[]\n"
     ]
    }
   ],
   "source": [
    "#Q2\n",
    "import re\n",
    "p=r'a.b$'\n",
    "s=input()\n",
    "a=re.findall(p,s)\n",
    "print(a)\n"
   ]
  },
  {
   "cell_type": "code",
   "execution_count": 8,
   "id": "d30d7a1b",
   "metadata": {},
   "outputs": [
    {
     "name": "stdout",
     "output_type": "stream",
     "text": [
      "_\n",
      "['_']\n"
     ]
    }
   ],
   "source": [
    "import re\n",
    "p=r'^\\w+'\n",
    "s=input()\n",
    "a=re.findall(p,s)\n",
    "print(a)\n"
   ]
  },
  {
   "cell_type": "code",
   "execution_count": 11,
   "id": "4e6c3ca5",
   "metadata": {},
   "outputs": [
    {
     "name": "stdout",
     "output_type": "stream",
     "text": [
      ".\n",
      "[]\n"
     ]
    }
   ],
   "source": [
    "import re\n",
    "p=r'\\w+[!?.]$'\n",
    "s=input()\n",
    "a=re.findall(p,s)\n",
    "print(a)"
   ]
  },
  {
   "cell_type": "code",
   "execution_count": 15,
   "id": "a16a3d39",
   "metadata": {
    "scrolled": false
   },
   "outputs": [
    {
     "name": "stdout",
     "output_type": "stream",
     "text": [
      "z\n",
      "['z']\n"
     ]
    }
   ],
   "source": [
    "import re\n",
    "p=r'\\w*z\\w*'\n",
    "s=input()\n",
    "a=re.findall(p,s)\n",
    "print(a)\n",
    "\n",
    "#*-- 0 or more-- Quantity==0  n+1\n",
    "#+-- 1 or more--range of n \n",
    "#?--0 or 1"
   ]
  },
  {
   "cell_type": "code",
   "execution_count": 16,
   "id": "1d89181a",
   "metadata": {},
   "outputs": [
    {
     "name": "stdout",
     "output_type": "stream",
     "text": [
      "aza\n",
      "['z']\n"
     ]
    }
   ],
   "source": [
    "import re\n",
    "p='\\Bz\\B'\n",
    "s=input()\n",
    "a=re.findall(p,s)\n",
    "print(a)"
   ]
  },
  {
   "cell_type": "code",
   "execution_count": 17,
   "id": "18d4a64b",
   "metadata": {},
   "outputs": [
    {
     "name": "stdout",
     "output_type": "stream",
     "text": [
      "My DOb Is 08-10-1996\n",
      "[('08', '10', '1996')]\n"
     ]
    }
   ],
   "source": [
    "#dd-mm-yyyy\n",
    "\n",
    "import re\n",
    "p=r'(\\d{2})-(\\d{2})-(\\d{4})'\n",
    "s=input()\n",
    "a=re.findall(p,s)\n",
    "print(a)"
   ]
  },
  {
   "cell_type": "code",
   "execution_count": 20,
   "id": "76a1069f",
   "metadata": {},
   "outputs": [
    {
     "name": "stdout",
     "output_type": "stream",
     "text": [
      "sagar sarkar\n",
      "[]\n"
     ]
    }
   ],
   "source": [
    "#dd-mm-yyyy\n",
    "\n",
    "import re\n",
    "p=r'^\\w+$'\n",
    "s=input()\n",
    "a=re.findall(p,s)\n",
    "print(a)"
   ]
  },
  {
   "cell_type": "code",
   "execution_count": 25,
   "id": "849cff74",
   "metadata": {},
   "outputs": [
    {
     "name": "stdout",
     "output_type": "stream",
     "text": [
      "_5AA\n",
      "[]\n"
     ]
    }
   ],
   "source": [
    "#dd-mm-yyyy\n",
    "\n",
    "import re\n",
    "p=r'^5.*'\n",
    "s=input()\n",
    "a=re.findall(p,s)\n",
    "print(a)"
   ]
  },
  {
   "cell_type": "code",
   "execution_count": 27,
   "id": "687e53f0",
   "metadata": {},
   "outputs": [
    {
     "name": "stdout",
     "output_type": "stream",
     "text": [
      "A9999_\n",
      "[]\n"
     ]
    }
   ],
   "source": [
    "#dd-mm-yyyy\n",
    "\n",
    "import re\n",
    "p=r'.*[0-9]+$'\n",
    "s=input()\n",
    "a=re.findall(p,s)\n",
    "print(a)"
   ]
  },
  {
   "cell_type": "code",
   "execution_count": 30,
   "id": "13612a5a",
   "metadata": {},
   "outputs": [
    {
     "name": "stdout",
     "output_type": "stream",
     "text": [
      "233\n",
      "['233']\n"
     ]
    }
   ],
   "source": [
    "#dd-mm-yyyy\n",
    "\n",
    "import re\n",
    "p=r'\\d{1,3}'\n",
    "s=input()\n",
    "a=re.findall(p,s)\n",
    "print(a)"
   ]
  },
  {
   "cell_type": "code",
   "execution_count": 31,
   "id": "bb4109bc",
   "metadata": {},
   "outputs": [
    {
     "name": "stdout",
     "output_type": "stream",
     "text": [
      "21 Ramkrishna Rd.\n"
     ]
    }
   ],
   "source": [
    "import re\n",
    "street = '21 Ramkrishna Road'\n",
    "print(re.sub('Road$', 'Rd.', street))"
   ]
  },
  {
   "cell_type": "code",
   "execution_count": 41,
   "id": "44eacfa0",
   "metadata": {},
   "outputs": [
    {
     "name": "stdout",
     "output_type": "stream",
     "text": [
      "Python Peru Penguin Ostrich\n",
      "[]\n"
     ]
    }
   ],
   "source": [
    "\n",
    "\n",
    "import re\n",
    "p=r'(P.*) (P.*)'\n",
    "s=input()\n",
    "a=re.findall(p,s)\n",
    "print(a)"
   ]
  },
  {
   "cell_type": "code",
   "execution_count": 44,
   "id": "f174c6fe",
   "metadata": {},
   "outputs": [
    {
     "name": "stdout",
     "output_type": "stream",
     "text": [
      "A987684 80664ayj4532\n",
      "['987684', '80664', '4532']\n"
     ]
    }
   ],
   "source": [
    "\n",
    "\n",
    "import re\n",
    "p=r'[0-9]+'\n",
    "s=input()\n",
    "a=re.findall(p,s)\n",
    "print(a)"
   ]
  },
  {
   "cell_type": "code",
   "execution_count": 47,
   "id": "c8365d5e",
   "metadata": {},
   "outputs": [
    {
     "name": "stdout",
     "output_type": "stream",
     "text": [
      "I Study from amazon books and edyoda\n",
      "['amazon', 'and', 'edyoda']\n"
     ]
    }
   ],
   "source": [
    "\n",
    "\n",
    "import re\n",
    "p=r'\\b[a,e]\\w*'\n",
    "s=input()\n",
    "a=re.findall(p,s)\n",
    "print(a)\n",
    "\n",
    "\n",
    "# looking out for words  starting or ending at x-- use \\b"
   ]
  },
  {
   "cell_type": "code",
   "execution_count": 49,
   "id": "568bfde0",
   "metadata": {},
   "outputs": [
    {
     "name": "stdout",
     "output_type": "stream",
     "text": [
      "Python$Exercises$$PHP$exercises$\n"
     ]
    }
   ],
   "source": [
    "import re\n",
    "text = 'Python Exercises, PHP exercises.'\n",
    "print(re.sub(\"[ ,.]\", \"$\", text))\n"
   ]
  },
  {
   "cell_type": "code",
   "execution_count": 50,
   "id": "fb747690",
   "metadata": {},
   "outputs": [
    {
     "name": "stdout",
     "output_type": "stream",
     "text": [
      "Sagar Sarkar\n",
      "['Sagar']\n"
     ]
    }
   ],
   "source": [
    "\n",
    "\n",
    "import re\n",
    "p=r'\\b\\w{5}\\b'\n",
    "s=input()\n",
    "a=re.findall(p,s)\n",
    "print(a)\n",
    "\n",
    "\n",
    "# looking out for words  starting or ending at x-- use \\b"
   ]
  },
  {
   "cell_type": "code",
   "execution_count": 52,
   "id": "743f6c94",
   "metadata": {},
   "outputs": [
    {
     "name": "stdout",
     "output_type": "stream",
     "text": [
      "This is EdYoda Python Training Class\n",
      "['This', 'Class']\n"
     ]
    }
   ],
   "source": [
    "\n",
    "\n",
    "import re\n",
    "p=r'(\\b\\w{3,5}\\b)'\n",
    "s=input()\n",
    "a=re.findall(p,s)\n",
    "print(a)\n",
    "\n",
    "\n",
    "# looking out for words  starting or ending at x-- use \\b"
   ]
  },
  {
   "cell_type": "code",
   "execution_count": 53,
   "id": "b5d2556e",
   "metadata": {},
   "outputs": [
    {
     "name": "stdout",
     "output_type": "stream",
     "text": [
      "This is EdYoda Python Training class\n",
      "['This', 'EdYoda', 'Python', 'Training', 'class']\n"
     ]
    }
   ],
   "source": [
    "\n",
    "\n",
    "import re\n",
    "p=r'(\\b\\w{4,}\\b)'\n",
    "s=input()\n",
    "a=re.findall(p,s)\n",
    "print(a)\n",
    "\n",
    "\n",
    "# looking out for words  starting or ending at x-- use \\b"
   ]
  },
  {
   "cell_type": "code",
   "execution_count": 54,
   "id": "8c61b73e",
   "metadata": {},
   "outputs": [
    {
     "name": "stdout",
     "output_type": "stream",
     "text": [
      "PythonExercises,PHPexercises.\n"
     ]
    }
   ],
   "source": [
    "import re\n",
    "text = 'Python Exercises, PHP exercises.'\n",
    "print(re.sub(\" +\", \"\", text))"
   ]
  },
  {
   "cell_type": "code",
   "execution_count": 59,
   "id": "11670654",
   "metadata": {},
   "outputs": [
    {
     "name": "stdout",
     "output_type": "stream",
     "text": [
      "\"Java \n",
      "[]\n"
     ]
    }
   ],
   "source": [
    "import re\n",
    "p=r'\"(.*)\"'\n",
    "s=input()\n",
    "a=re.findall(p,s)\n",
    "print(a)"
   ]
  },
  {
   "cell_type": "code",
   "execution_count": null,
   "id": "c41dbcb7",
   "metadata": {},
   "outputs": [],
   "source": []
  }
 ],
 "metadata": {
  "kernelspec": {
   "display_name": "Python 3 (ipykernel)",
   "language": "python",
   "name": "python3"
  },
  "language_info": {
   "codemirror_mode": {
    "name": "ipython",
    "version": 3
   },
   "file_extension": ".py",
   "mimetype": "text/x-python",
   "name": "python",
   "nbconvert_exporter": "python",
   "pygments_lexer": "ipython3",
   "version": "3.9.7"
  }
 },
 "nbformat": 4,
 "nbformat_minor": 5
}
