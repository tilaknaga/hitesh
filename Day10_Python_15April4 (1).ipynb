{
 "cells": [
  {
   "cell_type": "code",
   "execution_count": 5,
   "id": "ad63df2a",
   "metadata": {},
   "outputs": [
    {
     "name": "stdout",
     "output_type": "stream",
     "text": [
      "a\n",
      "adoYdE\n"
     ]
    },
    {
     "ename": "TypeError",
     "evalue": "'str' object doesn't support item deletion",
     "output_type": "error",
     "traceback": [
      "\u001b[1;31m---------------------------------------------------------------------------\u001b[0m",
      "\u001b[1;31mTypeError\u001b[0m                                 Traceback (most recent call last)",
      "Input \u001b[1;32mIn [5]\u001b[0m, in \u001b[0;36m<cell line: 8>\u001b[1;34m()\u001b[0m\n\u001b[0;32m      4\u001b[0m \u001b[38;5;28mprint\u001b[39m(a[::\u001b[38;5;241m-\u001b[39m\u001b[38;5;241m1\u001b[39m])\n\u001b[0;32m      5\u001b[0m \u001b[38;5;66;03m#a[0]=\"y\"\u001b[39;00m\n\u001b[0;32m      6\u001b[0m \u001b[38;5;66;03m#del-- delete the whole string\u001b[39;00m\n\u001b[0;32m      7\u001b[0m \u001b[38;5;66;03m#but cannot delete the members of string\u001b[39;00m\n\u001b[1;32m----> 8\u001b[0m \u001b[38;5;28;01mdel\u001b[39;00m a[\u001b[38;5;241m2\u001b[39m]\n\u001b[0;32m      9\u001b[0m \u001b[38;5;28mprint\u001b[39m(a)\n",
      "\u001b[1;31mTypeError\u001b[0m: 'str' object doesn't support item deletion"
     ]
    }
   ],
   "source": [
    "a=\"EdYoda\"\n",
    "print(a[-1])\n",
    "print(a[::-1])\n",
    "#a[0]=\"y\"\n",
    "#del-- delete the whole string\n",
    "#but cannot delete the members of string\n",
    "del a[2]\n",
    "#cannot delete or update the string members\n",
    "print(a)"
   ]
  },
  {
   "cell_type": "code",
   "execution_count": 6,
   "id": "cff65fc0",
   "metadata": {},
   "outputs": [
    {
     "name": "stdout",
     "output_type": "stream",
     "text": [
      "2315330384816\n",
      "2315330383856\n"
     ]
    }
   ],
   "source": [
    "s=\"Ed\"\n",
    "d=\"Yoda\"\n",
    "s=s+d\n",
    "print(id(s))\n",
    "print(id(d))"
   ]
  },
  {
   "cell_type": "code",
   "execution_count": 9,
   "id": "1ca65eca",
   "metadata": {},
   "outputs": [
    {
     "name": "stdout",
     "output_type": "stream",
     "text": [
      "INDIA\n",
      "INDIA\n"
     ]
    }
   ],
   "source": [
    "#upper function\n",
    "\n",
    "s=\"India\"#INDIA\n",
    "t=\"iNdIa\"\n",
    "print(s.upper())\n",
    "print(t.upper())"
   ]
  },
  {
   "cell_type": "code",
   "execution_count": 11,
   "id": "9a860089",
   "metadata": {},
   "outputs": [
    {
     "name": "stdout",
     "output_type": "stream",
     "text": [
      "india3455\n"
     ]
    }
   ],
   "source": [
    "#lower() function\n",
    "\n",
    "a=\"INDIA3455\"\n",
    "\n",
    "print(a.lower())"
   ]
  },
  {
   "cell_type": "code",
   "execution_count": 18,
   "id": "554f9455",
   "metadata": {},
   "outputs": [
    {
     "name": "stdout",
     "output_type": "stream",
     "text": [
      "False\n",
      "False\n",
      "True\n"
     ]
    }
   ],
   "source": [
    "#isalnum---tells whether it should have either numeric or alpha no symbols--__ ,/\n",
    "# ()*\n",
    "#isalpha----tells whether it should have only alpha\n",
    "p=\"123ut/\"\n",
    "print(p.isalnum())\n",
    "print(p.isalpha())\n",
    "z=\"123abc\"\n",
    "print(z.isalnum())"
   ]
  },
  {
   "cell_type": "code",
   "execution_count": 17,
   "id": "427d473c",
   "metadata": {},
   "outputs": [
    {
     "name": "stdout",
     "output_type": "stream",
     "text": [
      "True\n"
     ]
    }
   ],
   "source": [
    "p=\"53iusd\"\n",
    "print(p.isalnum())\n",
    "o=\"bbvBBYYYUUUsswa\"\n",
    "print(o.isalpha())"
   ]
  },
  {
   "cell_type": "code",
   "execution_count": 23,
   "id": "ee712cce",
   "metadata": {},
   "outputs": [
    {
     "name": "stdout",
     "output_type": "stream",
     "text": [
      "-9\n",
      "False\n"
     ]
    }
   ],
   "source": [
    "#isdigit----members should always be digits--(0-9)\n",
    "d=input()\n",
    "print(d.isdigit())\n",
    "#-9--- string two characters-- \"-\" and 9"
   ]
  },
  {
   "cell_type": "code",
   "execution_count": 25,
   "id": "8b176a19",
   "metadata": {},
   "outputs": [
    {
     "name": "stdout",
     "output_type": "stream",
     "text": [
      "True\n"
     ]
    }
   ],
   "source": [
    "a=\"Shivangi24\"\n",
    "print(a.isalnum())"
   ]
  },
  {
   "cell_type": "code",
   "execution_count": null,
   "id": "1f6d19ca",
   "metadata": {
    "scrolled": true
   },
   "outputs": [],
   "source": [
    "#islower--all members are in lower case or not(only considers alphabets)\n",
    "s=input()\n",
    "print(s.islower())"
   ]
  },
  {
   "cell_type": "code",
   "execution_count": null,
   "id": "98583a64",
   "metadata": {},
   "outputs": [],
   "source": []
  },
  {
   "cell_type": "code",
   "execution_count": 5,
   "id": "3b79f7eb",
   "metadata": {},
   "outputs": [
    {
     "name": "stdout",
     "output_type": "stream",
     "text": [
      "hhhhUiRRRsss\n",
      "False\n"
     ]
    }
   ],
   "source": [
    "#isupper()-all members are in upper case or not(only considers alphabets)\n",
    "\n",
    "w=input()\n",
    "print(w.isupper())"
   ]
  },
  {
   "cell_type": "code",
   "execution_count": 10,
   "id": "6a63f5db",
   "metadata": {},
   "outputs": [
    {
     "name": "stdout",
     "output_type": "stream",
     "text": [
      "VI\n",
      "False\n"
     ]
    }
   ],
   "source": [
    "#Roman , Hindi , Greek ---all numbers are identified here\n",
    "#digits are the subset of numerics\n",
    "#digits--0 to 9\n",
    "#numerics- number system in any language (Roman, Greek that is in Unicode)\n",
    "\n",
    "\n",
    "\n",
    "i=input()\n",
    "print(i.isnumeric())\n"
   ]
  },
  {
   "cell_type": "code",
   "execution_count": 2,
   "id": "d8ca28e3",
   "metadata": {
    "scrolled": true
   },
   "outputs": [
    {
     "name": "stdout",
     "output_type": "stream",
     "text": [
      "mumbai 900indians\n",
      "False\n",
      "Mumbai 900Indians\n"
     ]
    }
   ],
   "source": [
    "#istitle --whether first alphabet of the string is capital or not\n",
    "#title--convert into title case\n",
    "\n",
    "e=input()\n",
    "\n",
    "print(e.istitle())\n",
    "print(e.title())"
   ]
  },
  {
   "cell_type": "code",
   "execution_count": 4,
   "id": "2a3562f7",
   "metadata": {},
   "outputs": [
    {
     "name": "stdout",
     "output_type": "stream",
     "text": [
      "Ed98888Yoda\n",
      "eD98888yODA\n"
     ]
    }
   ],
   "source": [
    "#swapcase--changes the resp cases in a string\n",
    "\n",
    "n=input()\n",
    "print(n.swapcase())"
   ]
  },
  {
   "cell_type": "code",
   "execution_count": 10,
   "id": "e7c5b45d",
   "metadata": {},
   "outputs": [
    {
     "name": "stdout",
     "output_type": "stream",
     "text": [
      "ujjwal\n",
      "j\n",
      "2\n"
     ]
    }
   ],
   "source": [
    "#find--lowest index of occurence\n",
    "#str.find(sub, start, end)\n",
    "\n",
    "u=input()\n",
    "t=input()\n",
    "print(u.find(t,2,6))\n"
   ]
  },
  {
   "cell_type": "code",
   "execution_count": 12,
   "id": "4789f3a1",
   "metadata": {},
   "outputs": [
    {
     "name": "stdout",
     "output_type": "stream",
     "text": [
      "ujjwal\n",
      "s\n",
      "-1\n",
      "-1\n"
     ]
    }
   ],
   "source": [
    "#rfind----last/highest index of occurence\n",
    "u=input()\n",
    "t=input()\n",
    "print(u.find(t))\n",
    "print(u.rfind(t))\n"
   ]
  },
  {
   "cell_type": "code",
   "execution_count": 17,
   "id": "9f2acf2b",
   "metadata": {
    "scrolled": true
   },
   "outputs": [
    {
     "name": "stdout",
     "output_type": "stream",
     "text": [
      "--0986\n",
      "-\n",
      "2\n"
     ]
    }
   ],
   "source": [
    "#count()--counts the occurence\n",
    "\n",
    "l=input()\n",
    "k=input()\n",
    "print(l.count(k))"
   ]
  },
  {
   "cell_type": "code",
   "execution_count": 15,
   "id": "a4cdc0fe",
   "metadata": {},
   "outputs": [
    {
     "name": "stdout",
     "output_type": "stream",
     "text": [
      "ujjwal\n",
      "j\n",
      "2\n"
     ]
    }
   ],
   "source": [
    "s=input()\n",
    "g=input()\n",
    "print(s.count(g))"
   ]
  },
  {
   "cell_type": "code",
   "execution_count": 19,
   "id": "46b725b0",
   "metadata": {},
   "outputs": [
    {
     "name": "stdout",
     "output_type": "stream",
     "text": [
      "sagarsarkar\n",
      "u\n"
     ]
    },
    {
     "ename": "ValueError",
     "evalue": "substring not found",
     "output_type": "error",
     "traceback": [
      "\u001b[1;31m---------------------------------------------------------------------------\u001b[0m",
      "\u001b[1;31mValueError\u001b[0m                                Traceback (most recent call last)",
      "Input \u001b[1;32mIn [19]\u001b[0m, in \u001b[0;36m<cell line: 6>\u001b[1;34m()\u001b[0m\n\u001b[0;32m      3\u001b[0m q\u001b[38;5;241m=\u001b[39m\u001b[38;5;28minput\u001b[39m()\n\u001b[0;32m      4\u001b[0m w\u001b[38;5;241m=\u001b[39m\u001b[38;5;28minput\u001b[39m()\n\u001b[1;32m----> 6\u001b[0m \u001b[38;5;28mprint\u001b[39m(\u001b[43mq\u001b[49m\u001b[38;5;241;43m.\u001b[39;49m\u001b[43mindex\u001b[49m\u001b[43m(\u001b[49m\u001b[43mw\u001b[49m\u001b[43m)\u001b[49m)\n",
      "\u001b[1;31mValueError\u001b[0m: substring not found"
     ]
    }
   ],
   "source": [
    "#index-retirn the position of first occurence of string\n",
    "#find vs index---find gives -1 on being\n",
    "#not found and index gives error on being not found\n",
    "q=input()\n",
    "w=input()\n",
    "print(q.index(w))\n"
   ]
  },
  {
   "cell_type": "code",
   "execution_count": 26,
   "id": "f4fe92bf",
   "metadata": {},
   "outputs": [
    {
     "name": "stdout",
     "output_type": "stream",
     "text": [
      "/sagar///\n",
      "/\n",
      "True\n",
      "True\n"
     ]
    }
   ],
   "source": [
    "#endswith vs startwith\n",
    "\n",
    "#endswith---OP is true or false - based on test\n",
    "#startsswith---OP is true or false - based on test\n",
    "x=input()\n",
    "c=input()\n",
    "\n",
    "print(x.endswith(c,1,5))\n",
    "print(x.startswith(c,1,5))"
   ]
  },
  {
   "cell_type": "code",
   "execution_count": 29,
   "id": "d56034fd",
   "metadata": {},
   "outputs": [
    {
     "name": "stdout",
     "output_type": "stream",
     "text": [
      "mUMBAI iNDIANS\n",
      "Mumbai indians\n",
      "Mumbai Indians\n"
     ]
    }
   ],
   "source": [
    "#capitalize vs title\n",
    "\n",
    "s=input()\n",
    "print(s.capitalize())\n",
    "print(s.title())\n",
    "\n",
    "#capitalize\n",
    "ans=\"\"\n",
    "for i in range(len(s)):\n",
    "    \n",
    "    if(i==0):\n",
    "        ans=ans+s[i].upper()\n",
    "    else:\n",
    "        ans=ans+s[i].lower()\n",
    "print(ans)"
   ]
  },
  {
   "cell_type": "code",
   "execution_count": null,
   "id": "a65d4597",
   "metadata": {},
   "outputs": [],
   "source": []
  }
 ],
 "metadata": {
  "kernelspec": {
   "display_name": "Python 3 (ipykernel)",
   "language": "python",
   "name": "python3"
  },
  "language_info": {
   "codemirror_mode": {
    "name": "ipython",
    "version": 3
   },
   "file_extension": ".py",
   "mimetype": "text/x-python",
   "name": "python",
   "nbconvert_exporter": "python",
   "pygments_lexer": "ipython3",
   "version": "3.10.2"
  }
 },
 "nbformat": 4,
 "nbformat_minor": 5
}
