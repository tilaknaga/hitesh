{
 "cells": [
  {
   "cell_type": "code",
   "execution_count": 3,
   "id": "f2432400",
   "metadata": {},
   "outputs": [
    {
     "name": "stdout",
     "output_type": "stream",
     "text": [
      "(1, 2, [3, 4])\n",
      "(1, 2, [3, 4, 5])\n"
     ]
    }
   ],
   "source": [
    "t=(1,2,[3,4])\n",
    "print(t)\n",
    "t[2].append(5)\n",
    "#t[2]=[8,9]\n",
    "print(t)"
   ]
  },
  {
   "cell_type": "code",
   "execution_count": 6,
   "id": "0e2e3167",
   "metadata": {},
   "outputs": [
    {
     "name": "stdout",
     "output_type": "stream",
     "text": [
      "[1, 2, (8, 9)]\n",
      "[1, 2, (8, 9, 2, 3)]\n"
     ]
    }
   ],
   "source": [
    "l=[1,2,(8,9)]\n",
    "print(l)\n",
    "l[2]=l[2]+(2,3)\n",
    "print(l)"
   ]
  },
  {
   "cell_type": "code",
   "execution_count": 7,
   "id": "27ed6855",
   "metadata": {},
   "outputs": [
    {
     "name": "stdout",
     "output_type": "stream",
     "text": [
      "EdYOda\n",
      "6\n",
      "adOYdE\n"
     ]
    }
   ],
   "source": [
    "s=input()\n",
    "\n",
    "print(len(s))\n",
    "#len==4\n",
    "#0 1 2 3--3 2 1 0\n",
    "\n",
    "a=\"\"\n",
    "for i in range(len(s)-1,-1,-1):\n",
    "    a=a+s[i]\n",
    "    \n",
    "print(a)    \n",
    "\n",
    "\n"
   ]
  },
  {
   "cell_type": "code",
   "execution_count": 9,
   "id": "50a7e05f",
   "metadata": {},
   "outputs": [
    {
     "name": "stdout",
     "output_type": "stream",
     "text": [
      "50\n",
      "25\n",
      "25\n"
     ]
    }
   ],
   "source": [
    "n=int(input())\n",
    "odd=0\n",
    "even=0\n",
    "for i in range(1,n+1):\n",
    "  if(i%2!=0):  \n",
    "    \n",
    "    odd=odd+1\n",
    "  else:\n",
    "    even=even+1\n",
    "    \n",
    "print(odd)\n",
    "print(even)\n",
    "    "
   ]
  },
  {
   "cell_type": "code",
   "execution_count": 11,
   "id": "584ec2d6",
   "metadata": {},
   "outputs": [
    {
     "name": "stdout",
     "output_type": "stream",
     "text": [
      "1\n",
      "1\n",
      "2\n",
      "3\n",
      "5\n",
      "8\n",
      "13\n",
      "21\n",
      "34\n"
     ]
    }
   ],
   "source": [
    "#0 1 1 2 3 5 8.....50\n",
    "\n",
    "x,y=0,1\n",
    "#print(x)\n",
    "while y<50:\n",
    "\n",
    "    print(y)\n",
    "    x,y = y,x+y"
   ]
  },
  {
   "cell_type": "code",
   "execution_count": 13,
   "id": "c9c72277",
   "metadata": {},
   "outputs": [
    {
     "name": "stdout",
     "output_type": "stream",
     "text": [
      "0\n",
      "1\n",
      "1\n",
      "2\n",
      "3\n",
      "5\n",
      "8\n",
      "13\n",
      "21\n",
      "34\n"
     ]
    }
   ],
   "source": [
    "x,y=0,1\n",
    "print(x)\n",
    "while y<50:\n",
    "\n",
    "    print(y)\n",
    "    x,y = y,x+y"
   ]
  },
  {
   "cell_type": "code",
   "execution_count": null,
   "id": "503df91c",
   "metadata": {},
   "outputs": [],
   "source": [
    "Totalterms = int(input(\"How many terms? \"))\n",
    "\n",
    "a = 10\n",
    "b = 11\n",
    "num = 4\n",
    "\n",
    "if Totalterms <= 0:\n",
    "   print(\"Please enter a positive integer\")\n",
    "elif Totalterms == 1:\n",
    "   print(\"Fibonacci sequence upto\",Totalterms,\":\")\n",
    "   print(a)\n",
    "\n",
    "else:\n",
    "   print(\"Fibonacci sequence:\")\n",
    "   while num < Totalterms:\n",
    "       print(a)\n",
    "       z = a + b\n",
    "       \n",
    "       a = b\n",
    "       b = z\n",
    "       num += 1\n"
   ]
  },
  {
   "cell_type": "code",
   "execution_count": 15,
   "id": "327ceb1b",
   "metadata": {},
   "outputs": [
    {
     "name": "stdout",
     "output_type": "stream",
     "text": [
      "1 1 2 3 5 8 13 21 34 "
     ]
    }
   ],
   "source": [
    "a=0\n",
    "b=1\n",
    "print(b,end=' ')\n",
    "for i in range(2,10):\n",
    "    c=a+b\n",
    "    a=b\n",
    "    b=c\n",
    "    print(c,end=' ')\n",
    "    \n",
    "    \n",
    "\n",
    "    "
   ]
  },
  {
   "cell_type": "code",
   "execution_count": 1,
   "id": "ff22c80d",
   "metadata": {},
   "outputs": [
    {
     "name": "stdout",
     "output_type": "stream",
     "text": [
      "india\n",
      "**india***\n"
     ]
    }
   ],
   "source": [
    "#Center\n",
    "\n",
    "s=input()\n",
    "\n",
    "a=s.center(10,\"*\")\n",
    "\n",
    "print(a)\n",
    "\n"
   ]
  },
  {
   "cell_type": "code",
   "execution_count": 10,
   "id": "649ee6ce",
   "metadata": {},
   "outputs": [
    {
     "name": "stdout",
     "output_type": "stream",
     "text": [
      "gfib,geif.ibfi\n",
      "False\n"
     ]
    }
   ],
   "source": [
    "s=input()\n",
    "print(s.isidentifier())"
   ]
  },
  {
   "cell_type": "code",
   "execution_count": 15,
   "id": "6d01641e",
   "metadata": {
    "scrolled": true
   },
   "outputs": [
    {
     "name": "stdout",
     "output_type": "stream",
     "text": [
      "ohd\n",
      "0000000ohd\n"
     ]
    }
   ],
   "source": [
    "a=input()\n",
    "\n",
    "print(a.zfill(10))\n",
    "\n"
   ]
  },
  {
   "cell_type": "code",
   "execution_count": 25,
   "id": "7a2b5970",
   "metadata": {},
   "outputs": [
    {
     "name": "stdout",
     "output_type": "stream",
     "text": [
      "     tilak\n",
      "     tilak\n",
      "     tilak\n",
      "     tilak\n"
     ]
    }
   ],
   "source": [
    "s=input()\n",
    "print(s.strip(\"*\"))\n",
    "print(s.lstrip(\"*\"))\n",
    "print(s.rstrip(\"*\"))\n",
    "\n"
   ]
  },
  {
   "cell_type": "code",
   "execution_count": 21,
   "id": "d9a42e65",
   "metadata": {},
   "outputs": [
    {
     "name": "stdout",
     "output_type": "stream",
     "text": [
      "11\n",
      "1\n"
     ]
    }
   ],
   "source": [
    "s=input()\n",
    "result = s.rindex('1')\n",
    "print(result)"
   ]
  },
  {
   "cell_type": "code",
   "execution_count": 48,
   "id": "97005e44",
   "metadata": {},
   "outputs": [
    {
     "name": "stdout",
     "output_type": "stream",
     "text": [
      "Indiaskdhvgasdljvbdslvj\n",
      "Indiaskdhvgasdljvbdslvj\n",
      "Indiaskdhvgasdljvbdslvj\n",
      "Indiaskdhvgasdljvbdslvj\n"
     ]
    }
   ],
   "source": [
    "\n",
    "s=input()\n",
    "print(s.rjust(13,\"*\"))\n",
    "print(s.ljust(13,\"*\"))\n",
    "print(s.center(13,\"*\"))"
   ]
  },
  {
   "cell_type": "code",
   "execution_count": 51,
   "id": "4e06e91f",
   "metadata": {},
   "outputs": [
    {
     "name": "stdout",
     "output_type": "stream",
     "text": [
      "EdYOdaEducationEnterprises\n",
      "edYOdaeducationEnterprises\n"
     ]
    }
   ],
   "source": [
    "s=input()\n",
    "print(s.replace(\"E\", \"e\",2))"
   ]
  },
  {
   "cell_type": "code",
   "execution_count": 52,
   "id": "d66a5875",
   "metadata": {},
   "outputs": [
    {
     "name": "stdout",
     "output_type": "stream",
     "text": [
      "('pawan ', 'is ', 'a good')\n",
      "('pawan is a good', '', '')\n"
     ]
    }
   ],
   "source": [
    "string = \"pawan is a good\"\n",
    "\n",
    "# 'is' separator is found\n",
    "print(string.partition('is '))\n",
    "\n",
    "# 'not' separator is not found\n",
    "print(string.partition('bad '))"
   ]
  },
  {
   "cell_type": "code",
   "execution_count": null,
   "id": "3739a8e8",
   "metadata": {},
   "outputs": [],
   "source": []
  }
 ],
 "metadata": {
  "kernelspec": {
   "display_name": "Python 3 (ipykernel)",
   "language": "python",
   "name": "python3"
  },
  "language_info": {
   "codemirror_mode": {
    "name": "ipython",
    "version": 3
   },
   "file_extension": ".py",
   "mimetype": "text/x-python",
   "name": "python",
   "nbconvert_exporter": "python",
   "pygments_lexer": "ipython3",
   "version": "3.9.7"
  }
 },
 "nbformat": 4,
 "nbformat_minor": 5
}
