{
 "cells": [
  {
   "cell_type": "code",
   "execution_count": 3,
   "id": "28e7cf15",
   "metadata": {},
   "outputs": [
    {
     "name": "stdout",
     "output_type": "stream",
     "text": [
      "3\n"
     ]
    }
   ],
   "source": [
    "#Q9\n",
    "nums = [3,2,1,5,4]\n",
    "k = 2\n",
    "c=0\n",
    "for i in range(len(nums)):\n",
    "    for j in range(i+1,len(nums)):\n",
    "        if(abs(nums[i]-nums[j])==k):\n",
    "            c=c+1            \n",
    "print(c)            "
   ]
  },
  {
   "cell_type": "code",
   "execution_count": 6,
   "id": "fe8746b3",
   "metadata": {},
   "outputs": [
    {
     "name": "stdout",
     "output_type": "stream",
     "text": [
      "abcd\n"
     ]
    }
   ],
   "source": [
    "#Q12\n",
    "\n",
    "word = \"abcd\"\n",
    "ch = \"z\"\n",
    "a=word.find(ch)\n",
    "if(a==-1):\n",
    "    print(word)\n",
    "else:\n",
    "    os=word[:a+1][::-1]+word[a+1:]\n",
    "    print(os)"
   ]
  },
  {
   "cell_type": "code",
   "execution_count": 12,
   "id": "2571aee5",
   "metadata": {},
   "outputs": [
    {
     "name": "stdout",
     "output_type": "stream",
     "text": [
      "['leet', 'code', 'trrrr']\n",
      "['e']\n",
      "1\n"
     ]
    }
   ],
   "source": [
    "#Q13\n",
    "\n",
    "text = \"leet code trrrr\"\n",
    "brokenLetters = \"e\"\n",
    "#A1\n",
    "lb=list(brokenLetters)\n",
    "lw=text.split(\" \")\n",
    "print(lw)\n",
    "print(lb)\n",
    "c=0\n",
    "for i in lw:\n",
    "    if(set(i).intersection(set(brokenLetters))):\n",
    "        pass\n",
    "    else:\n",
    "        c=c+1\n",
    "print(c)        \n"
   ]
  },
  {
   "cell_type": "code",
   "execution_count": 17,
   "id": "2591f006",
   "metadata": {},
   "outputs": [
    {
     "name": "stdout",
     "output_type": "stream",
     "text": [
      "['sunset', 'is', 'at', '7', '51', 'pm', 'overnight', 'lows', 'will', 'be', 'in', 'the', 'low', '50', 'and', '60', 's']\n",
      "[7, 51, 50, 60]\n",
      "False\n"
     ]
    }
   ],
   "source": [
    "#Q14\n",
    "\n",
    "s = \"sunset is at 7 51 pm overnight lows will be in the low 50 and 60 s\"\n",
    "\n",
    "sl=s.split(\" \")\n",
    "print(sl)\n",
    "nl=[]\n",
    "for i in sl:\n",
    "    if(i.isnumeric()):\n",
    "        nl.append(int(i))\n",
    "print(nl)        \n",
    "if(nl==sorted(nl)):\n",
    "    print(\"True\")\n",
    "else:\n",
    "    print(\"False\")    "
   ]
  },
  {
   "cell_type": "code",
   "execution_count": 18,
   "id": "b113dd7d",
   "metadata": {},
   "outputs": [
    {
     "name": "stdout",
     "output_type": "stream",
     "text": [
      "a\n"
     ]
    }
   ],
   "source": [
    "#Q15\n",
    "\n",
    "arr = [\"d\",\"b\",\"c\",\"b\",\"c\",\"a\"]\n",
    "k = 2\n",
    "u=[]\n",
    "for i in arr:\n",
    "    if(arr.count(i)==1):\n",
    "        u.append(i)\n",
    "print(u[k-1])        "
   ]
  },
  {
   "cell_type": "code",
   "execution_count": 19,
   "id": "0ea6c788",
   "metadata": {},
   "outputs": [
    {
     "name": "stdout",
     "output_type": "stream",
     "text": [
      "4\n"
     ]
    }
   ],
   "source": [
    "#Q9\n",
    "\n",
    "arr = [3,0,1,1,9,7]\n",
    "a = 7\n",
    "b = 2\n",
    "c = 3\n",
    "d=0\n",
    "for i in range(len(arr)):\n",
    "    for j in range(i+1,len(arr)):\n",
    "        for k in range(j+1,len(arr)):\n",
    "            if(abs(arr[i] - arr[j])<= a and abs(arr[j] - arr[k])<= b and abs(arr[i] - arr[k])<= c):\n",
    "                d=d+1\n",
    "print(d)                "
   ]
  },
  {
   "cell_type": "code",
   "execution_count": null,
   "id": "821b48b2",
   "metadata": {},
   "outputs": [],
   "source": []
  }
 ],
 "metadata": {
  "kernelspec": {
   "display_name": "Python 3 (ipykernel)",
   "language": "python",
   "name": "python3"
  },
  "language_info": {
   "codemirror_mode": {
    "name": "ipython",
    "version": 3
   },
   "file_extension": ".py",
   "mimetype": "text/x-python",
   "name": "python",
   "nbconvert_exporter": "python",
   "pygments_lexer": "ipython3",
   "version": "3.10.2"
  }
 },
 "nbformat": 4,
 "nbformat_minor": 5
}
