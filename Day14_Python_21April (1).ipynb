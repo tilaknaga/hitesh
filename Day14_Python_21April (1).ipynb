{
 "cells": [
  {
   "cell_type": "code",
   "execution_count": 7,
   "id": "59a427c5",
   "metadata": {},
   "outputs": [
    {
     "name": "stdout",
     "output_type": "stream",
     "text": [
      "1818195200064 {1: 2, 2: 3}\n",
      "1818195202944 {1: 2, 2: 3}\n",
      "{}\n",
      "2\n",
      "{2: 3}\n"
     ]
    }
   ],
   "source": [
    "#dictionary Buiultin functions\n",
    "\n",
    "d={1:2,2:3}\n",
    "print(id(d),d)\n",
    "d2=d.copy()\n",
    "\n",
    "print(id(d2),d2)\n",
    "\n",
    "#clear function\n",
    "\n",
    "d2.clear()\n",
    "#clear vs del---clear empties the dict and del deletes the dict\n",
    "print(d2)\n",
    "\n",
    "\n",
    "\n"
   ]
  },
  {
   "cell_type": "code",
   "execution_count": 13,
   "id": "678b2e00",
   "metadata": {},
   "outputs": [
    {
     "name": "stdout",
     "output_type": "stream",
     "text": [
      "2\n",
      "{5: 6, 7: 8}\n",
      "Key not found\n",
      "{5: 6, 7: 8}\n",
      "(7, 8)\n",
      "{5: 6}\n",
      "(10, 11)\n",
      "{5: 6}\n"
     ]
    }
   ],
   "source": [
    "#pop and popitem\n",
    "\n",
    "d={1:2,5:6,7:8}\n",
    "ans=d.pop(1)\n",
    "print(ans)\n",
    "print(d)\n",
    "ans2=d.pop(9,\"Key not found\")\n",
    "print(ans2)\n",
    "print(d)\n",
    "#ans3=d.pop(10)\n",
    "#print(ans3)\n",
    "#print(d)\n",
    "ans3=d.popitem()\n",
    "print(ans3)\n",
    "print(d)\n",
    "\n",
    "d[10]=11\n",
    "ans4=d.popitem()\n",
    "print(ans4)\n",
    "print(d)\n",
    "\n"
   ]
  },
  {
   "cell_type": "code",
   "execution_count": 15,
   "id": "2416ea50",
   "metadata": {},
   "outputs": [
    {
     "name": "stdout",
     "output_type": "stream",
     "text": [
      "(7, 8)\n",
      "{1: 2, 5: 6}\n",
      "new dict {1: 2, 5: 6, 10: 11}\n",
      "(10, 11)\n",
      "{1: 2, 5: 6}\n"
     ]
    }
   ],
   "source": [
    "d={1:2,5:6,7:8}\n",
    "\n",
    "ans3=d.popitem()\n",
    "print(ans3)\n",
    "print(d)\n",
    "\n",
    "d[10]=11\n",
    "print(\"new dict\",d)\n",
    "ans4=d.popitem()\n",
    "print(ans4)\n",
    "print(d)\n"
   ]
  },
  {
   "cell_type": "code",
   "execution_count": 22,
   "id": "b9ddc599",
   "metadata": {},
   "outputs": [
    {
     "name": "stdout",
     "output_type": "stream",
     "text": [
      "0\n"
     ]
    }
   ],
   "source": [
    "d={1:2,5:6,7:8}\n",
    "\n",
    "#print(d[8])# error if key not found\n",
    "print(d.get(8,0))#none if key not found also custime value possible to return"
   ]
  },
  {
   "cell_type": "code",
   "execution_count": 27,
   "id": "622a95cb",
   "metadata": {},
   "outputs": [
    {
     "name": "stdout",
     "output_type": "stream",
     "text": [
      "<class 'dict_values'>\n"
     ]
    }
   ],
   "source": [
    "dictionary = {\"raj\": 2, \"striver\": 3, \"vikram\": 4,\"Sagar\":6}\n",
    "print(type(dictionary.values()))"
   ]
  },
  {
   "cell_type": "code",
   "execution_count": 30,
   "id": "2f6e15b7",
   "metadata": {},
   "outputs": [
    {
     "ename": "AttributeError",
     "evalue": "'dict' object has no attribute 'value'",
     "output_type": "error",
     "traceback": [
      "\u001b[1;31m---------------------------------------------------------------------------\u001b[0m",
      "\u001b[1;31mAttributeError\u001b[0m                            Traceback (most recent call last)",
      "Input \u001b[1;32mIn [30]\u001b[0m, in \u001b[0;36m<cell line: 2>\u001b[1;34m()\u001b[0m\n\u001b[0;32m      1\u001b[0m dic\u001b[38;5;241m=\u001b[39m{\u001b[38;5;124m\"\u001b[39m\u001b[38;5;124mram\u001b[39m\u001b[38;5;124m\"\u001b[39m:\u001b[38;5;241m18\u001b[39m,\u001b[38;5;124m\"\u001b[39m\u001b[38;5;124msatveer\u001b[39m\u001b[38;5;124m\"\u001b[39m:\u001b[38;5;241m1\u001b[39m, \u001b[38;5;124m\"\u001b[39m\u001b[38;5;124mviraj\u001b[39m\u001b[38;5;124m\"\u001b[39m:\u001b[38;5;241m5\u001b[39m, \u001b[38;5;124m\"\u001b[39m\u001b[38;5;124mrahul\u001b[39m\u001b[38;5;124m\"\u001b[39m:\u001b[38;5;241m15\u001b[39m}\n\u001b[1;32m----> 2\u001b[0m \u001b[38;5;28mprint\u001b[39m(\u001b[38;5;28mtype\u001b[39m(\u001b[43mdic\u001b[49m\u001b[38;5;241;43m.\u001b[39;49m\u001b[43mvalue\u001b[49m()))\n",
      "\u001b[1;31mAttributeError\u001b[0m: 'dict' object has no attribute 'value'"
     ]
    }
   ],
   "source": [
    "dic={\"ram\":18,\"satveer\":1, \"viraj\":5, \"rahul\":15}\n",
    "print(type(dic.value()))\n"
   ]
  },
  {
   "cell_type": "code",
   "execution_count": 34,
   "id": "e826b6ed",
   "metadata": {},
   "outputs": [
    {
     "name": "stdout",
     "output_type": "stream",
     "text": [
      "Original Dictionary:\n",
      "{'A': 'India', 'B': 'Nepal', 'C': 'Bangladesh'}\n",
      "Dictionary after updation:\n",
      "{'A': 'Pakistan', 'B': 'AUstralia', 'C': 'Bangladesh'}\n",
      "{'A': 'Pakistan', 'B': 'AUstralia', 'C': 'Sri Lanka'}\n"
     ]
    }
   ],
   "source": [
    "Dictionary1 = {'A': 'India', 'B': 'Nepal','C':\"Bangladesh\" }\n",
    "Dictionary2 = {'B': 'AUstralia','A':'Pakistan'}\n",
    "# Dictionary before Updation\n",
    "print(\"Original Dictionary:\")\n",
    "print(Dictionary1)\n",
    "# update the value of key 'B'\n",
    "Dictionary1.update(Dictionary2)\n",
    "print(\"Dictionary after updation:\")\n",
    "print(Dictionary1)\n",
    "Dictionary1['C']=\"Sri Lanka\"\n",
    "print(Dictionary1)"
   ]
  },
  {
   "cell_type": "code",
   "execution_count": 47,
   "id": "9bacd6c4",
   "metadata": {
    "scrolled": false
   },
   "outputs": [
    {
     "name": "stdout",
     "output_type": "stream",
     "text": [
      "A Geeks\n",
      "B For\n",
      "C Geeks\n",
      "Geeks\n",
      "For\n",
      "Geeks\n",
      "A   Geeks\n",
      "B   For\n",
      "C   Geeks\n"
     ]
    },
    {
     "ename": "AttributeError",
     "evalue": "'dict' object has no attribute 'haskey'",
     "output_type": "error",
     "traceback": [
      "\u001b[1;31m---------------------------------------------------------------------------\u001b[0m",
      "\u001b[1;31mAttributeError\u001b[0m                            Traceback (most recent call last)",
      "Input \u001b[1;32mIn [47]\u001b[0m, in \u001b[0;36m<cell line: 11>\u001b[1;34m()\u001b[0m\n\u001b[0;32m      8\u001b[0m \u001b[38;5;28;01mfor\u001b[39;00m i,j \u001b[38;5;129;01min\u001b[39;00m Dictionary1\u001b[38;5;241m.\u001b[39mitems():\n\u001b[0;32m      9\u001b[0m     \u001b[38;5;28mprint\u001b[39m(i,\u001b[38;5;124m\"\u001b[39m\u001b[38;5;124m \u001b[39m\u001b[38;5;124m\"\u001b[39m,j)\n\u001b[1;32m---> 11\u001b[0m \u001b[38;5;28mprint\u001b[39m(\u001b[43mDictionary1\u001b[49m\u001b[38;5;241;43m.\u001b[39;49m\u001b[43mhaskey\u001b[49m(\u001b[38;5;124m'\u001b[39m\u001b[38;5;124mA\u001b[39m\u001b[38;5;124m'\u001b[39m))\n",
      "\u001b[1;31mAttributeError\u001b[0m: 'dict' object has no attribute 'haskey'"
     ]
    }
   ],
   "source": [
    "Dictionary1 = {'A': 'Geeks', 'B': 'For', 'C': 'Geeks'}\n",
    "\n",
    "# Printing keys of dictionary\n",
    "for i in Dictionary1.keys():\n",
    "    print(i,Dictionary1[i])\n",
    "for i in Dictionary1.values():\n",
    "    print(i)   \n",
    "for i,j in Dictionary1.items():\n",
    "    print(i,\" \",j)\n",
    "    \n",
    "print(Dictionary1.haskey('A'))"
   ]
  },
  {
   "cell_type": "code",
   "execution_count": 46,
   "id": "088cd841",
   "metadata": {},
   "outputs": [
    {
     "name": "stdout",
     "output_type": "stream",
     "text": [
      "Dictionary to be checked: \n",
      "{'A': 'Geeks', 'B': 'For', 'C': 'Geeks'}\n"
     ]
    },
    {
     "ename": "AttributeError",
     "evalue": "'dict' object has no attribute 'has_key'",
     "output_type": "error",
     "traceback": [
      "\u001b[1;31m---------------------------------------------------------------------------\u001b[0m",
      "\u001b[1;31mAttributeError\u001b[0m                            Traceback (most recent call last)",
      "Input \u001b[1;32mIn [46]\u001b[0m, in \u001b[0;36m<cell line: 9>\u001b[1;34m()\u001b[0m\n\u001b[0;32m      5\u001b[0m \u001b[38;5;28mprint\u001b[39m(Dictionary1)\n\u001b[0;32m      7\u001b[0m \u001b[38;5;66;03m# Use of has_key() to check\u001b[39;00m\n\u001b[0;32m      8\u001b[0m \u001b[38;5;66;03m# for presence of a key in Dictionary\u001b[39;00m\n\u001b[1;32m----> 9\u001b[0m \u001b[38;5;28mprint\u001b[39m(\u001b[43mDictionary1\u001b[49m\u001b[38;5;241;43m.\u001b[39;49m\u001b[43mhas_key\u001b[49m(\u001b[38;5;124m'\u001b[39m\u001b[38;5;124mA\u001b[39m\u001b[38;5;124m'\u001b[39m))\n\u001b[0;32m     10\u001b[0m \u001b[38;5;28mprint\u001b[39m(Dictionary1\u001b[38;5;241m.\u001b[39mhas_key(\u001b[38;5;124m'\u001b[39m\u001b[38;5;124mFor\u001b[39m\u001b[38;5;124m'\u001b[39m))\n",
      "\u001b[1;31mAttributeError\u001b[0m: 'dict' object has no attribute 'has_key'"
     ]
    }
   ],
   "source": [
    "Dictionary1 = {'A': 'Geeks', 'B': 'For', 'C': 'Geeks'}\n",
    "\n",
    "# Dictionary to be checked\n",
    "print(\"Dictionary to be checked: \")\n",
    "print(Dictionary1)\n",
    "\n",
    "# Use of has_key() to check\n",
    "# for presence of a key in Dictionary\n",
    "print(Dictionary1.has_key('A'))\n",
    "print(Dictionary1.has_key('For'))"
   ]
  },
  {
   "cell_type": "code",
   "execution_count": 51,
   "id": "34d27e35",
   "metadata": {},
   "outputs": [
    {
     "name": "stdout",
     "output_type": "stream",
     "text": [
      "{'E': None, 'd': None, 'Y': None, 'o': None, 'a': None}\n"
     ]
    }
   ],
   "source": [
    "#job is to change my list of values into key and some values\n",
    "#list of students--convert into dictionary of student:marks before evaluation\n",
    "\n",
    "l=\"EdYoda\"#keys\n",
    "#values-- some constant values later in change it\n",
    "a=dict.fromkeys(l,0)\n",
    "print(a)"
   ]
  },
  {
   "cell_type": "code",
   "execution_count": 53,
   "id": "30675f17",
   "metadata": {},
   "outputs": [
    {
     "name": "stdout",
     "output_type": "stream",
     "text": [
      "{('Shambhavi', 56), ('Nikhil', 90), ('Astha', 78), ('Manjeet', 40)}\n"
     ]
    }
   ],
   "source": [
    "name = [ \"Manjeet\", \"Nikhil\", \"Shambhavi\", \"Astha\" ]\n",
    "roll_no = [ 40, 90, 56, 78 ]\n",
    "\n",
    "# using zip() to map values\n",
    "mapped = zip(name, roll_no)\n",
    "\n",
    "print(set(mapped))\n"
   ]
  },
  {
   "cell_type": "code",
   "execution_count": 60,
   "id": "0b33f0d3",
   "metadata": {},
   "outputs": [
    {
     "name": "stdout",
     "output_type": "stream",
     "text": [
      "{1, 3.24, 'India'}\n",
      "{2, 3, 4, 44, 56}\n",
      "set() <class 'set'>\n"
     ]
    }
   ],
   "source": [
    "#Set\n",
    "\n",
    "s={1,\"India\",3.24}\n",
    "print(s)\n",
    "\n",
    "l=[2,3,44,2,4,56]\n",
    "\n",
    "s=set(l)\n",
    "print(s)\n",
    "\n",
    "a=set()\n",
    "d={}#emptydict\n",
    "e=set()#emptyset\n",
    "q={1,2}#non emptyset\n",
    "w={1:2,3:4}#non empty dict\n",
    "print(a,type(a))"
   ]
  },
  {
   "cell_type": "code",
   "execution_count": 61,
   "id": "303efd60",
   "metadata": {},
   "outputs": [
    {
     "name": "stdout",
     "output_type": "stream",
     "text": [
      "{'USA', 1, 3.24, 'India'}\n"
     ]
    }
   ],
   "source": [
    "s={1,\"India\",3.24}\n",
    "\n",
    "s.add(\"USA\")\n",
    "\n",
    "print(s)"
   ]
  },
  {
   "cell_type": "code",
   "execution_count": 62,
   "id": "939f2786",
   "metadata": {},
   "outputs": [
    {
     "name": "stdout",
     "output_type": "stream",
     "text": [
      "{1, 3, 5, 7, 9}\n"
     ]
    }
   ],
   "source": [
    "#add the numbers odd numbers from 1  to 10 into a set\n",
    "\n",
    "a=set()\n",
    "for i in range(1,11):\n",
    "    if(i%2!=0):\n",
    "        a.add(i)\n",
    "        \n",
    "print(a)        "
   ]
  },
  {
   "cell_type": "code",
   "execution_count": 67,
   "id": "670cb570",
   "metadata": {},
   "outputs": [
    {
     "name": "stdout",
     "output_type": "stream",
     "text": [
      "{1, 2, 4, 5, 6, 7, 8} {1, 2, 4, 5, 6, 7, 8}\n",
      "{4, 5, 7} {4, 5, 7}\n",
      "{8, 1}\n",
      "{8, 1}\n",
      "{2, 6}\n",
      "{2, 6}\n",
      "set()\n"
     ]
    }
   ],
   "source": [
    "a={1,4,5,7,8}#1,8-2,6==1,8\n",
    "b={2,4,5,6,7}\n",
    "\n",
    "c=a.union(b)#sames as b.union(a)\n",
    "d=a|b\n",
    "print(c,d)\n",
    "\n",
    "e=a.intersection(b)#same as a.inter(a) \n",
    "f=a&b\n",
    "\n",
    "print(e,f)\n",
    "#a-b ==b-a\n",
    "\n",
    "print(a-b)\n",
    "print(a.difference(b))\n",
    "print(b-a)\n",
    "print(b.difference(a))\n",
    "a.clear()\n",
    "print(a)\n",
    "#subset and superset"
   ]
  },
  {
   "cell_type": "code",
   "execution_count": 74,
   "id": "912fb4fa",
   "metadata": {},
   "outputs": [
    {
     "name": "stdout",
     "output_type": "stream",
     "text": [
      "True\n",
      "True\n",
      "True\n",
      "{2, 3, 4, 9, 18}\n"
     ]
    }
   ],
   "source": [
    "#subset and superset\n",
    "\n",
    "A={5,10,15,20}\n",
    "B={10,20}\n",
    "C={10,10,20,20}\n",
    "D={9,18}\n",
    "\n",
    "print(B<A)\n",
    "print(B==C)\n",
    "print(A.isdisjoint(D))\n",
    "D.update([2, 3, 4])\n",
    "print(D)"
   ]
  },
  {
   "cell_type": "code",
   "execution_count": 80,
   "id": "eaea9ad8",
   "metadata": {
    "scrolled": true
   },
   "outputs": [
    {
     "name": "stdout",
     "output_type": "stream",
     "text": [
      "{20, 5, 15}\n",
      "{20, 5, 15}\n",
      "{20, 5}\n"
     ]
    },
    {
     "ename": "KeyError",
     "evalue": "0",
     "output_type": "error",
     "traceback": [
      "\u001b[1;31m---------------------------------------------------------------------------\u001b[0m",
      "\u001b[1;31mKeyError\u001b[0m                                  Traceback (most recent call last)",
      "Input \u001b[1;32mIn [80]\u001b[0m, in \u001b[0;36m<cell line: 8>\u001b[1;34m()\u001b[0m\n\u001b[0;32m      6\u001b[0m A\u001b[38;5;241m.\u001b[39mremove(\u001b[38;5;241m15\u001b[39m)\n\u001b[0;32m      7\u001b[0m \u001b[38;5;28mprint\u001b[39m(A)\n\u001b[1;32m----> 8\u001b[0m \u001b[43mA\u001b[49m\u001b[38;5;241;43m.\u001b[39;49m\u001b[43mremove\u001b[49m\u001b[43m(\u001b[49m\u001b[38;5;241;43m0\u001b[39;49m\u001b[43m)\u001b[49m\n\u001b[0;32m      9\u001b[0m \u001b[38;5;28mprint\u001b[39m(A)\n",
      "\u001b[1;31mKeyError\u001b[0m: 0"
     ]
    }
   ],
   "source": [
    "A={5,10,15,20}\n",
    "A.discard(10)\n",
    "print(A)\n",
    "A.discard(4)\n",
    "print(A)\n",
    "A.remove(15)\n",
    "print(A)\n",
    "A.remove(0)\n",
    "print(A)"
   ]
  },
  {
   "cell_type": "code",
   "execution_count": null,
   "id": "6bf21bd2",
   "metadata": {},
   "outputs": [],
   "source": []
  }
 ],
 "metadata": {
  "kernelspec": {
   "display_name": "Python 3 (ipykernel)",
   "language": "python",
   "name": "python3"
  },
  "language_info": {
   "codemirror_mode": {
    "name": "ipython",
    "version": 3
   },
   "file_extension": ".py",
   "mimetype": "text/x-python",
   "name": "python",
   "nbconvert_exporter": "python",
   "pygments_lexer": "ipython3",
   "version": "3.9.7"
  }
 },
 "nbformat": 4,
 "nbformat_minor": 5
}
