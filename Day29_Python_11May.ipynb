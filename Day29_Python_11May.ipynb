{
 "cells": [
  {
   "cell_type": "code",
   "execution_count": 3,
   "id": "d76bab09",
   "metadata": {},
   "outputs": [
    {
     "name": "stdout",
     "output_type": "stream",
     "text": [
      "This is A\n"
     ]
    }
   ],
   "source": [
    "class A():\n",
    "  def d(self):\n",
    "    print(\"This is A\")\n",
    "\n",
    "class B(A):\n",
    "  def d(self):\n",
    "    print(\"this is B\")\n",
    "\n",
    "class C(A):\n",
    "  def d(self):\n",
    "    print(\"this is C\")\n",
    "    \n",
    "a1=A()\n",
    "\n",
    "a1.d()"
   ]
  },
  {
   "cell_type": "code",
   "execution_count": 6,
   "id": "6bff3320",
   "metadata": {},
   "outputs": [
    {
     "name": "stdout",
     "output_type": "stream",
     "text": [
      "I can walk and run\n"
     ]
    }
   ],
   "source": [
    "# Python program showing\n",
    "# abstract class cannot\n",
    "# be an instantiation\n",
    "from abc import ABC,abstractmethod\n",
    "\n",
    "class Animal(ABC):\n",
    "\t@abstractmethod\n",
    "\tdef move(self):\n",
    "\t\tpass\n",
    "class Human(Animal):\n",
    "\tdef move(self):\n",
    "\t\tprint(\"I can walk and run\")\n",
    "\n",
    "class Snake(Animal):\n",
    "\tdef move(self):\n",
    "\t\tprint(\"I can crawl\")\n",
    "\n",
    "class Dog(Animal):\n",
    "\tdef move(self):\n",
    "\t\tprint(\"I can bark\")\n",
    "\n",
    "class Lion(Animal):\n",
    "\tdef move(self):\n",
    "\t\tprint(\"I can roar\")\n",
    "\n",
    "#c=Animal()\n",
    "b=Human()\n",
    "b.move()"
   ]
  },
  {
   "cell_type": "code",
   "execution_count": 9,
   "id": "e53af9f2",
   "metadata": {},
   "outputs": [
    {
     "name": "stdout",
     "output_type": "stream",
     "text": [
      "[<class '__main__.A'>, <class 'object'>]\n",
      "[<class '__main__.B'>, <class '__main__.A'>, <class 'object'>]\n",
      "[<class '__main__.C'>, <class '__main__.A'>, <class 'object'>]\n",
      "[<class '__main__.D'>, <class '__main__.B'>, <class '__main__.C'>, <class '__main__.A'>, <class 'object'>]\n"
     ]
    }
   ],
   "source": [
    "class A():\n",
    " pass\n",
    "class B(A):\n",
    " pass\n",
    "class C(A):\n",
    " pass\n",
    "class D(B,C):\n",
    " pass\n",
    "print(A.mro())\n",
    "print(B.mro())\n",
    "print(C.mro())\n",
    "print(D.mro())\n"
   ]
  },
  {
   "cell_type": "code",
   "execution_count": 12,
   "id": "9445284d",
   "metadata": {},
   "outputs": [
    {
     "name": "stdout",
     "output_type": "stream",
     "text": [
      "[<class '__main__.P'>, <class '__main__.X'>, <class '__main__.A'>, <class '__main__.Y'>, <class '__main__.B'>, <class '__main__.C'>, <class 'object'>]\n",
      "[<class '__main__.X'>, <class '__main__.A'>, <class '__main__.B'>, <class 'object'>]\n",
      "[<class '__main__.Y'>, <class '__main__.B'>, <class '__main__.C'>, <class 'object'>]\n"
     ]
    }
   ],
   "source": [
    "class A():\n",
    " pass\n",
    "class B():\n",
    " pass\n",
    "class C():\n",
    " pass\n",
    "class X(A,B):\n",
    " pass\n",
    "class Y(B,C):\n",
    " pass\n",
    "class P(X,Y,C):\n",
    " pass\n",
    "\n",
    "print(P.mro())\n",
    "print(X.mro())\n",
    "print(Y.mro())\n",
    "\n"
   ]
  },
  {
   "cell_type": "code",
   "execution_count": 15,
   "id": "bb6db99c",
   "metadata": {},
   "outputs": [
    {
     "name": "stdout",
     "output_type": "stream",
     "text": [
      "30\n"
     ]
    }
   ],
   "source": [
    "class A:\n",
    "    def __init__(self):\n",
    "        self.multiple(15)\n",
    "        print(self.i)\n",
    "        \n",
    "    def multiple(self,i):\n",
    "        self.i=4*i;\n",
    "\n",
    "class B(A):\n",
    "    def __init__(self):\n",
    "        super().__init__()\n",
    "    \n",
    "    def multiple(self,i):\n",
    "        self.i=2*i;\n",
    "    \n",
    "\n",
    "obj=B()\n",
    "    \n"
   ]
  },
  {
   "cell_type": "code",
   "execution_count": 16,
   "id": "0c797662",
   "metadata": {},
   "outputs": [
    {
     "name": "stdout",
     "output_type": "stream",
     "text": [
      "Demo check\n",
      "derived check\n"
     ]
    }
   ],
   "source": [
    "class Demo:\n",
    "    def check(self):\n",
    "        return \"Demo check\"\n",
    "    def display(self):\n",
    "        print(self.check())\n",
    "class Demo_derived(Demo):\n",
    "    def check(self):\n",
    "        return \"derived check\"\n",
    "Demo().display()\n",
    "Demo_derived().display()"
   ]
  },
  {
   "cell_type": "code",
   "execution_count": 17,
   "id": "04356caa",
   "metadata": {},
   "outputs": [
    {
     "name": "stdout",
     "output_type": "stream",
     "text": [
      "True\n"
     ]
    }
   ],
   "source": [
    "class A:\n",
    "    def __init__(self,x,y):\n",
    "        self.x=x\n",
    "        self.y=y\n",
    "    def __str__(self):\n",
    "        return 1\n",
    "    def __eq__(self,other):\n",
    "        return self.x * self.y == other.x * other.y\n",
    "    \n",
    "obj1=A(5,2)\n",
    "obj2=A(2,5)\n",
    "print(obj1 == obj2)\n",
    "    \n",
    "    "
   ]
  },
  {
   "cell_type": "code",
   "execution_count": 19,
   "id": "ea88755b",
   "metadata": {},
   "outputs": [
    {
     "name": "stdout",
     "output_type": "stream",
     "text": [
      "It costs you total 900INR hwhd\n"
     ]
    }
   ],
   "source": [
    "x=900\n",
    "\n",
    "print(f\"It costs you total {x}INR \")"
   ]
  },
  {
   "cell_type": "code",
   "execution_count": 1,
   "id": "476182a7",
   "metadata": {},
   "outputs": [
    {
     "ename": "NameError",
     "evalue": "name 'foo' is not defined",
     "output_type": "error",
     "traceback": [
      "\u001b[1;31m---------------------------------------------------------------------------\u001b[0m",
      "\u001b[1;31mNameError\u001b[0m                                 Traceback (most recent call last)",
      "\u001b[1;32m~\\AppData\\Local\\Temp/ipykernel_7152/1565822859.py\u001b[0m in \u001b[0;36m<module>\u001b[1;34m\u001b[0m\n\u001b[1;32m----> 1\u001b[1;33m \u001b[0mf\u001b[0m \u001b[1;33m=\u001b[0m \u001b[0mfoo\u001b[0m\u001b[1;33m(\u001b[0m\u001b[1;33m)\u001b[0m\u001b[1;33m\u001b[0m\u001b[1;33m\u001b[0m\u001b[0m\n\u001b[0m\u001b[0;32m      2\u001b[0m \u001b[1;33m\u001b[0m\u001b[0m\n\u001b[0;32m      3\u001b[0m \u001b[0mstr\u001b[0m\u001b[1;33m(\u001b[0m\u001b[0mf\u001b[0m\u001b[1;33m)\u001b[0m\u001b[1;33m\u001b[0m\u001b[1;33m\u001b[0m\u001b[0m\n",
      "\u001b[1;31mNameError\u001b[0m: name 'foo' is not defined"
     ]
    }
   ],
   "source": [
    "f = foo()\n",
    "\n",
    "str(f)"
   ]
  },
  {
   "cell_type": "code",
   "execution_count": null,
   "id": "43fc2416",
   "metadata": {},
   "outputs": [],
   "source": []
  }
 ],
 "metadata": {
  "kernelspec": {
   "display_name": "Python 3 (ipykernel)",
   "language": "python",
   "name": "python3"
  },
  "language_info": {
   "codemirror_mode": {
    "name": "ipython",
    "version": 3
   },
   "file_extension": ".py",
   "mimetype": "text/x-python",
   "name": "python",
   "nbconvert_exporter": "python",
   "pygments_lexer": "ipython3",
   "version": "3.9.7"
  }
 },
 "nbformat": 4,
 "nbformat_minor": 5
}
