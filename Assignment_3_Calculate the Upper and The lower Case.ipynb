{
 "cells": [
  {
   "cell_type": "code",
   "execution_count": 7,
   "id": "12afc53d",
   "metadata": {},
   "outputs": [
    {
     "name": "stdout",
     "output_type": "stream",
     "text": [
      "The number of uppercase character are = 3\n",
      "The number of lowercase character are = 12\n"
     ]
    }
   ],
   "source": [
    "#Assignment--3\n",
    "#--------------------------------------------------------------\n",
    "#  Write a Python function that accepts a string and calculate \n",
    "# the number of upper case letters and lower case letters..\n",
    "#--------------------------------------------------------------\n",
    "\n",
    "s='The quick Brow Fox'\n",
    "count1=0\n",
    "count=0\n",
    "for i in s:\n",
    "    if i.isupper():\n",
    "        count1=count1+1\n",
    "    elif i.islower():\n",
    "        count=count+1 \n",
    "           \n",
    "print(\"The number of uppercase character are =\",count1)       \n",
    "\n",
    "print(\"The number of lowercase character are =\",count)"
   ]
  },
  {
   "cell_type": "code",
   "execution_count": null,
   "id": "5f9d5551",
   "metadata": {},
   "outputs": [],
   "source": []
  },
  {
   "cell_type": "code",
   "execution_count": null,
   "id": "fea28079",
   "metadata": {},
   "outputs": [],
   "source": []
  }
 ],
 "metadata": {
  "kernelspec": {
   "display_name": "Python 3 (ipykernel)",
   "language": "python",
   "name": "python3"
  },
  "language_info": {
   "codemirror_mode": {
    "name": "ipython",
    "version": 3
   },
   "file_extension": ".py",
   "mimetype": "text/x-python",
   "name": "python",
   "nbconvert_exporter": "python",
   "pygments_lexer": "ipython3",
   "version": "3.9.7"
  }
 },
 "nbformat": 4,
 "nbformat_minor": 5
}
