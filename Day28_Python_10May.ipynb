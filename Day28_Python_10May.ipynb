{
 "cells": [
  {
   "cell_type": "code",
   "execution_count": 4,
   "id": "10e3ace9",
   "metadata": {},
   "outputs": [
    {
     "name": "stdout",
     "output_type": "stream",
     "text": [
      "123\n",
      "Sagar\n",
      "Noida\n",
      "UIDI\n",
      "113\n",
      "Preeti\n",
      "Noida\n",
      "UIDI\n",
      "<__main__.Aadhar object at 0x00000206C1952650>\n"
     ]
    }
   ],
   "source": [
    "class Aadhar:\n",
    "    org=\"UIDI\"\n",
    "    \n",
    "#CONSTRUCTOR HELPS YOU TO INITIALIZE VALUES TO YOUR OBJECTS\n",
    "#__init__   \n",
    "    def __init__(self,ano,name,address):\n",
    "        self.ano=ano\n",
    "        self.name=name\n",
    "        self.address=address        \n",
    "a1=Aadhar(123,\"Sagar\",\"Noida\")\n",
    "#self--reference word not a  keyword--so you can change it\n",
    "print(a1.ano)\n",
    "print(a1.name)\n",
    "print(a1.address)\n",
    "print(a1.org)\n",
    "a2=Aadhar(113,\"Preeti\",\"Noida\") \n",
    "print(a2.ano)\n",
    "print(a2.name)\n",
    "print(a2.address)\n",
    "print(a2.org)\n",
    "print(a2)"
   ]
  },
  {
   "cell_type": "code",
   "execution_count": 10,
   "id": "ac772652",
   "metadata": {},
   "outputs": [
    {
     "name": "stdout",
     "output_type": "stream",
     "text": [
      "Def constr called\n",
      "MLDS\n",
      "MLDS\n"
     ]
    }
   ],
   "source": [
    "class EdYoda:\n",
    "    cName=\"MLDS\"\n",
    "    \n",
    "    def __init__(self,sName,sID,sMark):\n",
    "        self.sName=sName\n",
    "        self.sID=sID\n",
    "        self.sMark=sMark\n",
    "        \n",
    "    def __init__(self):\n",
    "        print(\"Def constr called\")\n",
    "        \n",
    "    def pme(self):\n",
    "        print(self.cName)\n",
    "    \n",
    "#default constr\n",
    "\n",
    "S1=EdYoda()\n",
    "print(S1.cName)\n",
    "S1.pme()\n",
    "#S2=EdYoda(\"Shreya\",123,90)\n",
    "#print(S2.sName)    "
   ]
  },
  {
   "cell_type": "code",
   "execution_count": 15,
   "id": "d1387728",
   "metadata": {},
   "outputs": [
    {
     "name": "stdout",
     "output_type": "stream",
     "text": [
      "This function is in parent class.\n",
      "This function is in child class.\n",
      "This function is in parent class.\n"
     ]
    }
   ],
   "source": [
    "#inheritence\n",
    "#inheriting properties and beha from parent\n",
    "\n",
    "#single\n",
    "\n",
    "# Base class\n",
    "class Parent:\n",
    "\tdef func1(self):\n",
    "\t\tprint(\"This function is in parent class.\")\n",
    "\n",
    "# Derived class\n",
    "class Child(Parent):\n",
    "\tdef func2(self):\n",
    "\t\tprint(\"This function is in child class.\")\n",
    "        \n",
    "O=Child()\n",
    "O.func1()\n",
    "O.func2()\n",
    "T=Parent()\n",
    "#T.func2()\n",
    "T.func1()\n"
   ]
  },
  {
   "cell_type": "code",
   "execution_count": 21,
   "id": "6704a4b2",
   "metadata": {},
   "outputs": [
    {
     "name": "stdout",
     "output_type": "stream",
     "text": [
      "Father : Father\n",
      "Mother : Mothr\n",
      "Father\n",
      "Mothr\n"
     ]
    }
   ],
   "source": [
    "#Multiple Inheritence\n",
    "\n",
    "# Python program to demonstrate\n",
    "# multiple inheritance\n",
    "# Base class1\n",
    "class Mother:\n",
    "\tmothername = \"Mothr\"\n",
    "\tdef mother(self):\n",
    "\t\tprint(self.mothername)\n",
    "# Base class2\n",
    "class Father:\n",
    "\tfathername = \"Father\"\n",
    "\tdef father(self):\n",
    "\t\tprint(self.fathername)\n",
    "# Derived class\n",
    "class Son(Mother, Father):\n",
    "\tdef parents(self):\n",
    "\t\tprint(\"Father :\", self.fathername)\n",
    "\t\tprint(\"Mother :\", self.mothername)        \n",
    "P=Son()\n",
    "P.parents()\n",
    "Q=Father()\n",
    "#Q.parents()\n",
    "Q.father()\n",
    "R=Mother()\n",
    "#R.parents()\n",
    "R.mother()"
   ]
  },
  {
   "cell_type": "code",
   "execution_count": 30,
   "id": "da188ee2",
   "metadata": {},
   "outputs": [
    {
     "name": "stdout",
     "output_type": "stream",
     "text": [
      "Grandfather name : OOOO\n",
      "Father name : PPPPPPP\n",
      "Son name : RRRRR\n"
     ]
    }
   ],
   "source": [
    "# Base class\n",
    "class Grandfather:\n",
    "    grandfathername=\"OOOO\"\n",
    "\n",
    "# Intermediate class\n",
    "class Father(Grandfather):\n",
    "    fathername=\"PPPPPPP\"\n",
    "\n",
    "\n",
    "# Derived class\n",
    "class Son(Father):\n",
    "\tdef __init__(self,sonname):\n",
    "\t\tself.sonname = sonname\n",
    "        \n",
    "\tdef print_name(self):\n",
    "\t\tprint('Grandfather name :', self.grandfathername)\n",
    "\t\tprint(\"Father name :\", self.fathername)\n",
    "\t\tprint(\"Son name :\", self.sonname)\n",
    "        \n",
    "        \n",
    "P=Father() \n",
    "\n",
    "R=Son(\"RRRRR\")\n",
    "R.sonname\n",
    "R.print_name()\n"
   ]
  },
  {
   "cell_type": "code",
   "execution_count": 34,
   "id": "4161d9b7",
   "metadata": {},
   "outputs": [
    {
     "name": "stdout",
     "output_type": "stream",
     "text": [
      "This function is in parent class.\n",
      "This function is in child 1.\n",
      "This function is in parent class.\n"
     ]
    }
   ],
   "source": [
    "\n",
    "# Base class\n",
    "class Parent:\n",
    "\tdef func1(self):\n",
    "\t\tprint(\"This function is in parent class.\")\n",
    "\n",
    "# Derived class1\n",
    "class Child1(Parent):\n",
    "\tdef func2(self):\n",
    "\t\tprint(\"This function is in child 1.\")\n",
    "\n",
    "# Derivied class2\n",
    "class Child2(Parent):\n",
    "\tdef func3(self):\n",
    "\t\tprint(\"This function is in child 2.\")\n",
    "P=Child2()\n",
    "#P.func2()\n",
    "P.func1()\n",
    "Q=Child1()\n",
    "Q.func2()\n",
    "Q.func1()\n",
    "\n"
   ]
  },
  {
   "cell_type": "code",
   "execution_count": 35,
   "id": "de6eda5c",
   "metadata": {},
   "outputs": [
    {
     "name": "stdout",
     "output_type": "stream",
     "text": [
      "2\n",
      "4\n",
      "4\n"
     ]
    }
   ],
   "source": [
    "#Polymorphism\n",
    "\n",
    "#Polymorphism and Method Overriding---comes from Multiple Inheritence\n",
    "\n",
    "#polymorphism --one method diff behaviours\n",
    "\n",
    "#len()\n",
    "\n",
    "l=[3,4,5,6]\n",
    "t=(3,4)\n",
    "s=\"7879\"\n",
    "print(len(t))\n",
    "print(len(l))\n",
    "print(len(s))\n"
   ]
  },
  {
   "cell_type": "code",
   "execution_count": 45,
   "id": "621d281a",
   "metadata": {},
   "outputs": [
    {
     "name": "stdout",
     "output_type": "stream",
     "text": [
      "Child Class imple\n"
     ]
    },
    {
     "ename": "AttributeError",
     "evalue": "'Parent' object has no attribute 'shown'",
     "output_type": "error",
     "traceback": [
      "\u001b[1;31m---------------------------------------------------------------------------\u001b[0m",
      "\u001b[1;31mAttributeError\u001b[0m                            Traceback (most recent call last)",
      "Input \u001b[1;32mIn [45]\u001b[0m, in \u001b[0;36m<cell line: 25>\u001b[1;34m()\u001b[0m\n\u001b[0;32m     23\u001b[0m P\u001b[38;5;241m.\u001b[39mshow()\n\u001b[0;32m     24\u001b[0m Q\u001b[38;5;241m=\u001b[39mParent()\n\u001b[1;32m---> 25\u001b[0m \u001b[43mQ\u001b[49m\u001b[38;5;241;43m.\u001b[39;49m\u001b[43mshown\u001b[49m()\n",
      "\u001b[1;31mAttributeError\u001b[0m: 'Parent' object has no attribute 'shown'"
     ]
    }
   ],
   "source": [
    "#Method Overriding \n",
    "\n",
    "#when you try to redefine a method with same name but diff implementation\n",
    "\n",
    "# Defining parent class\n",
    "class Parent:\n",
    "\t\n",
    "\t# Constructor\n",
    "\tdef __init__(self):\n",
    "\t\tself.value = \"Inside Parent\"\t\t\n",
    "\t# Parent's show method\n",
    "\tdef show(self):\n",
    "\t\tprint(\"Parent class implementation\")\t\t\n",
    "# Defining child class\n",
    "class Child(Parent):\t\n",
    "\t# Constructor\n",
    "\tdef __init__(self):\n",
    "\t\tself.value = \"Inside Child\"\t\t\n",
    "\t# Child's show method\n",
    "\tdef show(self):\n",
    "\t\tprint(\"Child Class imple\")        \n",
    "P=Child()\n",
    "P.show()\n",
    "Q=Parent()\n",
    "Q.shown()       "
   ]
  },
  {
   "cell_type": "code",
   "execution_count": 46,
   "id": "73056fd9",
   "metadata": {},
   "outputs": [
    {
     "name": "stdout",
     "output_type": "stream",
     "text": [
      "Inside Child\n",
      "Inside Parent2\n"
     ]
    }
   ],
   "source": [
    "# Defining parent class 1\n",
    "class Parent1():\n",
    "\t\t\n",
    "\t# Parent's show method\n",
    "\tdef show(self):\n",
    "\t\tprint(\"Inside Parent1\")\n",
    "\t\t\n",
    "# Defining Parent class 2\n",
    "class Parent2():\n",
    "\t\t\n",
    "\t# Parent's show method\n",
    "\tdef display(self):\n",
    "\t\tprint(\"Inside Parent2\")\n",
    "\t\t\n",
    "\t\t\n",
    "# Defining child class\n",
    "class Child(Parent1, Parent2):\n",
    "\t\t\n",
    "\t# Child's show method\n",
    "\tdef show(self):\n",
    "\t\tprint(\"Inside Child\")\n",
    "\t\n",
    "\t\t\n",
    "# Driver's code\n",
    "obj = Child()\n",
    "\n",
    "obj.show()\n",
    "obj.display()"
   ]
  },
  {
   "cell_type": "code",
   "execution_count": 51,
   "id": "81975ec3",
   "metadata": {},
   "outputs": [
    {
     "name": "stdout",
     "output_type": "stream",
     "text": [
      "Inside Parent\n",
      "Inside Child\n",
      "Inside Parent\n"
     ]
    }
   ],
   "source": [
    "class Parent():\n",
    "\t\n",
    "\tdef show(self):\n",
    "\t\tprint(\"Inside Parent\")\n",
    "\t\t\n",
    "class Child(Parent):\n",
    "\t\n",
    "\tdef show(self):\n",
    "\t\t\n",
    "\t\t# Calling the parent's class\n",
    "\t\t# method\n",
    "\t\tParent.show(self)\n",
    "\t\tprint(\"Inside Child\")\n",
    "\t\t\n",
    "# Driver's code\n",
    "obj = Child()\n",
    "obj.show()\n",
    "P=Parent()\n",
    "P.show()\n"
   ]
  },
  {
   "cell_type": "code",
   "execution_count": 26,
   "id": "d394ed27",
   "metadata": {},
   "outputs": [
    {
     "data": {
      "text/plain": [
       "25"
      ]
     },
     "execution_count": 26,
     "metadata": {},
     "output_type": "execute_result"
    }
   ],
   "source": [
    "class Square:\n",
    "    def __init__(self,x,n):\n",
    "        self.x=x\n",
    "        self.n=n       \n",
    "             \n",
    "    def s(self):\n",
    "        return self.x**self.n  \n",
    "obj=Square(10,2)\n",
    "obj.s()\n"
   ]
  },
  {
   "cell_type": "code",
   "execution_count": 3,
   "id": "80b37ac4",
   "metadata": {},
   "outputs": [
    {
     "ename": "NameError",
     "evalue": "name 'foo' is not defined",
     "output_type": "error",
     "traceback": [
      "\u001b[1;31m---------------------------------------------------------------------------\u001b[0m",
      "\u001b[1;31mNameError\u001b[0m                                 Traceback (most recent call last)",
      "\u001b[1;32m~\\AppData\\Local\\Temp/ipykernel_17916/931404849.py\u001b[0m in \u001b[0;36m<module>\u001b[1;34m\u001b[0m\n\u001b[1;32m----> 1\u001b[1;33m \u001b[0mf\u001b[0m \u001b[1;33m=\u001b[0m \u001b[0mfoo\u001b[0m\u001b[1;33m(\u001b[0m\u001b[1;33m)\u001b[0m\u001b[1;33m\u001b[0m\u001b[1;33m\u001b[0m\u001b[0m\n\u001b[0m\u001b[0;32m      2\u001b[0m \u001b[1;33m\u001b[0m\u001b[0m\n\u001b[0;32m      3\u001b[0m \u001b[0mstr\u001b[0m\u001b[1;33m(\u001b[0m\u001b[0mf\u001b[0m\u001b[1;33m)\u001b[0m\u001b[1;33m\u001b[0m\u001b[1;33m\u001b[0m\u001b[0m\n",
      "\u001b[1;31mNameError\u001b[0m: name 'foo' is not defined"
     ]
    }
   ],
   "source": [
    "f = foo()\n",
    "\n",
    "str(f)\n"
   ]
  },
  {
   "cell_type": "code",
   "execution_count": null,
   "id": "5299a96c",
   "metadata": {},
   "outputs": [],
   "source": []
  }
 ],
 "metadata": {
  "kernelspec": {
   "display_name": "Python 3 (ipykernel)",
   "language": "python",
   "name": "python3"
  },
  "language_info": {
   "codemirror_mode": {
    "name": "ipython",
    "version": 3
   },
   "file_extension": ".py",
   "mimetype": "text/x-python",
   "name": "python",
   "nbconvert_exporter": "python",
   "pygments_lexer": "ipython3",
   "version": "3.9.7"
  }
 },
 "nbformat": 4,
 "nbformat_minor": 5
}
