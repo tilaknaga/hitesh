{
 "cells": [
  {
   "cell_type": "code",
   "execution_count": 6,
   "id": "d1d592af",
   "metadata": {},
   "outputs": [
    {
     "name": "stdout",
     "output_type": "stream",
     "text": [
      "True\n",
      "True\n"
     ]
    }
   ],
   "source": [
    "#Ques1\n",
    "word1  = [\"abc\", \"d\", \"defg\"]\n",
    "word2 = [\"abcddefg\"]\n",
    "\n",
    "#A1\n",
    "\n",
    "if(\"\".join(word1))==\"\".join(word2):\n",
    "    print(\"True\")\n",
    "    \n",
    "else:\n",
    "    print(\"False\")\n",
    "    \n",
    "#A2\n",
    "w1=\"\"\n",
    "w2=\"\"\n",
    "for i in word1:\n",
    "    w1=w1+i\n",
    "for i in word2:\n",
    "    w2=w2+i    \n",
    "print(w1==w2)    "
   ]
  },
  {
   "cell_type": "code",
   "execution_count": 10,
   "id": "b470e49b",
   "metadata": {},
   "outputs": [
    {
     "name": "stdout",
     "output_type": "stream",
     "text": [
      "l\n",
      "2\n"
     ]
    }
   ],
   "source": [
    "#Q2\n",
    "\n",
    "words = [\"leetcode\",\"win\",\"loops\",\"success\"]\n",
    "pref = input()\n",
    "c=0\n",
    "for i in words:\n",
    "    if(i.startswith(pref)):\n",
    "        c=c+1\n",
    "print(c)        "
   ]
  },
  {
   "cell_type": "code",
   "execution_count": 12,
   "id": "1770a4a1",
   "metadata": {},
   "outputs": [
    {
     "name": "stdout",
     "output_type": "stream",
     "text": [
      "true\n"
     ]
    }
   ],
   "source": [
    "word1 =[\"ab\" , \"c\"]\n",
    "word2 = [\"a\",\"bc\"]\n",
    "\n",
    "if (\"\".join(word1)) == (\"\".join(word2)):\n",
    "        print(\"true\")\n",
    "else:\n",
    "    print(\"false\")\n"
   ]
  },
  {
   "cell_type": "code",
   "execution_count": 14,
   "id": "de236139",
   "metadata": {},
   "outputs": [
    {
     "name": "stdout",
     "output_type": "stream",
     "text": [
      "[2]\n"
     ]
    }
   ],
   "source": [
    "#Q3\n",
    "\n",
    "nums1 = [1,2,2,1]\n",
    "nums2 = [2,2]\n",
    "\n",
    "print(list(set(nums1).intersection(set(nums2))))"
   ]
  },
  {
   "cell_type": "code",
   "execution_count": 15,
   "id": "a87ef9ab",
   "metadata": {},
   "outputs": [
    {
     "name": "stdout",
     "output_type": "stream",
     "text": [
      "Hello how are you\n"
     ]
    }
   ],
   "source": [
    "#Q4\n",
    "\n",
    "s = \"Hello how are you Contestant\"\n",
    "k = 4\n",
    "ls=s.split(\" \")\n",
    "als=ls[:k]\n",
    "print(\" \".join(als))"
   ]
  },
  {
   "cell_type": "code",
   "execution_count": 19,
   "id": "17f98b4a",
   "metadata": {},
   "outputs": [
    {
     "name": "stdout",
     "output_type": "stream",
     "text": [
      "['', '', '', 'fly', 'me', '', '', 'to', '', '', 'the', 'moon', '', '']\n",
      "['fly', 'me', 'to', 'the', 'moon']\n",
      "4\n"
     ]
    }
   ],
   "source": [
    "#Q6\n",
    "s = \"   fly me   to   the moon  \"\n",
    "sl=s.split(\" \")\n",
    "print(sl)\n",
    "wl=[]\n",
    "for i in sl:\n",
    "    if(i!=\"\"):\n",
    "        wl.append(i)        \n",
    "print(wl)   \n",
    "print(len(wl[-1]))"
   ]
  },
  {
   "cell_type": "code",
   "execution_count": 25,
   "id": "185faae6",
   "metadata": {},
   "outputs": [
    {
     "name": "stdout",
     "output_type": "stream",
     "text": [
      "[5, 10, 15, 20, 25, 30, 35, 40, 45, 50]\n"
     ]
    }
   ],
   "source": [
    "#List comprehension\n",
    "\n",
    "l=[2,3,4]\n",
    "numbers= [i*5 for i in range(1,11)]\n",
    "print(numbers)\n"
   ]
  },
  {
   "cell_type": "code",
   "execution_count": 27,
   "id": "90b129f5",
   "metadata": {},
   "outputs": [
    {
     "name": "stdout",
     "output_type": "stream",
     "text": [
      "4\n"
     ]
    }
   ],
   "source": [
    "#Q5\n",
    "\n",
    "nums = [1,2,3,2]\n",
    "\n",
    "a=[]\n",
    "sumi=0\n",
    "for i in nums:\n",
    "    if(nums.count(i)==1):\n",
    "        #a.append(i)\n",
    "        sumi=sumi+i  \n",
    "#print(sum(a))\n",
    "print(sumi)"
   ]
  },
  {
   "cell_type": "code",
   "execution_count": 28,
   "id": "72e1f7fa",
   "metadata": {},
   "outputs": [
    {
     "name": "stdout",
     "output_type": "stream",
     "text": [
      "[[1, 3], [4, 6]]\n"
     ]
    }
   ],
   "source": [
    "#Q7\n",
    "nums1 = [1,2,3]\n",
    "nums2 = [2,4,6]\n",
    "\n",
    "a=[]\n",
    "a.append(list(set(nums1)-set(nums2)))\n",
    "a.append(list(set(nums2)-set(nums1)))\n",
    "print(a)"
   ]
  },
  {
   "cell_type": "code",
   "execution_count": 30,
   "id": "3a4f4ca7",
   "metadata": {},
   "outputs": [
    {
     "name": "stdout",
     "output_type": "stream",
     "text": [
      "35\n",
      "Yess\n"
     ]
    }
   ],
   "source": [
    "sentence = \"thequickbrownfoxjumpsoverthelazydog\"\n",
    "\n",
    "print(len(sentence))\n",
    "if(len(set(sentence))==26):\n",
    "    print(\"Yess\")\n",
    "else:\n",
    "    print(\"Noo\")\n",
    "c=0   \n",
    "for i in set(sentence):\n",
    "    if(ord(i)>=97 and ord(i)<=122):\n",
    "        c=c+1\n",
    "        \n",
    "if(c==26):\n",
    "    print(\"Pangram\")\n",
    "else:\n",
    "    print(\"Non Pangram\")"
   ]
  },
  {
   "cell_type": "code",
   "execution_count": null,
   "id": "d596c5ab",
   "metadata": {},
   "outputs": [],
   "source": []
  }
 ],
 "metadata": {
  "kernelspec": {
   "display_name": "Python 3 (ipykernel)",
   "language": "python",
   "name": "python3"
  },
  "language_info": {
   "codemirror_mode": {
    "name": "ipython",
    "version": 3
   },
   "file_extension": ".py",
   "mimetype": "text/x-python",
   "name": "python",
   "nbconvert_exporter": "python",
   "pygments_lexer": "ipython3",
   "version": "3.9.7"
  }
 },
 "nbformat": 4,
 "nbformat_minor": 5
}
