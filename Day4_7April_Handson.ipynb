{
 "cells": [
  {
   "cell_type": "code",
   "execution_count": 7,
   "id": "953fbe6c",
   "metadata": {
    "scrolled": true
   },
   "outputs": [
    {
     "name": "stdout",
     "output_type": "stream",
     "text": [
      "s\n",
      "31\n",
      "program\n",
      "some\n",
      "5\n",
      "['some', 'examples', 'of', 'python', 'program']\n"
     ]
    }
   ],
   "source": [
    "course = \"some examples of python program\"\n",
    "#split of the line into list of words\n",
    "print(course[0])\n",
    "print(len(course))\n",
    "a=course.split(\" \")\n",
    "print(a[-1])#last word\n",
    "print(a[0])#first word\n",
    "print(len(a))\n",
    "print(a)"
   ]
  },
  {
   "cell_type": "code",
   "execution_count": 13,
   "id": "5709eb7f",
   "metadata": {},
   "outputs": [
    {
     "name": "stdout",
     "output_type": "stream",
     "text": [
      "Enter the values of the list separated by semi colon: 3 , 5 , 6\n",
      "['3', '5', '6']\n"
     ]
    }
   ],
   "source": [
    "a=[]\n",
    "b=input(\"Enter the values of the list separated by semi colon: \")\n",
    "a=b.split(\" , \")\n",
    "print(a)\n",
    "\n",
    "\n",
    "#when you are giving input, only use the decided seperator\n"
   ]
  },
  {
   "cell_type": "code",
   "execution_count": 6,
   "id": "a6514604",
   "metadata": {},
   "outputs": [
    {
     "name": "stdout",
     "output_type": "stream",
     "text": [
      "4\n",
      "5\n",
      "8\n",
      "4\n"
     ]
    }
   ],
   "source": [
    "a=[4,5,6,7,8]\n",
    "\n",
    "print(a[0])#first\n",
    "print(a[1])#2nd element\n",
    "print(a[-1])#list last element\n",
    "print(a[-5])\n",
    "# 4,5,6,7,8\n",
    "#forward direction indices-->0,1,2,3,4\n",
    "#back direction indices-->-5,-4-3,-2,-1"
   ]
  },
  {
   "cell_type": "code",
   "execution_count": 16,
   "id": "58a6f61e",
   "metadata": {
    "scrolled": true
   },
   "outputs": [
    {
     "name": "stdout",
     "output_type": "stream",
     "text": [
      "enter the roll no.: 34 346 4253 233\n",
      "['34', '346', '4253', '233']\n"
     ]
    }
   ],
   "source": [
    "a=input(\"enter the roll no.: \")\n",
    "print(int(a))\n",
    "lis=a.split(\" \")\n",
    "#split is only for string\n",
    "print(lis)\n"
   ]
  },
  {
   "cell_type": "code",
   "execution_count": 19,
   "id": "fe4e6918",
   "metadata": {},
   "outputs": [
    {
     "name": "stdout",
     "output_type": "stream",
     "text": [
      "(3, 4, 5, 6)\n",
      "[3, 4, 5, 6, 3]\n",
      "(3, 4, 5, 6, 3)\n"
     ]
    }
   ],
   "source": [
    "t=(3,4,5,6)\n",
    "#tuple into list\n",
    "tuplel=list(t)\n",
    "print(t)\n",
    "#t.append(3)\n",
    "tuplel.append(3)\n",
    "print(tuplel)\n",
    "print(tuple(tuplel))\n"
   ]
  },
  {
   "cell_type": "code",
   "execution_count": 40,
   "id": "921c12c9",
   "metadata": {},
   "outputs": [
    {
     "name": "stdout",
     "output_type": "stream",
     "text": [
      "67\n",
      "2991811594544\n",
      "2991917199024\n",
      "2991917199024\n"
     ]
    }
   ],
   "source": [
    "a=67\n",
    "print(a)\n",
    "#python gives id function to know the location of my object--(67)\n",
    "print(id(a))\n",
    "a=\"Sagar\"\n",
    "print(id(a))\n",
    "b=a\n",
    "print(id(b))\n",
    "\n",
    "# one object can be referenced by n no of variables"
   ]
  },
  {
   "cell_type": "code",
   "execution_count": 25,
   "id": "2941d310",
   "metadata": {},
   "outputs": [
    {
     "name": "stdout",
     "output_type": "stream",
     "text": [
      "2991917443392\n",
      "[3, 4, 5, 6, 7]\n",
      "2991917443392\n",
      "[3, 9, 5, 6, 7]\n",
      "2991917443392\n",
      "[3, 9, 5, 6, 7, 10]\n"
     ]
    }
   ],
   "source": [
    "l=[3,4,5,6,7]\n",
    "#normal list\n",
    "print(id(l))\n",
    "print(l)\n",
    "l[1]=9\n",
    "print(id(l))\n",
    "print(l)\n",
    "l.append(10)\n",
    "print(id(l))\n",
    "print(l)\n",
    "# that is why list is mutable"
   ]
  },
  {
   "cell_type": "code",
   "execution_count": 27,
   "id": "37cd2139",
   "metadata": {},
   "outputs": [
    {
     "name": "stdout",
     "output_type": "stream",
     "text": [
      "2991917780080\n",
      "2991917777760\n"
     ]
    }
   ],
   "source": [
    "t=(2,3,4,5)\n",
    "#as it is not referenced by any variable so picked up automaticaally\n",
    "#by garbage collector \n",
    "print(id(t))\n",
    "\n",
    "#t[1]=9\n",
    "t=(6,7,8,9,10)\n",
    "#invalid as tuple is immutable\n",
    "print(id(t))"
   ]
  },
  {
   "cell_type": "code",
   "execution_count": 28,
   "id": "bd49d007",
   "metadata": {},
   "outputs": [
    {
     "name": "stdout",
     "output_type": "stream",
     "text": [
      "2991917632576\n",
      "2991917642752\n"
     ]
    }
   ],
   "source": [
    "a=[1,2,3,4,5,6]         \n",
    "b=[1,2,3,4,5,6]\n",
    "print(id(a))\n",
    "print(id(b))\n"
   ]
  },
  {
   "cell_type": "code",
   "execution_count": null,
   "id": "ab964e1d",
   "metadata": {},
   "outputs": [],
   "source": [
    "a=[1,2,3,4,5,6]         \n",
    "b=a\n",
    "print(id(a))\n",
    "print(id(b))\n",
    "#example of immutable---tuple,string,int,float,complex\n",
    "#mutable is list,dictionary and set\n"
   ]
  },
  {
   "cell_type": "code",
   "execution_count": 31,
   "id": "41462678",
   "metadata": {},
   "outputs": [
    {
     "name": "stdout",
     "output_type": "stream",
     "text": [
      "{'Name': 'Sagar', 'id': 23}\n",
      "2991917191936\n",
      "{'Name': 'Sagar', 'id': 90}\n",
      "2991917191936\n",
      "2991917191936\n"
     ]
    }
   ],
   "source": [
    "d={\"Name\":\"Sagar\",\"id\":23}\n",
    "print(d)\n",
    "print(id(d))\n",
    "d[\"id\"]=90\n",
    "print(d)\n",
    "print(id(d))\n",
    "e=d\n",
    "print(id(e))\n",
    "#dictionary is mutable"
   ]
  },
  {
   "cell_type": "code",
   "execution_count": 36,
   "id": "3e83f806",
   "metadata": {},
   "outputs": [
    {
     "name": "stdout",
     "output_type": "stream",
     "text": [
      "{'Name': 'Sagar', 'id': 23, 'Sub': ('Maths', 'chemistry', 'Biology')}\n"
     ]
    }
   ],
   "source": [
    "d={\"Name\":\"Sagar\",\"id\":23}\n",
    "\n",
    "#name and id are keys\n",
    "#sagar and 23 are values\n",
    "#keys are always immutable , mutable not allowed\n",
    "#values are can be mutable or immutable\n",
    "\n",
    "#e={\"Name\":\"Sagar\",\"id\":23,[2,3,4]:33}\n",
    "\n",
    "#print(e)\n",
    "f={\"Name\":\"Sagar\",\"id\":23,\"Sub\":(\"Maths\",\"chemistry\",\"Biology\")}\n",
    "print(f)"
   ]
  },
  {
   "cell_type": "code",
   "execution_count": null,
   "id": "89a0cc95",
   "metadata": {},
   "outputs": [],
   "source": [
    "#range is nota  datatype--"
   ]
  },
  {
   "cell_type": "code",
   "execution_count": 32,
   "id": "41272212",
   "metadata": {},
   "outputs": [
    {
     "name": "stdout",
     "output_type": "stream",
     "text": [
      "2991867889776\n",
      "2991888726960\n"
     ]
    }
   ],
   "source": [
    "s=\"sagar\"\n",
    "\n",
    "print(id(s))\n",
    "\n",
    "s=\"Edyoda\"\n",
    "print(id(s))"
   ]
  },
  {
   "cell_type": "code",
   "execution_count": 37,
   "id": "14f34cb9",
   "metadata": {},
   "outputs": [
    {
     "name": "stdout",
     "output_type": "stream",
     "text": [
      "2991916328048\n",
      "2991916328080\n"
     ]
    }
   ],
   "source": [
    "roll=8976\n",
    "print(id(roll))\n",
    "roll=9000\n",
    "print(id(roll))"
   ]
  },
  {
   "cell_type": "code",
   "execution_count": 41,
   "id": "6888abe1",
   "metadata": {},
   "outputs": [
    {
     "name": "stdout",
     "output_type": "stream",
     "text": [
      "{'Name': 'pavi', 'Sub': (67, 56, 78)}\n",
      "2991917822272\n",
      "{'Name': 'pavi', 'Sub': (68, 56, 78)}\n",
      "2991917372480\n"
     ]
    }
   ],
   "source": [
    "f={\"Name\":\"pavi\",\"Sub\":(67,56,78)}\n",
    "print(f)\n",
    "print(id(f))\n",
    "f={\"Name\":\"pavi\",\"Sub\":(68,56,78)}\n",
    "print(f)\n",
    "print(id(f))\n",
    "\n"
   ]
  },
  {
   "cell_type": "code",
   "execution_count": 42,
   "id": "1004bf60",
   "metadata": {},
   "outputs": [
    {
     "name": "stdout",
     "output_type": "stream",
     "text": [
      "{'english': 95, 'chemistry': 98}\n",
      "2991917469568\n",
      "98\n",
      "2991811595536\n",
      "{'english': 95, 'chemistry': 98, 'physics': 97}\n",
      "2991917469568\n",
      "{'english': 95, 'chemistry': 98, 'physics': 92}\n",
      "2991917469568\n"
     ]
    }
   ],
   "source": [
    "marks = {\"english\" : 95, \"chemistry\" : 98}\n",
    "print (marks)\n",
    "print (id(marks))\n",
    "print(marks[\"chemistry\"])\n",
    "print(id(marks[\"chemistry\"]))\n",
    "marks[\"physics\"] = 97\n",
    "print(marks)\n",
    "print(id(marks))\n",
    "marks[\"physics\"] = 92\n",
    "print (marks)\n",
    "print (id(marks))\n",
    "#adding keys and values or reassigning into dictionary wont change the address as dictionary is\n",
    "#mutable"
   ]
  },
  {
   "cell_type": "code",
   "execution_count": 45,
   "id": "1342f40e",
   "metadata": {},
   "outputs": [
    {
     "name": "stdout",
     "output_type": "stream",
     "text": [
      "106\n",
      "94\n",
      "600\n",
      "-94\n",
      "16.666666666666668\n",
      "16\n",
      "4\n",
      "0.06\n",
      "1000000000000\n"
     ]
    }
   ],
   "source": [
    "#arithmetic operations\n",
    "a=100\n",
    "b=6\n",
    "print(a+b)\n",
    "print(a-b)\n",
    "print(a*b)\n",
    "print(b-a)\n",
    "print(a/b)#float division ==always decimal\n",
    "print(a//b)#floor division==always integer\n",
    "print(a%b)\n",
    "print(b/a)\n",
    "print(a**b)\n",
    "#1.3===floor(1.3)==1\n",
    "#1.9==floor(1.9)==1\n",
    "\n",
    "#16*6=96==100-4\n",
    "#100=16*6+4"
   ]
  },
  {
   "cell_type": "code",
   "execution_count": null,
   "id": "0a39dee8",
   "metadata": {},
   "outputs": [],
   "source": [
    "#all the false values in python\n",
    "'''\n",
    "0\n",
    "[]=empty list\n",
    "None==it ia keyword\n",
    "(,)=empty tuple\n",
    "{}=empty dict\n",
    "\"\"=empty string\n",
    "'''\n",
    "#all other values apart from these is true\n",
    "#exa=-9.7,2+8j"
   ]
  },
  {
   "cell_type": "code",
   "execution_count": 53,
   "id": "0aebf2b8",
   "metadata": {},
   "outputs": [
    {
     "name": "stdout",
     "output_type": "stream",
     "text": [
      "ff\n"
     ]
    }
   ],
   "source": [
    "if({}):\n",
    "    print(\"tt\")    \n",
    "else:\n",
    "    print(\"ff\")"
   ]
  },
  {
   "cell_type": "code",
   "execution_count": 56,
   "id": "d2bb37c6",
   "metadata": {},
   "outputs": [
    {
     "name": "stdout",
     "output_type": "stream",
     "text": [
      "True\n",
      "True\n",
      "False\n",
      "False\n",
      "True\n",
      "False\n"
     ]
    }
   ],
   "source": [
    "a=98\n",
    "b=34\n",
    "#== is a comparison operator\n",
    "#= is a assignment operator\n",
    "#comparison Operators\n",
    "#output is only of two types==True and False==boolean\n",
    "print(a>b)\n",
    "print(a>=b)\n",
    "print(a<=b)\n",
    "print(a<b)\n",
    "print(a!=b)\n",
    "print(a==b)\n"
   ]
  },
  {
   "cell_type": "code",
   "execution_count": 58,
   "id": "ca776df8",
   "metadata": {},
   "outputs": [
    {
     "name": "stdout",
     "output_type": "stream",
     "text": [
      "False\n",
      "True\n",
      "False\n",
      "True\n"
     ]
    }
   ],
   "source": [
    "a=True\n",
    "b=False\n",
    "#logical operator\n",
    "#And means True in both true condition else false\n",
    "#or means true if either of them is true\n",
    "#not reverse boolean\n",
    "print(a and b)\n",
    "print(a or b)\n",
    "print(not a)\n",
    "print(not b)"
   ]
  },
  {
   "cell_type": "code",
   "execution_count": 61,
   "id": "54a15958",
   "metadata": {},
   "outputs": [
    {
     "name": "stdout",
     "output_type": "stream",
     "text": [
      "10\n",
      "20\n",
      "10\n",
      "100\n",
      "10.0\n"
     ]
    }
   ],
   "source": [
    "#assignment operators\n",
    "# Examples of Assignment Operators\n",
    "a = 10\n",
    "# Assign value\n",
    "b = a\n",
    "print(b)\n",
    "# Add and assign value\n",
    "b += a\n",
    "#b=b+a\n",
    "#10+10\n",
    "print(b)\n",
    "# Subtract and assign value\n",
    "b -= a\n",
    "#b=b-a\n",
    "#20-10\n",
    "print(b)\n",
    "# multiply and assign\n",
    "b *= a\n",
    "#b=b*a\n",
    "#10*10\n",
    "print(b)\n",
    "b=b/a\n",
    "print(b)"
   ]
  },
  {
   "cell_type": "code",
   "execution_count": 69,
   "id": "21fa9339",
   "metadata": {},
   "outputs": [
    {
     "name": "stdout",
     "output_type": "stream",
     "text": [
      "True\n",
      "False\n",
      "True\n",
      "False\n",
      "True\n",
      "False\n",
      "True\n"
     ]
    }
   ],
   "source": [
    "#Membership operator\n",
    "# in and not in\n",
    "l=[4,5,9,67]\n",
    "# output is  always boolean\n",
    "print(4 in l)\n",
    "print(3 in l)\n",
    "s=\"EdYoda\"\n",
    "print(\"Ed\" in s)\n",
    "print(\"ed\" in s)\n",
    "d={\"A\":34,\"B\":45}\n",
    "# in dictionary membership is always confirmed with the help of keys not values\n",
    "print(\"A\" in d)\n",
    "print(34 in d)\n",
    "print(34 not in d)\n",
    " "
   ]
  },
  {
   "cell_type": "code",
   "execution_count": 73,
   "id": "cae0ebe0",
   "metadata": {},
   "outputs": [
    {
     "name": "stdout",
     "output_type": "stream",
     "text": [
      "2991811592688\n",
      "2991811592688\n",
      "True\n",
      "True\n"
     ]
    }
   ],
   "source": [
    "#identity operator \n",
    "# is and ==\n",
    "\n",
    "#is refers to the id of the object for comparison\n",
    "#== refers to the value of the object for comparison\n",
    "a=9\n",
    "b=9\n",
    "#b=a\n",
    "print(id(b))\n",
    "print(id(a))\n",
    "\n",
    "print(a is b)\n",
    "print(a==b)\n"
   ]
  },
  {
   "cell_type": "code",
   "execution_count": 75,
   "id": "b667eeb8",
   "metadata": {},
   "outputs": [
    {
     "name": "stdout",
     "output_type": "stream",
     "text": [
      "2991917815040\n",
      "2991917996160\n",
      "2991917815040\n",
      "True\n",
      "False\n",
      "True\n",
      "2991917995712\n",
      "False\n"
     ]
    }
   ],
   "source": [
    "list1 = []\n",
    "list2 = []\n",
    "list3=list1\n",
    "\n",
    "print(id(list1))\n",
    "\n",
    "print(id(list2))\n",
    "\n",
    "print(id(list3))\n",
    "\n",
    "if (list1 == list2):\n",
    "\tprint(\"True\")\n",
    "else:\n",
    "\tprint(\"False\")\n",
    "\n",
    "if (list1 is list2):\n",
    "\tprint(\"True\")\n",
    "else:\n",
    "\tprint(\"False\")\n",
    "\n",
    "if (list1 is list3):\n",
    "\tprint(\"True\")\n",
    "else:\n",
    "\tprint(\"False\")\n",
    "\n",
    "list3 = list3 + list2\n",
    "# we are doing reassignment not modification bcoz modificatiion is allowed in list\n",
    "#\n",
    "print(id(list3))\n",
    "if (list1 is list3):\n",
    "\tprint(\"True\")\n",
    "else:\n",
    "\tprint(\"False\")"
   ]
  },
  {
   "cell_type": "code",
   "execution_count": null,
   "id": "44194f31",
   "metadata": {},
   "outputs": [],
   "source": []
  }
 ],
 "metadata": {
  "kernelspec": {
   "display_name": "Python 3 (ipykernel)",
   "language": "python",
   "name": "python3"
  },
  "language_info": {
   "codemirror_mode": {
    "name": "ipython",
    "version": 3
   },
   "file_extension": ".py",
   "mimetype": "text/x-python",
   "name": "python",
   "nbconvert_exporter": "python",
   "pygments_lexer": "ipython3",
   "version": "3.9.7"
  }
 },
 "nbformat": 4,
 "nbformat_minor": 5
}
