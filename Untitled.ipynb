{
 "cells": [
  {
   "cell_type": "code",
   "execution_count": 1,
   "id": "a2fd53fe",
   "metadata": {},
   "outputs": [
    {
     "name": "stdout",
     "output_type": "stream",
     "text": [
      "15\n"
     ]
    }
   ],
   "source": [
    "def outerFun(a,b):\n",
    "    def innerFun(c,d):\n",
    "        return c + d\n",
    "    return innerFun(a,b)\n",
    "\n",
    "res = outerFun(5,10)\n",
    "print(res)"
   ]
  },
  {
   "cell_type": "code",
   "execution_count": 2,
   "id": "84cbe482",
   "metadata": {},
   "outputs": [
    {
     "name": "stdout",
     "output_type": "stream",
     "text": [
      "[1, 3, 2, 1, 3, 2]\n"
     ]
    }
   ],
   "source": [
    "list1 = [1,3,2]\n",
    "print(list1*2)"
   ]
  },
  {
   "cell_type": "code",
   "execution_count": 3,
   "id": "959969e9",
   "metadata": {},
   "outputs": [
    {
     "name": "stdout",
     "output_type": "stream",
     "text": [
      "3\n"
     ]
    }
   ],
   "source": [
    "i = 0\n",
    "while i<3:\n",
    "    i = i+1\n",
    "    \n",
    "print(i)"
   ]
  },
  {
   "cell_type": "code",
   "execution_count": 4,
   "id": "eebd718d",
   "metadata": {},
   "outputs": [
    {
     "ename": "StopIteration",
     "evalue": "",
     "output_type": "error",
     "traceback": [
      "\u001b[1;31m---------------------------------------------------------------------------\u001b[0m",
      "\u001b[1;31mStopIteration\u001b[0m                             Traceback (most recent call last)",
      "\u001b[1;32m~\\AppData\\Local\\Temp/ipykernel_13004/1713043641.py\u001b[0m in \u001b[0;36m<module>\u001b[1;34m\u001b[0m\n\u001b[0;32m      9\u001b[0m \u001b[1;32mfor\u001b[0m \u001b[0mi\u001b[0m \u001b[1;32min\u001b[0m \u001b[0mrange\u001b[0m\u001b[1;33m(\u001b[0m\u001b[1;36m2\u001b[0m\u001b[1;33m)\u001b[0m\u001b[1;33m:\u001b[0m\u001b[1;33m\u001b[0m\u001b[1;33m\u001b[0m\u001b[0m\n\u001b[0;32m     10\u001b[0m     \u001b[0mnext\u001b[0m\u001b[1;33m(\u001b[0m\u001b[0meven_iter_obj\u001b[0m\u001b[1;33m)\u001b[0m\u001b[1;33m\u001b[0m\u001b[1;33m\u001b[0m\u001b[0m\n\u001b[1;32m---> 11\u001b[1;33m \u001b[0mprint\u001b[0m\u001b[1;33m(\u001b[0m\u001b[0mnext\u001b[0m\u001b[1;33m(\u001b[0m\u001b[0meven_iter_obj\u001b[0m\u001b[1;33m)\u001b[0m\u001b[1;33m)\u001b[0m\u001b[1;33m\u001b[0m\u001b[1;33m\u001b[0m\u001b[0m\n\u001b[0m",
      "\u001b[1;31mStopIteration\u001b[0m: "
     ]
    }
   ],
   "source": [
    "def even():\n",
    "    num=0\n",
    "    while num<4:\n",
    "        yield num \n",
    "        num+=2\n",
    "        \n",
    "even_iter_obj = even()\n",
    "\n",
    "for i in range(2):\n",
    "    next(even_iter_obj)\n",
    "print(next(even_iter_obj))"
   ]
  },
  {
   "cell_type": "code",
   "execution_count": 5,
   "id": "fe1a9f86",
   "metadata": {},
   "outputs": [
    {
     "name": "stdout",
     "output_type": "stream",
     "text": [
      "['123d', '4567a']\n"
     ]
    }
   ],
   "source": [
    "import re \n",
    "r = re.compile(\"\\d+[a-z]\")\n",
    "s = \"abc123def4567abcd89\"\n",
    "l = re.findall(r,s)\n",
    "print(l)"
   ]
  },
  {
   "cell_type": "code",
   "execution_count": 8,
   "id": "2e17694b",
   "metadata": {},
   "outputs": [
    {
     "name": "stdout",
     "output_type": "stream",
     "text": [
      "4\n"
     ]
    },
    {
     "data": {
      "text/plain": [
       "15"
      ]
     },
     "execution_count": 8,
     "metadata": {},
     "output_type": "execute_result"
    }
   ],
   "source": [
    "n = int(input())\n",
    "\n",
    "def fac(n):\n",
    "    return n*n-1\n",
    "fac(n)\n"
   ]
  },
  {
   "cell_type": "code",
   "execution_count": 9,
   "id": "35b989a4",
   "metadata": {},
   "outputs": [
    {
     "name": "stdout",
     "output_type": "stream",
     "text": [
      "<class 'dict'>\n"
     ]
    }
   ],
   "source": [
    "def find(a, **b):\n",
    "    print(type(b))\n",
    "find(\"letter\",A=\"1\",B=\"2\")\n"
   ]
  },
  {
   "cell_type": "code",
   "execution_count": 10,
   "id": "840e58aa",
   "metadata": {},
   "outputs": [
    {
     "data": {
      "text/plain": [
       "'walking'"
      ]
     },
     "execution_count": 10,
     "metadata": {},
     "output_type": "execute_result"
    }
   ],
   "source": [
    "class Dog:\n",
    "    def walk(self):\n",
    "        return \"walking\"\n",
    "    \n",
    "    def speak(self):\n",
    "        return \"woof\"\n",
    "    \n",
    "class jackrussell(Dog):\n",
    "    def speak(self):\n",
    "        return \"arft\"\n",
    "    \n",
    "    \n",
    "bobo = jackrussell()\n",
    "bobo.walk()"
   ]
  },
  {
   "cell_type": "code",
   "execution_count": 22,
   "id": "30f00748",
   "metadata": {},
   "outputs": [
    {
     "ename": "IndentationError",
     "evalue": "unexpected indent (Temp/ipykernel_13004/1877373828.py, line 4)",
     "output_type": "error",
     "traceback": [
      "\u001b[1;36m  File \u001b[1;32m\"C:\\Users\\91738\\AppData\\Local\\Temp/ipykernel_13004/1877373828.py\"\u001b[1;36m, line \u001b[1;32m4\u001b[0m\n\u001b[1;33m    if b==0:\u001b[0m\n\u001b[1;37m    ^\u001b[0m\n\u001b[1;31mIndentationError\u001b[0m\u001b[1;31m:\u001b[0m unexpected indent\n"
     ]
    }
   ],
   "source": [
    "def f(x):\n",
    "          def f1(a, b):\n",
    "                     print(\"hello\")\n",
    "                             if b==0:\n",
    "                                 print(\"NO\")\n",
    "                                 return \n",
    "          return f(a,b)\n",
    "return f1\n",
    "\n",
    "@f\n",
    "def f(a,b):\n",
    "    return a%b\n",
    "f(4,0)        "
   ]
  },
  {
   "cell_type": "code",
   "execution_count": 23,
   "id": "946e1669",
   "metadata": {},
   "outputs": [
    {
     "name": "stdout",
     "output_type": "stream",
     "text": [
      "n\n"
     ]
    }
   ],
   "source": [
    "n  = [\"Amir\",\"Bear\",\"charlton\",\"Daman\"]\n",
    "print(n[-1][-1])"
   ]
  },
  {
   "cell_type": "code",
   "execution_count": 17,
   "id": "25123fd8",
   "metadata": {},
   "outputs": [
    {
     "name": "stdout",
     "output_type": "stream",
     "text": [
      "ABC\n"
     ]
    }
   ],
   "source": [
    "d = {\"id\":101,\"name\":\"ABC\"}\n",
    "a = d.setdefault(\"name\",\"PQR\")\n",
    "print(a)"
   ]
  },
  {
   "cell_type": "code",
   "execution_count": 24,
   "id": "574f0528",
   "metadata": {},
   "outputs": [
    {
     "name": "stdout",
     "output_type": "stream",
     "text": [
      "False\n"
     ]
    }
   ],
   "source": [
    "def foo(x):\n",
    "    x=['abc', 'def']\n",
    "    return id(x)\n",
    "q = ['abc', 'def']\n",
    "print(id(q)==foo(q))"
   ]
  },
  {
   "cell_type": "code",
   "execution_count": 25,
   "id": "584cee7c",
   "metadata": {},
   "outputs": [
    {
     "name": "stdout",
     "output_type": "stream",
     "text": [
      "3\n"
     ]
    }
   ],
   "source": [
    "def c(f):\n",
    "    def inner(*args, **kwargs):\n",
    "        inner.co+= 1\n",
    "        return f(*args, **kwargs)\n",
    "    inner.co = 0\n",
    "    \n",
    "    return inner \n",
    "@c\n",
    "def fnc():\n",
    "    pass \n",
    "if __name__ == \"__main__\":\n",
    "    fnc()\n",
    "    fnc()\n",
    "    fnc()\n",
    "    print(fnc.co)"
   ]
  },
  {
   "cell_type": "code",
   "execution_count": 26,
   "id": "ff33769d",
   "metadata": {},
   "outputs": [
    {
     "name": "stdout",
     "output_type": "stream",
     "text": [
      "DogAnimal"
     ]
    }
   ],
   "source": [
    "class Animal:\n",
    "    def __init__(self,name):\n",
    "        print(\"Animal\",end='')\n",
    "        self.name = name \n",
    "\n",
    "class Dog(Animal):\n",
    "    def __init__(self, name, age):\n",
    "        print(\"Dog\",end='')\n",
    "        super().__init__(name)\n",
    "        self.age = age \n",
    "        \n",
    "yuki = Dog(\"yuki singh\",4)"
   ]
  },
  {
   "cell_type": "code",
   "execution_count": 27,
   "id": "67b4e1bd",
   "metadata": {},
   "outputs": [
    {
     "name": "stdout",
     "output_type": "stream",
     "text": [
      "Hello\n",
      "worldworldworldworldworld\n"
     ]
    }
   ],
   "source": [
    "def say(message,times = 1):\n",
    "    print(message * times)\n",
    "say(\"Hello\")\n",
    "say(\"world\",5)"
   ]
  },
  {
   "cell_type": "code",
   "execution_count": 7,
   "id": "ff92ba4d",
   "metadata": {},
   "outputs": [
    {
     "name": "stdout",
     "output_type": "stream",
     "text": [
      "None\n"
     ]
    }
   ],
   "source": [
    "l = [1,2,3,4,5,3,2,34]\n",
    "print(l.sort())"
   ]
  },
  {
   "cell_type": "code",
   "execution_count": null,
   "id": "0eb8c659",
   "metadata": {},
   "outputs": [],
   "source": []
  }
 ],
 "metadata": {
  "kernelspec": {
   "display_name": "Python 3 (ipykernel)",
   "language": "python",
   "name": "python3"
  },
  "language_info": {
   "codemirror_mode": {
    "name": "ipython",
    "version": 3
   },
   "file_extension": ".py",
   "mimetype": "text/x-python",
   "name": "python",
   "nbconvert_exporter": "python",
   "pygments_lexer": "ipython3",
   "version": "3.9.7"
  }
 },
 "nbformat": 4,
 "nbformat_minor": 5
}
