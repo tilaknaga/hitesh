{
 "cells": [
  {
   "cell_type": "code",
   "execution_count": 9,
   "id": "a159daf4",
   "metadata": {},
   "outputs": [
    {
     "name": "stdout",
     "output_type": "stream",
     "text": [
      "ABCcchlbvo\n",
      "['A', 'B', 'C']\n"
     ]
    }
   ],
   "source": [
    "import re\n",
    "p=\"[^a-z]\"#starting position\n",
    "s=input()\n",
    "r=re.findall(p,s)\n",
    "print(r)\n"
   ]
  },
  {
   "cell_type": "code",
   "execution_count": 14,
   "id": "3ac38f2f",
   "metadata": {},
   "outputs": [
    {
     "name": "stdout",
     "output_type": "stream",
     "text": [
      "blvkucv89 %\n",
      "['%']\n"
     ]
    }
   ],
   "source": [
    "import re\n",
    "p=\"[^a-zA-Z]$\"#starting position\n",
    "s=input()\n",
    "r=re.findall(p,s)\n",
    "print(r)\n"
   ]
  },
  {
   "cell_type": "code",
   "execution_count": 36,
   "id": "b397153b",
   "metadata": {},
   "outputs": [
    {
     "name": "stdout",
     "output_type": "stream",
     "text": [
      "man\n",
      "['n']\n"
     ]
    }
   ],
   "source": [
    "import re\n",
    "p=\"m*n\"#starting position\n",
    "s=input()\n",
    "r=re.findall(p,s)\n",
    "print(r)"
   ]
  },
  {
   "cell_type": "code",
   "execution_count": 42,
   "id": "a622d8ee",
   "metadata": {},
   "outputs": [
    {
     "name": "stdout",
     "output_type": "stream",
     "text": [
      "mn hkvciu nn kuvoumn Mn\n",
      "['mn', 'n', 'n', 'mn', 'n']\n"
     ]
    }
   ],
   "source": [
    "import re\n",
    "p=\"m+n\"\n",
    "s=input()\n",
    "r=re.findall(p,s)\n",
    "print(r)"
   ]
  },
  {
   "cell_type": "code",
   "execution_count": 46,
   "id": "2e921de0",
   "metadata": {},
   "outputs": [
    {
     "name": "stdout",
     "output_type": "stream",
     "text": [
      "kjsvbcoaa56  aaaa787  a65 a544aa7\n",
      "['aa', 'aaa', 'aa']\n"
     ]
    }
   ],
   "source": [
    "import re\n",
    "p=\"m?n\"\n",
    "s=input()\n",
    "r=re.findall(p,s)\n",
    "print(r)"
   ]
  },
  {
   "cell_type": "code",
   "execution_count": 54,
   "id": "b2f455aa",
   "metadata": {},
   "outputs": [
    {
     "name": "stdout",
     "output_type": "stream",
     "text": [
      "aadd\n",
      "['add']\n"
     ]
    }
   ],
   "source": [
    "import re\n",
    "p=\"ad{2,3}\"\n",
    "s=input()\n",
    "r=re.findall(p,s)\n",
    "print(r)"
   ]
  },
  {
   "cell_type": "code",
   "execution_count": 59,
   "id": "be04fe52",
   "metadata": {},
   "outputs": [
    {
     "name": "stdout",
     "output_type": "stream",
     "text": [
      "9798557528 896davv89asdb\n",
      "['9798', '5575', '896']\n"
     ]
    }
   ],
   "source": [
    "import re\n",
    "p=\"[0-9]{3,4}\"\n",
    "s=input()\n",
    "r=re.findall(p,s)\n",
    "print(r)"
   ]
  },
  {
   "cell_type": "code",
   "execution_count": 62,
   "id": "7439c81f",
   "metadata": {},
   "outputs": [
    {
     "name": "stdout",
     "output_type": "stream",
     "text": [
      "dakvbjlAblvdsbiAA\n",
      "['a', 'b', 'b', 'b']\n"
     ]
    }
   ],
   "source": [
    "import re\n",
    "p=\"[a-c]\"\n",
    "s=input()\n",
    "r=re.findall(p,s)\n",
    "print(r)"
   ]
  },
  {
   "cell_type": "code",
   "execution_count": 68,
   "id": "256c7d23",
   "metadata": {},
   "outputs": [
    {
     "name": "stdout",
     "output_type": "stream",
     "text": [
      "jkvldba\n",
      "['b']\n"
     ]
    }
   ],
   "source": [
    "import re\n",
    "p=\"(a|b)[^0-9]$\"\n",
    "s=input()\n",
    "r=re.findall(p,s)\n",
    "print(r)"
   ]
  },
  {
   "cell_type": "code",
   "execution_count": 73,
   "id": "7febb70a",
   "metadata": {},
   "outputs": [
    {
     "name": "stdout",
     "output_type": "stream",
     "text": [
      "netflixaaa$aaaparamount$a\n",
      "['$aaa', '$a']\n"
     ]
    }
   ],
   "source": [
    "import re\n",
    "p=\"\\$a+\"\n",
    "s=input()\n",
    "r=re.findall(p,s)\n",
    "print(r)"
   ]
  },
  {
   "cell_type": "code",
   "execution_count": 79,
   "id": "03b00eb8",
   "metadata": {},
   "outputs": [
    {
     "name": "stdout",
     "output_type": "stream",
     "text": [
      "fsbl5\n",
      "['f']\n"
     ]
    }
   ],
   "source": [
    "import re\n",
    "p=\"\\A[A]\"\n",
    "s=input()\n",
    "r=re.findall(p,s)\n",
    "print(r)"
   ]
  },
  {
   "cell_type": "code",
   "execution_count": 86,
   "id": "d8b8258b",
   "metadata": {},
   "outputs": [
    {
     "name": "stdout",
     "output_type": "stream",
     "text": [
      "football\n",
      "[]\n"
     ]
    }
   ],
   "source": [
    "import re\n",
    "p=\"foo\\b\"\n",
    "s=input()\n",
    "r=re.findall(p,s)\n",
    "print(r)"
   ]
  },
  {
   "cell_type": "code",
   "execution_count": 94,
   "id": "f6e01d3d",
   "metadata": {},
   "outputs": [
    {
     "name": "stdout",
     "output_type": "stream",
     "text": [
      "i love football\n",
      "[]\n"
     ]
    }
   ],
   "source": [
    "import re\n",
    "p=r\"foo\\b\"\n",
    "s=input()\n",
    "r=re.findall(p,s)\n",
    "print(r)"
   ]
  },
  {
   "cell_type": "code",
   "execution_count": 95,
   "id": "6e648b0c",
   "metadata": {},
   "outputs": [
    {
     "name": "stdout",
     "output_type": "stream",
     "text": [
      "i like football\n",
      "[]\n"
     ]
    }
   ],
   "source": [
    "import re\n",
    "p=r\"\\Bfoo\"\n",
    "s=input()\n",
    "r=re.findall(p,s)\n",
    "print(r)"
   ]
  },
  {
   "cell_type": "code",
   "execution_count": 103,
   "id": "75e76a45",
   "metadata": {
    "scrolled": true
   },
   "outputs": [
    {
     "name": "stdout",
     "output_type": "stream",
     "text": [
      "s,a t,b42\n",
      "['s', ',', 'a', 't', ',', 'b', '4', '2']\n",
      "s,at,b42\n"
     ]
    }
   ],
   "source": [
    "import re\n",
    "p=r\"\\S\"\n",
    "s=input()\n",
    "r=re.findall(p,s)\n",
    "print(r)\n",
    "aa=\"\".join(r)\n",
    "print(aa)\n",
    "\n"
   ]
  },
  {
   "cell_type": "code",
   "execution_count": 105,
   "id": "89fabdfe",
   "metadata": {},
   "outputs": [
    {
     "name": "stdout",
     "output_type": "stream",
     "text": [
      "sagarsarkar0810^^^\n",
      "['s', 'a', 'g', 'a', 'r', 's', 'a', 'r', 'k', 'a', 'r', '0', '8', '1', '0']\n",
      "sagarsarkar0810\n"
     ]
    }
   ],
   "source": [
    "import re\n",
    "p=r\"\\w\"\n",
    "s=input()\n",
    "r=re.findall(p,s)\n",
    "print(r)\n",
    "aa=\"\".join(r)\n",
    "print(aa)"
   ]
  },
  {
   "cell_type": "code",
   "execution_count": null,
   "id": "2c042486",
   "metadata": {},
   "outputs": [],
   "source": []
  }
 ],
 "metadata": {
  "kernelspec": {
   "display_name": "Python 3 (ipykernel)",
   "language": "python",
   "name": "python3"
  },
  "language_info": {
   "codemirror_mode": {
    "name": "ipython",
    "version": 3
   },
   "file_extension": ".py",
   "mimetype": "text/x-python",
   "name": "python",
   "nbconvert_exporter": "python",
   "pygments_lexer": "ipython3",
   "version": "3.9.7"
  }
 },
 "nbformat": 4,
 "nbformat_minor": 5
}
