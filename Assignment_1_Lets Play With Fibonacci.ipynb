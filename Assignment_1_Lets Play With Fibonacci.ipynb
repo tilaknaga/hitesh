{
 "cells": [
  {
   "cell_type": "code",
   "execution_count": 4,
   "id": "20b499d3",
   "metadata": {},
   "outputs": [
    {
     "name": "stdout",
     "output_type": "stream",
     "text": [
      "Enter the Fibonacci series number:5\n",
      "1 1 2 3 "
     ]
    }
   ],
   "source": [
    "#Assignment--1\n",
    "#--------------------------------------------------------------------\n",
    "# Write a Python program to get the Fibonacci series between 0 to 50\n",
    "#--------------------------------------------------------------------\n",
    "\n",
    "n = int(input('Enter the Fibonacci series number:'))\n",
    "a=0\n",
    "b=1\n",
    "c=0\n",
    "while c<n:\n",
    "    a=b\n",
    "    b=c\n",
    "    c=a+b\n",
    "    \n",
    "    if c<n:\n",
    "        print(c,end=\" \")"
   ]
  },
  {
   "cell_type": "code",
   "execution_count": 6,
   "id": "a068e864",
   "metadata": {},
   "outputs": [
    {
     "name": "stdout",
     "output_type": "stream",
     "text": [
      "tilak\n",
      "tilak tilak*****\n"
     ]
    }
   ],
   "source": [
    "s=input()\n",
    "print(s.rjust(5,\"*\"),s.ljust(10,\"*\"))"
   ]
  },
  {
   "cell_type": "code",
   "execution_count": 8,
   "id": "28a1b14b",
   "metadata": {},
   "outputs": [
    {
     "name": "stdout",
     "output_type": "stream",
     "text": [
      "Enter a String: acd\n",
      "a \t 97\n",
      "c \t 99\n",
      "d \t 100\n"
     ]
    }
   ],
   "source": [
    "# Write a Python program to print a dictionary whose keys should be the alphabet\n",
    "# from a-z and the value should be corresponding ASCII values\n",
    "\n",
    "\n",
    "# Sample Output : {'a': 97, 'b': 98, 'c': 99, 'd': 100, 'e': 101, \n",
    "#                  'f': 102, 'g': 103, 'h': 104, 'i': 105, 'j': 106, 'k': 107, 'l': 108, \n",
    "#                  'm': 109, 'n': 110, 'o': 111, 'p': 112, 'q': 113, \n",
    "#                  'r': 114, 's': 115, 't': 116, 'u': 117, 'v': 118, 'w': 119, 'x': 120, 'y': 121, 'z': 122}dict1={}\n",
    "\n",
    "print(\"Enter a String: \", end=\"\")\n",
    "text = input()\n",
    "\n",
    "textlength = len(text)\n",
    "for char in text:\n",
    "    ascii = ord(char)\n",
    "    print(char, \"\\t\", ascii)\n"
   ]
  },
  {
   "cell_type": "code",
   "execution_count": 13,
   "id": "fc7867d6",
   "metadata": {},
   "outputs": [
    {
     "name": "stdout",
     "output_type": "stream",
     "text": [
      "{'a': 97, 'b': 98}\n"
     ]
    }
   ],
   "source": [
    "a={}\n",
    "b={\"a\":97,\"b\":98}\n",
    "a.update(b)\n",
    "print(a)"
   ]
  },
  {
   "cell_type": "code",
   "execution_count": 14,
   "id": "579abf5c",
   "metadata": {},
   "outputs": [
    {
     "name": "stdout",
     "output_type": "stream",
     "text": [
      "26\n"
     ]
    }
   ],
   "source": [
    "m=\"abcdefghijklmnopqrstuvwxyz\"\n",
    "print(len(m))"
   ]
  },
  {
   "cell_type": "code",
   "execution_count": 18,
   "id": "10f2345a",
   "metadata": {},
   "outputs": [
    {
     "name": "stdout",
     "output_type": "stream",
     "text": [
      "0\n"
     ]
    }
   ],
   "source": [
    "m=\"abcdefghijklmnopqrstuvwxyz\"\n",
    "index=0\n",
    "for i in m:\n",
    "    if (len(i)==\"z\"):\n",
    "        index=index+1\n",
    "        \n",
    "    else:\n",
    "        index+1\n",
    "print(index)"
   ]
  },
  {
   "cell_type": "code",
   "execution_count": 34,
   "id": "2fc3b093",
   "metadata": {},
   "outputs": [
    {
     "name": "stdout",
     "output_type": "stream",
     "text": [
      "Enter a String: ab\n",
      "a : 97 b : 98 "
     ]
    }
   ],
   "source": [
    "print(\"Enter a String: \", end=\"\")\n",
    "a={}\n",
    "text = input()\n",
    "textlength = len(text)\n",
    "for i in text:\n",
    "    (ascii) = (ord(i))\n",
    "    print(i,\":\", ascii,end=\" \")    \n"
   ]
  },
  {
   "cell_type": "code",
   "execution_count": 54,
   "id": "e1b1013e",
   "metadata": {},
   "outputs": [
    {
     "name": "stdout",
     "output_type": "stream",
     "text": [
      "abcdefghijklmnopqrstuvwxyz\n",
      "{'a': 97, 'b': 98, 'c': 99, 'd': 100, 'e': 101, 'f': 102, 'g': 103, 'h': 104, 'i': 105, 'j': 106, 'k': 107, 'l': 108, 'm': 109, 'n': 110, 'o': 111, 'p': 112, 'q': 113, 'r': 114, 's': 115, 't': 116, 'u': 117, 'v': 118, 'w': 119, 'x': 120, 'y': 121, 'z': 122}\n"
     ]
    }
   ],
   "source": [
    "l=input()\n",
    "b={}\n",
    "for i in l:\n",
    "    (ascii)=(ord(i))\n",
    "    a=dict.fromkeys(i,ascii)\n",
    "    b.update(a)\n",
    "print(b)"
   ]
  },
  {
   "cell_type": "code",
   "execution_count": 1,
   "id": "851206a7",
   "metadata": {},
   "outputs": [
    {
     "name": "stdout",
     "output_type": "stream",
     "text": [
      "Sorted:\n",
      "[(2, 1), (1, 2), (2, 3), (4, 4), (2, 5)]\n"
     ]
    }
   ],
   "source": [
    "# Write a Python program to get a list, sorted in increasing \n",
    "# order by the last element in each tuple from a given list of non-empty tuples\n",
    "\n",
    "# Sample List : [(2, 5), (1, 2), (4, 4), (2, 3), (2, 1)]\n",
    "# Expected Result : [(2, 1), (1, 2), (2, 3), (4, 4), (2, 5)]\n",
    "\n",
    "\n",
    "def last(n):\n",
    "    return n[-1]  \n",
    "   \n",
    "def sort(tuples):\n",
    "    return sorted(tuples, key=last)\n",
    "   \n",
    "a=[(2, 5), (1, 2), (4, 4), (2, 3), (2, 1)]\n",
    "print(\"Sorted:\")\n",
    "print(sort(a))\n"
   ]
  },
  {
   "cell_type": "code",
   "execution_count": 11,
   "id": "4a97bd99",
   "metadata": {},
   "outputs": [
    {
     "name": "stdout",
     "output_type": "stream",
     "text": [
      "True\n"
     ]
    }
   ],
   "source": [
    "# https://www.geeksforgeeks.org/python-program-to-sort-a-list-of-tuples-in-increasing-order-by-the-last-element-in-each-tuple/"
   ]
  },
  {
   "cell_type": "code",
   "execution_count": 8,
   "id": "eee92e09",
   "metadata": {},
   "outputs": [
    {
     "name": "stdout",
     "output_type": "stream",
     "text": [
      "[(2, 1), (1, 2), (2, 3), (4, 4), (2, 5)]\n"
     ]
    }
   ],
   "source": [
    "def sort(tup):  \n",
    "    lst = len(tup)  \n",
    "    for i in range(0, lst):  \n",
    "            \n",
    "        for j in range(0, lst-i-1):  \n",
    "            if (tup[j][-1] > tup[j + 1][-1]):  \n",
    "                temp = tup[j]  \n",
    "                tup[j]= tup[j + 1]  \n",
    "                tup[j + 1]= temp  \n",
    "    return tup    \n",
    "tup =[(2, 5), (1, 2), (4, 4), (2, 3), (2, 1)]\n",
    "print(Sort_Tuple(tup))"
   ]
  },
  {
   "cell_type": "code",
   "execution_count": 14,
   "id": "d94590e0",
   "metadata": {},
   "outputs": [
    {
     "name": "stdout",
     "output_type": "stream",
     "text": [
      "1\n",
      "2\n"
     ]
    }
   ],
   "source": []
  },
  {
   "cell_type": "code",
   "execution_count": 16,
   "id": "ba32652b",
   "metadata": {},
   "outputs": [
    {
     "name": "stdout",
     "output_type": "stream",
     "text": [
      "c\n"
     ]
    }
   ],
   "source": []
  },
  {
   "cell_type": "code",
   "execution_count": 17,
   "id": "4ae00e1f",
   "metadata": {},
   "outputs": [
    {
     "name": "stdout",
     "output_type": "stream",
     "text": [
      "a\n",
      "a\n",
      "a\n",
      "a\n"
     ]
    }
   ],
   "source": []
  },
  {
   "cell_type": "code",
   "execution_count": 20,
   "id": "9081b1e7",
   "metadata": {},
   "outputs": [],
   "source": []
  },
  {
   "cell_type": "code",
   "execution_count": 21,
   "id": "654f5548",
   "metadata": {},
   "outputs": [
    {
     "name": "stdout",
     "output_type": "stream",
     "text": [
      "['ab', 'cd', 'ef', 'cd', 'gh.cd']\n"
     ]
    }
   ],
   "source": []
  },
  {
   "cell_type": "code",
   "execution_count": 22,
   "id": "c63733cf",
   "metadata": {},
   "outputs": [
    {
     "name": "stdout",
     "output_type": "stream",
     "text": [
      "[1, 2, 3, 4, 5, 6, 7, 8, 9, 10]\n"
     ]
    }
   ],
   "source": []
  },
  {
   "cell_type": "code",
   "execution_count": 26,
   "id": "600b65f0",
   "metadata": {},
   "outputs": [
    {
     "ename": "TypeError",
     "evalue": "'tuple' object does not support item assignment",
     "output_type": "error",
     "traceback": [
      "\u001b[1;31m---------------------------------------------------------------------------\u001b[0m",
      "\u001b[1;31mTypeError\u001b[0m                                 Traceback (most recent call last)",
      "\u001b[1;32m~\\AppData\\Local\\Temp/ipykernel_7976/2835718276.py\u001b[0m in \u001b[0;36m<module>\u001b[1;34m\u001b[0m\n\u001b[0;32m      1\u001b[0m \u001b[0mt\u001b[0m\u001b[1;33m=\u001b[0m\u001b[1;33m(\u001b[0m\u001b[1;34m'foo'\u001b[0m\u001b[1;33m,\u001b[0m\u001b[1;34m'bar'\u001b[0m\u001b[1;33m,\u001b[0m\u001b[1;34m'baz'\u001b[0m\u001b[1;33m)\u001b[0m\u001b[1;33m\u001b[0m\u001b[1;33m\u001b[0m\u001b[0m\n\u001b[1;32m----> 2\u001b[1;33m \u001b[0mt\u001b[0m\u001b[1;33m[\u001b[0m\u001b[1;36m1\u001b[0m\u001b[1;33m]\u001b[0m\u001b[1;33m=\u001b[0m\u001b[1;34m'qux'\u001b[0m\u001b[1;33m\u001b[0m\u001b[1;33m\u001b[0m\u001b[0m\n\u001b[0m\u001b[0;32m      3\u001b[0m \u001b[0mprint\u001b[0m\u001b[1;33m(\u001b[0m\u001b[0mt\u001b[0m\u001b[1;33m)\u001b[0m\u001b[1;33m\u001b[0m\u001b[1;33m\u001b[0m\u001b[0m\n",
      "\u001b[1;31mTypeError\u001b[0m: 'tuple' object does not support item assignment"
     ]
    }
   ],
   "source": []
  },
  {
   "cell_type": "code",
   "execution_count": 33,
   "id": "7546b057",
   "metadata": {},
   "outputs": [
    {
     "name": "stdout",
     "output_type": "stream",
     "text": [
      "[1, 2, 3, 4, 5, 6]\n"
     ]
    }
   ],
   "source": []
  },
  {
   "cell_type": "code",
   "execution_count": 34,
   "id": "468c58b6",
   "metadata": {},
   "outputs": [
    {
     "name": "stdout",
     "output_type": "stream",
     "text": [
      "['quux', 'baz', 'foo']\n"
     ]
    }
   ],
   "source": []
  },
  {
   "cell_type": "code",
   "execution_count": 35,
   "id": "5031fe25",
   "metadata": {},
   "outputs": [
    {
     "name": "stdout",
     "output_type": "stream",
     "text": [
      "False\n"
     ]
    }
   ],
   "source": []
  },
  {
   "cell_type": "code",
   "execution_count": null,
   "id": "4aa55bdf",
   "metadata": {},
   "outputs": [],
   "source": []
  }
 ],
 "metadata": {
  "kernelspec": {
   "display_name": "Python 3 (ipykernel)",
   "language": "python",
   "name": "python3"
  },
  "language_info": {
   "codemirror_mode": {
    "name": "ipython",
    "version": 3
   },
   "file_extension": ".py",
   "mimetype": "text/x-python",
   "name": "python",
   "nbconvert_exporter": "python",
   "pygments_lexer": "ipython3",
   "version": "3.9.7"
  }
 },
 "nbformat": 4,
 "nbformat_minor": 5
}
