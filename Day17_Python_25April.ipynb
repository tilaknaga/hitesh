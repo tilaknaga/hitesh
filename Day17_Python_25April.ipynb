{
 "cells": [
  {
   "cell_type": "code",
   "execution_count": 3,
   "id": "7296ccb8",
   "metadata": {},
   "outputs": [
    {
     "name": "stdout",
     "output_type": "stream",
     "text": [
      "TS\n"
     ]
    },
    {
     "ename": "TypeError",
     "evalue": "ord() expected a character, but string of length 2 found",
     "output_type": "error",
     "traceback": [
      "\u001b[1;31m---------------------------------------------------------------------------\u001b[0m",
      "\u001b[1;31mTypeError\u001b[0m                                 Traceback (most recent call last)",
      "Input \u001b[1;32mIn [3]\u001b[0m, in \u001b[0;36m<cell line: 3>\u001b[1;34m()\u001b[0m\n\u001b[0;32m      1\u001b[0m \u001b[38;5;66;03m#Quiz3 Discussion\u001b[39;00m\n\u001b[0;32m      2\u001b[0m a\u001b[38;5;241m=\u001b[39m\u001b[38;5;28minput\u001b[39m()\n\u001b[1;32m----> 3\u001b[0m \u001b[38;5;28mprint\u001b[39m(\u001b[38;5;28;43mord\u001b[39;49m\u001b[43m(\u001b[49m\u001b[43ma\u001b[49m\u001b[43m)\u001b[49m)\n",
      "\u001b[1;31mTypeError\u001b[0m: ord() expected a character, but string of length 2 found"
     ]
    }
   ],
   "source": [
    "#Quiz3 Discussion\n",
    "#Q1\n",
    "a=input()\n",
    "print(ord(a))\n"
   ]
  },
  {
   "cell_type": "code",
   "execution_count": 5,
   "id": "0478c216",
   "metadata": {
    "scrolled": true
   },
   "outputs": [
    {
     "name": "stdout",
     "output_type": "stream",
     "text": [
      "True\n",
      "foobarfoobar\n"
     ]
    }
   ],
   "source": [
    "#Q2\n",
    "s = 'foo'\n",
    "t = 'bar'\n",
    "print('barf' in 2 * (s + t))\n",
    "print(2 * (s + t))"
   ]
  },
  {
   "cell_type": "code",
   "execution_count": 9,
   "id": "0acf6e03",
   "metadata": {},
   "outputs": [
    {
     "name": "stdout",
     "output_type": "stream",
     "text": [
      "pq\n"
     ]
    }
   ],
   "source": [
    "#Q3\n",
    "\n",
    "print('p' + 'q' if '12'.isnumeric() else 'r' + 's')\n",
    "#isdigit is a subset of isnumeric"
   ]
  },
  {
   "cell_type": "code",
   "execution_count": 13,
   "id": "d5e698f1",
   "metadata": {},
   "outputs": [
    {
     "name": "stdout",
     "output_type": "stream",
     "text": [
      "1\n",
      "2\n"
     ]
    }
   ],
   "source": [
    "#Q4\n",
    "\n",
    "i=1\n",
    "while True:\n",
    "    if i%3==0:\n",
    "        break\n",
    "    print(i)\n",
    "    i+=1"
   ]
  },
  {
   "cell_type": "code",
   "execution_count": 14,
   "id": "65c433e1",
   "metadata": {},
   "outputs": [
    {
     "name": "stdout",
     "output_type": "stream",
     "text": [
      "a\n",
      "a\n",
      "a\n",
      "a\n"
     ]
    }
   ],
   "source": [
    "#Q8\n",
    "\n",
    "x='abcd'\n",
    "for i in range(len(x)):\n",
    "    x='a'\n",
    "    print(x)"
   ]
  },
  {
   "cell_type": "code",
   "execution_count": 15,
   "id": "df606f0c",
   "metadata": {},
   "outputs": [
    {
     "name": "stdout",
     "output_type": "stream",
     "text": [
      "['ab', 'cd', 'ef', 'cd', 'gh.cd']\n"
     ]
    }
   ],
   "source": [
    "print('ab,cd,ef,cd,gh.cd'.split(','))"
   ]
  },
  {
   "cell_type": "code",
   "execution_count": 16,
   "id": "1ad4e260",
   "metadata": {},
   "outputs": [
    {
     "name": "stdout",
     "output_type": "stream",
     "text": [
      "TC\n"
     ]
    }
   ],
   "source": [
    "a=\"T\"\n",
    "b=\"C\"\n",
    "c=a+b\n",
    "print(c)"
   ]
  },
  {
   "cell_type": "code",
   "execution_count": null,
   "id": "26ec4980",
   "metadata": {},
   "outputs": [],
   "source": [
    "#Quiz4 Q2\n",
    "\n",
    "l1 = [1,3,5,7,9]\n",
    "l2 = [2,4,6,8,10]\n",
    "index = 0\n",
    "for i in range(1,11,2):\n",
    "    l1.insert(i, l2[index])\n",
    "    index += 1\n",
    "print(l1)\n",
    "\n"
   ]
  },
  {
   "cell_type": "code",
   "execution_count": 17,
   "id": "36b11540",
   "metadata": {},
   "outputs": [
    {
     "name": "stdout",
     "output_type": "stream",
     "text": [
      "5\n"
     ]
    }
   ],
   "source": [
    "a, b, c = (1, 2, 3, 4, 5, 6, 7, 8, 9)[1::3]\n",
    "\n",
    "print(b)"
   ]
  },
  {
   "cell_type": "code",
   "execution_count": 19,
   "id": "e3ba01c3",
   "metadata": {},
   "outputs": [
    {
     "name": "stdout",
     "output_type": "stream",
     "text": [
      "<class 'tuple'>\n"
     ]
    }
   ],
   "source": [
    "\n",
    "print(type(t))\n",
    "l=[\"foo\"]\n",
    "t = ('foo',)\n",
    "se=set('foo')\n",
    "#{a,b} and set()\n",
    "#{a:b} dict\n",
    "st = ('foo')"
   ]
  },
  {
   "cell_type": "code",
   "execution_count": 22,
   "id": "27330c7f",
   "metadata": {},
   "outputs": [
    {
     "name": "stdout",
     "output_type": "stream",
     "text": [
      "[1, 2, 3, 4, 5, 6]\n"
     ]
    }
   ],
   "source": [
    "l1 = [[1,2,3],[4,5,6]] \n",
    "l2 = []\n",
    "for list1 in l1:\n",
    "    l2.extend(list1)\n",
    "print(l2)\n",
    "#extend and + is same for lists"
   ]
  },
  {
   "cell_type": "code",
   "execution_count": 24,
   "id": "987f81c4",
   "metadata": {},
   "outputs": [
    {
     "name": "stdout",
     "output_type": "stream",
     "text": [
      "{5: (2, 5), 2: (1, 2), 4: (4, 4), 3: (2, 3), 1: (2, 1)}\n",
      "1 (2, 1) 2 (1, 2) 3 (2, 3) 4 (4, 4) 5 (2, 5) [(2, 1), (1, 2), (2, 3), (4, 4), (2, 5)]\n"
     ]
    }
   ],
   "source": [
    "a=[(2, 5), (1, 2), (4, 4), (2, 3), (2, 1)]\n",
    "\n",
    "d={}\n",
    "for i in a:\n",
    "    d[i[-1]]=i\n",
    "print(d)\n",
    "# n loops= total loops in two nested loops=n*n\n",
    "a=[]\n",
    "for i in sorted(d.keys()):\n",
    "    print(i,d[i], end=\" \")\n",
    "\n",
    "    a.append(d[i])\n",
    "print(a)"
   ]
  },
  {
   "cell_type": "code",
   "execution_count": null,
   "id": "90b7f4e0",
   "metadata": {},
   "outputs": [],
   "source": [
    "def last(n): \n",
    "    return n[-1]\n",
    "\n",
    "def sort(tuples):\n",
    "    return sorted(tuples, key=last)\n",
    "\n",
    "print(sort([(2, 5), (1, 2), (4, 4), (2, 3), (2, 1)]))\n",
    "\n"
   ]
  },
  {
   "cell_type": "code",
   "execution_count": null,
   "id": "a5e9efb5",
   "metadata": {},
   "outputs": [],
   "source": [
    "list_tuples= [(2, 5), (1, 2), (4, 4), (2, 3), (2, 1)]\n",
    "\n",
    "# nested for loop \n",
    "for i in range(1,len(list_tuples)):\n",
    "    for j in range(len(list_tuples)- i):\n",
    "        if list_tuples[j][1] > list_tuples[j+1][1]:\n",
    "            temp=list_tuples[j] #--->created temp varaible and stored list_tuples[j]\n",
    "            list_tuples [j] =list_tuples[j+1]\n",
    "            list_tuples [j+1] = temp\n",
    "print(\"Result output: \",end=\"\")\n",
    "\n",
    "print(list_tuples)\n",
    "\n"
   ]
  },
  {
   "cell_type": "code",
   "execution_count": 27,
   "id": "3a58250d",
   "metadata": {},
   "outputs": [
    {
     "name": "stdout",
     "output_type": "stream",
     "text": [
      "{'a': 97, 'b': 98, 'c': 99, 'd': 100, 'e': 101, 'f': 102, 'g': 103, 'h': 104, 'i': 105, 'j': 106, 'k': 107, 'l': 108, 'm': 109, 'n': 110, 'o': 111, 'p': 112, 'q': 113, 'r': 114, 's': 115, 't': 116, 'u': 117, 'v': 118, 'w': 119, 'x': 120, 'y': 121, 'z': 122}\n"
     ]
    }
   ],
   "source": [
    "#range 97 to 122\n",
    "d={}\n",
    "for i in range(97,123):\n",
    "   d[chr(i)]=i\n",
    "print(d)\n"
   ]
  },
  {
   "cell_type": "code",
   "execution_count": 29,
   "id": "2d5d1a4b",
   "metadata": {},
   "outputs": [
    {
     "name": "stdout",
     "output_type": "stream",
     "text": [
      "abcdefghijklmnopqrstuvwxyz\n",
      "{'a': 97, 'b': 98, 'c': 99, 'd': 100, 'e': 101, 'f': 102, 'g': 103, 'h': 104, 'i': 105, 'j': 106, 'k': 107, 'l': 108, 'm': 109, 'n': 110, 'o': 111, 'p': 112, 'q': 113, 'r': 114, 's': 115, 't': 116, 'u': 117, 'v': 118, 'w': 119, 'x': 120, 'y': 121, 'z': 122}\n"
     ]
    }
   ],
   "source": [
    "import string\n",
    "print(string.ascii_lowercase)\n",
    "\n",
    "d={}\n",
    "\n",
    "for i in string.ascii_lowercase:\n",
    "    d[i]=ord(i)\n",
    "print(d)    "
   ]
  },
  {
   "cell_type": "code",
   "execution_count": 34,
   "id": "335cc525",
   "metadata": {},
   "outputs": [
    {
     "name": "stdout",
     "output_type": "stream",
     "text": [
      "Welcome Sagar  ,  Sarkar\n",
      "kkk\n",
      "16\n"
     ]
    }
   ],
   "source": [
    "#Functions\n",
    "def name_function():\n",
    "    pass\n",
    "def square(x):\n",
    "    print(x*x)\n",
    "def cube(x):\n",
    "    return x*x*x\n",
    "print(\"This\")\n",
    "#standard guidelines---func call after func definition\n",
    "#if no func call then no func definition\n",
    "def welcomeMsg(name1,name2):    \n",
    "    print(\"Welcome\",name1,\" , \",name2)      \n",
    "#conventional parameter passing    \n",
    "welcomeMsg(\"Sagar\",\"Sarkar\")#1  \n",
    "print(\"kkk\")\n",
    "square(4)\n",
    "print(cube(3))  \n",
    "    "
   ]
  },
  {
   "cell_type": "code",
   "execution_count": 38,
   "id": "21dd2763",
   "metadata": {
    "scrolled": true
   },
   "outputs": [
    {
     "name": "stdout",
     "output_type": "stream",
     "text": [
      "27\n",
      "27\n",
      "None\n"
     ]
    }
   ],
   "source": [
    "def cube(x):\n",
    "    a=x*x*x\n",
    "    return a\n",
    "#return x*x*x\n",
    "\n",
    "ans=cube(3)\n",
    "print(ans)\n",
    "\n",
    "def cube(x):\n",
    "    print(x*x*x)\n",
    "    \n",
    "ans=cube(3)\n",
    "print(ans)"
   ]
  },
  {
   "cell_type": "code",
   "execution_count": 40,
   "id": "2942c3d3",
   "metadata": {},
   "outputs": [
    {
     "name": "stdout",
     "output_type": "stream",
     "text": [
      "7\n",
      "11\n"
     ]
    }
   ],
   "source": [
    "def add(x,y):\n",
    "    s=x+y\n",
    "    return s\n",
    "\n",
    "print(add(3,4))\n",
    "\n",
    "def add(x,y):\n",
    "    s=x+y\n",
    "    print(s)\n",
    "\n",
    "add(5,6)    "
   ]
  },
  {
   "cell_type": "code",
   "execution_count": 58,
   "id": "8c960ccb",
   "metadata": {},
   "outputs": [
    {
     "name": "stdout",
     "output_type": "stream",
     "text": [
      "Welcome s Sagar Sarkar\n",
      "Welcome sagar Sarkar S\n",
      "Welcome sagar Sarkar India\n",
      "2880.0\n",
      "4320.0\n",
      "4320.0\n"
     ]
    }
   ],
   "source": [
    "def welcomeMsg(name1,name2,name3=\"India\"):    \n",
    "    print(\"Welcome\",name1,name2,name3)      \n",
    "#conventional parameter passing    \n",
    "#welcomeMsg(\"Sagar\",\"Sarkar\")\n",
    "#welcomeMsg(\"Sagar\")#default parameter passing\n",
    "#positional argument\n",
    "welcomeMsg(\"s\",\"Sagar\",\"Sarkar\")\n",
    "welcomeMsg(\"sagar\",name2=\"Sarkar\",name3=\"S\")\n",
    "#welcomeMsg(name2=\"Sarkar\",name3=\"S\",\"TCS\")\n",
    "welcomeMsg(\"sagar\",name2=\"Sarkar\")#mixture of all 3 types\n",
    "\n",
    "\n",
    "def si(p,r,t=3):\n",
    "    return p*r*t/100\n",
    "\n",
    "\n",
    "print(si(12000,12,2))\n",
    "print(si(12000,r=12))\n",
    "ans=si(12000,r=12)\n",
    "print(ans)"
   ]
  },
  {
   "cell_type": "code",
   "execution_count": null,
   "id": "a40724ef",
   "metadata": {},
   "outputs": [],
   "source": []
  }
 ],
 "metadata": {
  "kernelspec": {
   "display_name": "Python 3 (ipykernel)",
   "language": "python",
   "name": "python3"
  },
  "language_info": {
   "codemirror_mode": {
    "name": "ipython",
    "version": 3
   },
   "file_extension": ".py",
   "mimetype": "text/x-python",
   "name": "python",
   "nbconvert_exporter": "python",
   "pygments_lexer": "ipython3",
   "version": "3.10.2"
  }
 },
 "nbformat": 4,
 "nbformat_minor": 5
}
