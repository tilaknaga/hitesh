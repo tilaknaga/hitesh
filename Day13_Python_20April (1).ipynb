{
 "cells": [
  {
   "cell_type": "code",
   "execution_count": 3,
   "id": "679eeec0",
   "metadata": {},
   "outputs": [
    {
     "name": "stdout",
     "output_type": "stream",
     "text": [
      "(2, 3, 4, 5, 6)\n",
      "(2, 3, 4, 2, 3, 4)\n",
      "(0, 1, 2, 2, 3, 4)\n"
     ]
    }
   ],
   "source": [
    "t=(2,3,4)\n",
    "n=t+(5,6)#allowed\n",
    "#not allowed\n",
    "#t[0]=1\n",
    "print(n)\n",
    "print(t*2)\n",
    "s=(0,1,2)\n",
    "print(s+t)"
   ]
  },
  {
   "cell_type": "code",
   "execution_count": 17,
   "id": "34677037",
   "metadata": {
    "scrolled": true
   },
   "outputs": [
    {
     "name": "stdout",
     "output_type": "stream",
     "text": [
      "(67, 78)\n",
      "23\n",
      "(24, 23, 12, 89, 78, 67, 56)\n",
      "(56, 67, 78, 89, 12, 23, 24)\n",
      "3148359064576\n",
      "3148358403136\n",
      "y\n",
      "E\n"
     ]
    }
   ],
   "source": [
    "t=(56,67,78,89,12,23,24)\n",
    "\n",
    "print(t[1:3])\n",
    "print(t[-2])\n",
    "print(t[::-1])\n",
    "\n",
    "#del t[1]\n",
    "print(t)\n",
    "del t\n",
    "#print(t)\n",
    "\n",
    "l=[3,4,5]\n",
    "e=tuple(l)\n",
    "print(id(e))\n",
    "print(id(l))\n",
    "#max and min\n",
    "#t=(3,4,5,\"Ed\")\n",
    "#print(max(t))\n",
    "#print(min(t))\n",
    "s=\"EdYoda\"\n",
    "t=tuple(s)\n",
    "t=(\"Edyoda\")\n",
    "print(max(t))\n",
    "print(min(t))"
   ]
  },
  {
   "cell_type": "code",
   "execution_count": 21,
   "id": "1931eecd",
   "metadata": {},
   "outputs": [
    {
     "name": "stdout",
     "output_type": "stream",
     "text": [
      "[34, 54, 23.5, 22, 12, 78]\n",
      "[34, 89, 54, 23.5, 22, 12, 78]\n",
      "[29, 34, 89, 54, 23.5, 22, 12, 78]\n",
      "[29, 34, 89, 54, 23.5, 22, 12, 78, 6, 7]\n"
     ]
    }
   ],
   "source": [
    "#List Operations\n",
    "l=[34,54,23.5,22,12]\n",
    "l.append(78)# one elemengt at once at last\n",
    "print(l)\n",
    "l.insert(1,89)\n",
    "print(l)\n",
    "l.insert(0,29)#one element at once anywhere\n",
    "print(l)\n",
    "a=[6,7]\n",
    "l.extend(a)#multiple elements at once\n",
    "print(l)\n",
    "#strings--40 builtin functions--30-35 covered imp\n",
    "#tuple-only 3 -4\n",
    "#lists-20 builtin functions-15-16 imp"
   ]
  },
  {
   "cell_type": "code",
   "execution_count": 32,
   "id": "0eb7af5f",
   "metadata": {},
   "outputs": [
    {
     "name": "stdout",
     "output_type": "stream",
     "text": [
      "145.5\n",
      "54\n",
      "12\n",
      "[54, 34, 23.5, 22, 12]\n",
      "[]\n",
      "[22]\n",
      "[54, 23.5, 22, 12]\n",
      "23.5\n"
     ]
    }
   ],
   "source": [
    "#sum, max,min, sorted , sort\n",
    "l=[34,54,23.5,22,12]\n",
    "print(sum(l))\n",
    "print(max(l))\n",
    "print(min(l))\n",
    "print(sorted(l,reverse=True))\n",
    "print(l[2:2])\n",
    "print(l[3:4])\n",
    "print(l[1:])\n",
    "print(l[-3])"
   ]
  },
  {
   "cell_type": "code",
   "execution_count": 48,
   "id": "47fb9e67",
   "metadata": {},
   "outputs": [
    {
     "name": "stdout",
     "output_type": "stream",
     "text": [
      "[12, 22, 23.5, 34, 54]\n"
     ]
    }
   ],
   "source": [
    "#sorted-return a new updated list and does not changes the ori. list\n",
    "#sort-updates the original list and does not return anything\n",
    "\n",
    "l=[34,54,23.5,22,12]\n",
    "#print(sorted(l))\n",
    "l.sort()\n",
    "print(l)"
   ]
  },
  {
   "cell_type": "code",
   "execution_count": 36,
   "id": "b6cb62ed",
   "metadata": {},
   "outputs": [
    {
     "name": "stdout",
     "output_type": "stream",
     "text": [
      "[34, 54, 23.5, 22, 12]\n",
      "[12, 22, 23.5, 34, 54]\n"
     ]
    }
   ],
   "source": [
    "l=[34,54,23.5,22,12]\n",
    "a=sorted(l)\n",
    "#l.sort()\n",
    "print(l)\n",
    "\n",
    "print(a)"
   ]
  },
  {
   "cell_type": "code",
   "execution_count": 41,
   "id": "edd002e2",
   "metadata": {},
   "outputs": [
    {
     "name": "stdout",
     "output_type": "stream",
     "text": [
      "0\n"
     ]
    }
   ],
   "source": [
    "#count\n",
    "\n",
    "l=[2,3,3,2,1,4,5,6,\"a\",\"a\"]\n",
    "print(l.count(9))"
   ]
  },
  {
   "cell_type": "code",
   "execution_count": 44,
   "id": "fe6a9eee",
   "metadata": {},
   "outputs": [
    {
     "name": "stdout",
     "output_type": "stream",
     "text": [
      "4\n"
     ]
    }
   ],
   "source": [
    "#index of string is same as index of list\n",
    "List = [1, 2, 3, 1, 2, 1, 2, 3, 2, 1]\n",
    "print(List.index(2,2,8))\n",
    "print()"
   ]
  },
  {
   "cell_type": "code",
   "execution_count": 49,
   "id": "f75d8d88",
   "metadata": {},
   "outputs": [
    {
     "name": "stdout",
     "output_type": "stream",
     "text": [
      "3148359453120\n",
      "[12, 22, 23.5, 54, 34]\n",
      "3148359453120\n"
     ]
    }
   ],
   "source": [
    "l=[34,54,23.5,22,12]\n",
    "print(id(l))\n",
    "l.reverse()\n",
    "print(l)\n",
    "print(id(l))\n",
    "#only reverse---use reverse..working is same as sort--changes the original list\n",
    "#sort in reverse--use sort/sorted along with reverse parameter"
   ]
  },
  {
   "cell_type": "code",
   "execution_count": 58,
   "id": "93cb960a",
   "metadata": {},
   "outputs": [
    {
     "name": "stdout",
     "output_type": "stream",
     "text": [
      "[34, 54, 23.5, 22, 34, 12]\n",
      "108\n",
      "[34, 23.5, 22, 34, 12]\n",
      "[23.5, 22, 34, 12]\n"
     ]
    }
   ],
   "source": [
    "#del and pop\n",
    "l=[34,54,23.5,22,34,12]\n",
    "#del l[0]\n",
    "print(l)\n",
    "#del l\n",
    "#print(l)\n",
    "#del is used to remove the value and does nothing else\n",
    "#pop is used to remove and return the value to you\n",
    "a=l.pop(1)\n",
    "print(a*2)\n",
    "#by default  last value\n",
    "print(l)\n",
    "l.remove(34)\n",
    "print(l)"
   ]
  },
  {
   "cell_type": "code",
   "execution_count": null,
   "id": "afc414f2",
   "metadata": {},
   "outputs": [],
   "source": [
    "#find the occur. using count\n",
    "\n",
    " #run for loop till count value\n",
    "  #   and remove"
   ]
  },
  {
   "cell_type": "code",
   "execution_count": null,
   "id": "6c9a9dba",
   "metadata": {},
   "outputs": [],
   "source": [
    "#Scenario--I wanted to delete 23 from a list but do not know the index or prsence"
   ]
  },
  {
   "cell_type": "code",
   "execution_count": 61,
   "id": "0f8fb4bd",
   "metadata": {},
   "outputs": [
    {
     "name": "stdout",
     "output_type": "stream",
     "text": [
      "[]\n",
      "[8]\n"
     ]
    }
   ],
   "source": [
    "#clear --removes all the elments at once\n",
    "l=[2,3,4]\n",
    "l.clear()\n",
    "print(l)\n",
    "l.append(8)\n",
    "print(l)"
   ]
  },
  {
   "cell_type": "code",
   "execution_count": 67,
   "id": "e7c04482",
   "metadata": {},
   "outputs": [
    {
     "name": "stdout",
     "output_type": "stream",
     "text": [
      "[3, 4, 2, 'TT']\n",
      "[2, 'TT', 2, 'TT', 2, 'TT']\n"
     ]
    }
   ],
   "source": [
    "#list operations\n",
    "\n",
    "l=[3,4]\n",
    "l1=[2,\"TT\"]\n",
    "\n",
    "print(l+l1)\n",
    "print(l1*3)"
   ]
  },
  {
   "cell_type": "code",
   "execution_count": 82,
   "id": "4dd17aec",
   "metadata": {},
   "outputs": [
    {
     "name": "stdout",
     "output_type": "stream",
     "text": [
      "{'ID': 233454, 'Name': 'Sagar', 'City': 'Noida', 0: [9, 8, 7], 'Exam': 'Noida', 'Noida': 'Noida', 'Nested': {1: 2, '3': 4}}\n",
      "233454\n",
      "2\n"
     ]
    }
   ],
   "source": [
    "#Dictionary introduction\n",
    "#no repe in keys and no indexing\n",
    "#latest value will be considered--IMPPPPP!!!!\n",
    "d={}\n",
    "#key values-----TUple, int, string only\n",
    "#values ----any datatype\n",
    "#key:value\n",
    "d[\"ID\"]=233454\n",
    "d[\"Name\"]=\"Sagar\"\n",
    "d[\"City\"]=\"Delhi\"\n",
    "#print(d)\n",
    "d[\"City\"]=\"Noida\"\n",
    "d[0]=[9,8]\n",
    "#print(d)\n",
    "#del d[0]\n",
    "#print(d)\n",
    "d[0].append(7)\n",
    "#print(d)\n",
    "#print(\"Sagar\" in d)\n",
    "#print(\"City\" in d)\n",
    "d[\"Exam\"]=\"Noida\"\n",
    "#print(d)\n",
    "d[\"Noida\"]=\"Noida\"\n",
    "#print(d)\n",
    "d[\"Nested\"]={1:2,\"3\":4}\n",
    "print(d)\n",
    "print(d[\"ID\"])\n",
    "print(d[\"Nested\"][1])\n",
    "#membership is always decided by the presence of keys"
   ]
  },
  {
   "cell_type": "code",
   "execution_count": null,
   "id": "9c6512b0",
   "metadata": {},
   "outputs": [],
   "source": []
  }
 ],
 "metadata": {
  "kernelspec": {
   "display_name": "Python 3 (ipykernel)",
   "language": "python",
   "name": "python3"
  },
  "language_info": {
   "codemirror_mode": {
    "name": "ipython",
    "version": 3
   },
   "file_extension": ".py",
   "mimetype": "text/x-python",
   "name": "python",
   "nbconvert_exporter": "python",
   "pygments_lexer": "ipython3",
   "version": "3.10.2"
  }
 },
 "nbformat": 4,
 "nbformat_minor": 5
}
