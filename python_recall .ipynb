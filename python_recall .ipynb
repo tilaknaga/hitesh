{
 "cells": [
  {
   "cell_type": "code",
   "execution_count": null,
   "id": "a6f35a7c",
   "metadata": {},
   "outputs": [],
   "source": [
    "#fibonacci series\n",
    "\n",
    "n = int(input(\"enter a number:\"))\n",
    "a=0\n",
    "b=1\n",
    "c=0\n",
    "\n",
    "while c<n:\n",
    "    a=b\n",
    "    b=c\n",
    "    c=a+b \n",
    "    if c<n:\n",
    "        print(c)"
   ]
  },
  {
   "cell_type": "code",
   "execution_count": 3,
   "id": "15581f91",
   "metadata": {},
   "outputs": [
    {
     "name": "stdout",
     "output_type": "stream",
     "text": [
      "{1, 2, 3, 4}\n",
      "<class 'set'>\n"
     ]
    }
   ],
   "source": [
    "l = [1,2,3,4]\n",
    "a = set(l)\n",
    "print(a)\n",
    "print(type(a))"
   ]
  },
  {
   "cell_type": "code",
   "execution_count": 7,
   "id": "135eefee",
   "metadata": {},
   "outputs": [
    {
     "name": "stdout",
     "output_type": "stream",
     "text": [
      "tilak\n",
      "<class 'str'>\n"
     ]
    }
   ],
   "source": [
    "l = [\"t\",\"i\",\"l\",\"a\",\"k\"]\n",
    "b = \"\".join(l)\n",
    "print(b)\n",
    "print(type(b))"
   ]
  },
  {
   "cell_type": "code",
   "execution_count": 8,
   "id": "e6374ba6",
   "metadata": {},
   "outputs": [
    {
     "name": "stdout",
     "output_type": "stream",
     "text": [
      "4\n"
     ]
    }
   ],
   "source": [
    "l = [1,2,3,4,4,5,6,67,3,3,3,5,6,6,6]\n",
    "b = l.count(3)\n",
    "print(b)"
   ]
  },
  {
   "cell_type": "code",
   "execution_count": 1,
   "id": "42eb8ae1",
   "metadata": {},
   "outputs": [
    {
     "name": "stdout",
     "output_type": "stream",
     "text": [
      "0 : index of tilak\n",
      "1 : index of shakti\n",
      "2 : index of shreyank\n",
      "3 : index of sharad\n"
     ]
    }
   ],
   "source": [
    "l = ['tilak','shakti','shreyank','sharad']     \n",
    "\n",
    "for i,j in enumerate(l):\n",
    "     print(i,': index of',j)"
   ]
  },
  {
   "cell_type": "code",
   "execution_count": 2,
   "id": "67b1884d",
   "metadata": {},
   "outputs": [
    {
     "name": "stdout",
     "output_type": "stream",
     "text": [
      "5050\n"
     ]
    }
   ],
   "source": [
    "sumi=0\n",
    "for i in range(1,101):\n",
    "    sumi = sumi+i\n",
    "print(sumi)"
   ]
  },
  {
   "cell_type": "code",
   "execution_count": 18,
   "id": "9da74d20",
   "metadata": {},
   "outputs": [
    {
     "name": "stdout",
     "output_type": "stream",
     "text": [
      "3\n",
      "5\n"
     ]
    }
   ],
   "source": [
    "a = [-1, 2, -1, 3, 2]\n",
    "\n",
    "for i in range\n",
    "print(a[3])\n",
    "print(len(a))\n"
   ]
  },
  {
   "cell_type": "code",
   "execution_count": 30,
   "id": "c0b92e4c",
   "metadata": {},
   "outputs": [
    {
     "name": "stdout",
     "output_type": "stream",
     "text": [
      "[1, 2, 3, 4, 5, 6]\n"
     ]
    }
   ],
   "source": [
    "l1 = [1,2,3]\n",
    "l2 = [4,5,6]\n",
    "\n",
    "print(l1+l2)\n",
    "   "
   ]
  },
  {
   "cell_type": "code",
   "execution_count": null,
   "id": "3247b8ca",
   "metadata": {},
   "outputs": [],
   "source": []
  }
 ],
 "metadata": {
  "kernelspec": {
   "display_name": "Python 3 (ipykernel)",
   "language": "python",
   "name": "python3"
  },
  "language_info": {
   "codemirror_mode": {
    "name": "ipython",
    "version": 3
   },
   "file_extension": ".py",
   "mimetype": "text/x-python",
   "name": "python",
   "nbconvert_exporter": "python",
   "pygments_lexer": "ipython3",
   "version": "3.9.7"
  }
 },
 "nbformat": 4,
 "nbformat_minor": 5
}
