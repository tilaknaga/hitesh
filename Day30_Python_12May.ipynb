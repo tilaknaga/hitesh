{
 "cells": [
  {
   "cell_type": "code",
   "execution_count": 1,
   "id": "87e7b29a",
   "metadata": {},
   "outputs": [
    {
     "name": "stdout",
     "output_type": "stream",
     "text": [
      "Name:  R2J\n",
      "Age:  20\n"
     ]
    }
   ],
   "source": [
    "# program to illustrate public access modifier in a class\n",
    "\n",
    "\n",
    "\n",
    "# creating object of the class\n",
    "obj = Geek(\"R2J\", 20)\n",
    "\n",
    "# accessing public data member\n",
    "print(\"Name: \", obj.geekName)\n",
    "\n",
    "# calling public member function of the class\n",
    "obj.displayAge()"
   ]
  },
  {
   "cell_type": "code",
   "execution_count": 16,
   "id": "6e18f8e0",
   "metadata": {},
   "outputs": [
    {
     "ename": "IndentationError",
     "evalue": "unindent does not match any outer indentation level (<tokenize>, line 16)",
     "output_type": "error",
     "traceback": [
      "\u001b[1;36m  File \u001b[1;32m<tokenize>:16\u001b[1;36m\u001b[0m\n\u001b[1;33m    def displayName(self):\u001b[0m\n\u001b[1;37m    ^\u001b[0m\n\u001b[1;31mIndentationError\u001b[0m\u001b[1;31m:\u001b[0m unindent does not match any outer indentation level\n"
     ]
    }
   ],
   "source": [
    "class Geek:\n",
    "\t\n",
    "\t# constructor\n",
    "\tdef __init__(self, name, age):\n",
    "\t\t\n",
    "\t\t# public data members\n",
    "\t\tself.__geekName = name\n",
    "\t\tself.geekAge = age\n",
    "\n",
    "\t# public member function\t\n",
    "\tdef displayAge(self):\n",
    "\t\t\n",
    "\t\t# accessing public data member\n",
    "\t\tprint(\"Age: \", self.geekAge)\n",
    "        \n",
    "    def displayName(self):\n",
    "        print('Name is ',__geekName)\n",
    "        \n",
    "A=Geek(\"Sagar\",25)  \n",
    "\n",
    "print(A.geekAge)\n",
    "#print(A.geekName)\n",
    "A.displayName()\n"
   ]
  },
  {
   "cell_type": "code",
   "execution_count": 18,
   "id": "c2df1449",
   "metadata": {},
   "outputs": [
    {
     "ename": "AttributeError",
     "evalue": "'Geek' object has no attribute '__name'",
     "output_type": "error",
     "traceback": [
      "\u001b[1;31m---------------------------------------------------------------------------\u001b[0m",
      "\u001b[1;31mAttributeError\u001b[0m                            Traceback (most recent call last)",
      "Input \u001b[1;32mIn [18]\u001b[0m, in \u001b[0;36m<cell line: 31>\u001b[1;34m()\u001b[0m\n\u001b[0;32m     29\u001b[0m obj \u001b[38;5;241m=\u001b[39m Geek(\u001b[38;5;124m\"\u001b[39m\u001b[38;5;124mR2J\u001b[39m\u001b[38;5;124m\"\u001b[39m, \u001b[38;5;241m1706256\u001b[39m, \u001b[38;5;124m\"\u001b[39m\u001b[38;5;124mInformation Technology\u001b[39m\u001b[38;5;124m\"\u001b[39m)\n\u001b[0;32m     30\u001b[0m \u001b[38;5;66;03m#print(obj.__displayDetails())\u001b[39;00m\n\u001b[1;32m---> 31\u001b[0m \u001b[38;5;28mprint\u001b[39m(\u001b[43mobj\u001b[49m\u001b[38;5;241;43m.\u001b[39;49m\u001b[43m__name\u001b[49m)\n\u001b[0;32m     33\u001b[0m \u001b[38;5;66;03m# calling public member function of the class\u001b[39;00m\n\u001b[0;32m     34\u001b[0m obj\u001b[38;5;241m.\u001b[39maccessPrivateFunction()\n",
      "\u001b[1;31mAttributeError\u001b[0m: 'Geek' object has no attribute '__name'"
     ]
    }
   ],
   "source": [
    "class Geek:\n",
    "\t\n",
    "\t# private members\n",
    "\t__name = None\n",
    "\t__roll = None\n",
    "\t__branch = None\n",
    "\n",
    "\t# constructor\n",
    "\tdef __init__(self, name, roll, branch):\n",
    "\t\tself.__name = name\n",
    "\t\tself.__roll = roll\n",
    "\t\tself.__branch = branch\n",
    "\n",
    "\t# private member function\n",
    "\tdef __displayDetails(self):\n",
    "\t\t\n",
    "\t\t# accessing private data members\n",
    "\t\tprint(\"Name: \", self.__name)\n",
    "\t\tprint(\"Roll: \", self.__roll)\n",
    "\t\tprint(\"Branch: \", self.__branch)\n",
    "\t\n",
    "\t# public member function\n",
    "\tdef accessPrivateFunction(self):\n",
    "\t\t\t\n",
    "\t\t# accessing private member function\n",
    "\t\tself.__displayDetails()\n",
    "\n",
    "# creating object\n",
    "obj = Geek(\"R2J\", 1706256, \"Information Technology\")\n",
    "#print(obj.__displayDetails())\n",
    "print(obj.__name)\n",
    "\n",
    "# calling public member function of the class\n",
    "obj.accessPrivateFunction()\n",
    "\n"
   ]
  },
  {
   "cell_type": "code",
   "execution_count": 21,
   "id": "e7df4449",
   "metadata": {},
   "outputs": [
    {
     "name": "stdout",
     "output_type": "stream",
     "text": [
      "Name:  R2J\n",
      "Roll:  1706256\n",
      "Branch:  Information Technology\n"
     ]
    }
   ],
   "source": [
    "# super class\n",
    "class Student:\n",
    "\t\n",
    "\t# protected data members\n",
    "\t_name = None\n",
    "\t_roll = None\n",
    "\t_branch = None\n",
    "\t\n",
    "\t# constructor\n",
    "\tdef __init__(self, name, roll, branch):\n",
    "\t\tself._name = name\n",
    "\t\tself._roll = roll\n",
    "\t\tself._branch = branch\n",
    "\t\n",
    "\t# protected member function\n",
    "\tdef _displayRollAndBranch(self):\n",
    "\n",
    "\t\t# accessing protected data members\n",
    "\t\tprint(\"Roll: \", self._roll)\n",
    "\t\tprint(\"Branch: \", self._branch)\n",
    "# derived class\n",
    "class Geek(Student):\n",
    "\n",
    "\t# constructor\n",
    "\tdef __init__(self, name, roll, branch):\n",
    "        #public       \n",
    "\t\t\tStudent.__init__(self, name, roll, branch)#instead of having own constr it is \n",
    "            #calling parent class constructor\n",
    "\t\t\n",
    "\t# public member function\n",
    "\tdef displayDetails(self):\n",
    "\t\t\t\t\n",
    "\t\t\t\t# accessing protected data members of super class\n",
    "\t\t\t\tprint(\"Name: \", self._name)\n",
    "\t\t\t\t\n",
    "\t\t\t\t# accessing protected member functions of super class\n",
    "\t\t\t\tself._displayRollAndBranch()\n",
    "\n",
    "# creating objects of the derived class\t\n",
    "obj = Geek(\"R2J\", 1706256, \"Information Technology\")\n",
    "#print(obj.name)\n",
    "# calling public member functions of the class\n",
    "obj.displayDetails()\n"
   ]
  },
  {
   "cell_type": "code",
   "execution_count": 23,
   "id": "3de88d91",
   "metadata": {},
   "outputs": [
    {
     "ename": "AttributeError",
     "evalue": "'Geek' object has no attribute '__name'",
     "output_type": "error",
     "traceback": [
      "\u001b[1;31m---------------------------------------------------------------------------\u001b[0m",
      "\u001b[1;31mAttributeError\u001b[0m                            Traceback (most recent call last)",
      "Input \u001b[1;32mIn [23]\u001b[0m, in \u001b[0;36m<cell line: 26>\u001b[1;34m()\u001b[0m\n\u001b[0;32m     24\u001b[0m \u001b[38;5;66;03m# creating object\u001b[39;00m\n\u001b[0;32m     25\u001b[0m obj \u001b[38;5;241m=\u001b[39m Geek(\u001b[38;5;124m\"\u001b[39m\u001b[38;5;124mR2J\u001b[39m\u001b[38;5;124m\"\u001b[39m, \u001b[38;5;241m1706256\u001b[39m, \u001b[38;5;124m\"\u001b[39m\u001b[38;5;124mInformation Technology\u001b[39m\u001b[38;5;124m\"\u001b[39m)\n\u001b[1;32m---> 26\u001b[0m \u001b[38;5;28mprint\u001b[39m(\u001b[43mobj\u001b[49m\u001b[38;5;241;43m.\u001b[39;49m\u001b[43m__name\u001b[49m)\n\u001b[0;32m     27\u001b[0m \u001b[38;5;66;03m# calling public member function of the class\u001b[39;00m\n\u001b[0;32m     28\u001b[0m obj\u001b[38;5;241m.\u001b[39maccessPrivateFunction()\n",
      "\u001b[1;31mAttributeError\u001b[0m: 'Geek' object has no attribute '__name'"
     ]
    }
   ],
   "source": [
    "class Geek:\n",
    "\t\n",
    "\t# private members\n",
    "\t__name = None\n",
    "\t__roll = None\n",
    "\t__branch = None\n",
    "\n",
    "\t# constructor\n",
    "\tdef __init__(self, name, roll, branch):\n",
    "\t\tself.__name = name\n",
    "\t\tself.__roll = roll\n",
    "\t\tself.__branch = branch\n",
    "\t\n",
    "\t# public member function\n",
    "\tdef accessPrivateFunction(self):\n",
    "\t\t\t\n",
    "\t\t# accessing private data members\n",
    "\t\tprint(\"Name: \", self.__name)\n",
    "\t\tprint(\"Roll: \", self.__roll)\n",
    "\t\tprint(\"Branch: \", self.__branch)\n",
    "\n",
    "\n",
    "\n",
    "# creating object\n",
    "obj = Geek(\"R2J\", 1706256, \"Information Technology\")\n",
    "print(obj.__name)\n",
    "# calling public member function of the class\n",
    "obj.accessPrivateFunction()\n"
   ]
  },
  {
   "cell_type": "code",
   "execution_count": 29,
   "id": "e2a3f3b6",
   "metadata": {},
   "outputs": [
    {
     "name": "stdout",
     "output_type": "stream",
     "text": [
      "20\n",
      "0\n",
      "Error caught\n",
      "Atlast\n"
     ]
    }
   ],
   "source": [
    "try:\n",
    "    a=int(input())\n",
    "    b=int(input())\n",
    "\n",
    "    c=a/b\n",
    "except:\n",
    "    print(\"Error caught\")\n",
    "else:    \n",
    "    print(c)\n",
    "    print('The End')\n",
    "    print(\"TCS\")\n",
    "    \n",
    "finally:\n",
    "    print(\"Atlast\")"
   ]
  },
  {
   "cell_type": "code",
   "execution_count": 32,
   "id": "d100754c",
   "metadata": {},
   "outputs": [
    {
     "name": "stdout",
     "output_type": "stream",
     "text": [
      "20\n",
      "0\n",
      "Atlast\n"
     ]
    },
    {
     "ename": "ZeroDivisionError",
     "evalue": "division by zero",
     "output_type": "error",
     "traceback": [
      "\u001b[1;31m---------------------------------------------------------------------------\u001b[0m",
      "\u001b[1;31mZeroDivisionError\u001b[0m                         Traceback (most recent call last)",
      "Input \u001b[1;32mIn [32]\u001b[0m, in \u001b[0;36m<cell line: 1>\u001b[1;34m()\u001b[0m\n\u001b[0;32m      2\u001b[0m     a\u001b[38;5;241m=\u001b[39m\u001b[38;5;28mint\u001b[39m(\u001b[38;5;28minput\u001b[39m())\n\u001b[0;32m      3\u001b[0m     b\u001b[38;5;241m=\u001b[39m\u001b[38;5;28mint\u001b[39m(\u001b[38;5;28minput\u001b[39m())\n\u001b[1;32m----> 5\u001b[0m     c\u001b[38;5;241m=\u001b[39m\u001b[43ma\u001b[49m\u001b[38;5;241;43m/\u001b[39;49m\u001b[43mb\u001b[49m\n\u001b[0;32m      7\u001b[0m \u001b[38;5;28;01mfinally\u001b[39;00m:\n\u001b[0;32m      8\u001b[0m     \u001b[38;5;28mprint\u001b[39m(\u001b[38;5;124m\"\u001b[39m\u001b[38;5;124mAtlast\u001b[39m\u001b[38;5;124m\"\u001b[39m)\n",
      "\u001b[1;31mZeroDivisionError\u001b[0m: division by zero"
     ]
    }
   ],
   "source": [
    "try:\n",
    "    a=int(input())\n",
    "    b=int(input())\n",
    "\n",
    "    c=a/b\n",
    "\n",
    "finally:\n",
    "    print(\"Atlast\")"
   ]
  },
  {
   "cell_type": "code",
   "execution_count": 33,
   "id": "199657af",
   "metadata": {},
   "outputs": [
    {
     "ename": "KeyError",
     "evalue": "6",
     "output_type": "error",
     "traceback": [
      "\u001b[1;31m---------------------------------------------------------------------------\u001b[0m",
      "\u001b[1;31mKeyError\u001b[0m                                  Traceback (most recent call last)",
      "Input \u001b[1;32mIn [33]\u001b[0m, in \u001b[0;36m<cell line: 2>\u001b[1;34m()\u001b[0m\n\u001b[0;32m      1\u001b[0m d\u001b[38;5;241m=\u001b[39m{\u001b[38;5;241m2\u001b[39m:\u001b[38;5;241m3\u001b[39m}\n\u001b[1;32m----> 2\u001b[0m \u001b[38;5;28mprint\u001b[39m(\u001b[43md\u001b[49m\u001b[43m[\u001b[49m\u001b[38;5;241;43m6\u001b[39;49m\u001b[43m]\u001b[49m)\n",
      "\u001b[1;31mKeyError\u001b[0m: 6"
     ]
    }
   ],
   "source": [
    "d={2:3}\n",
    "print(d[6])"
   ]
  },
  {
   "cell_type": "code",
   "execution_count": 34,
   "id": "b40d32db",
   "metadata": {},
   "outputs": [
    {
     "ename": "IndexError",
     "evalue": "list index out of range",
     "output_type": "error",
     "traceback": [
      "\u001b[1;31m---------------------------------------------------------------------------\u001b[0m",
      "\u001b[1;31mIndexError\u001b[0m                                Traceback (most recent call last)",
      "Input \u001b[1;32mIn [34]\u001b[0m, in \u001b[0;36m<cell line: 3>\u001b[1;34m()\u001b[0m\n\u001b[0;32m      1\u001b[0m l\u001b[38;5;241m=\u001b[39m[\u001b[38;5;241m4\u001b[39m,\u001b[38;5;241m5\u001b[39m]\n\u001b[1;32m----> 3\u001b[0m \u001b[38;5;28mprint\u001b[39m(\u001b[43ml\u001b[49m\u001b[43m[\u001b[49m\u001b[38;5;241;43m9\u001b[39;49m\u001b[43m]\u001b[49m)\n",
      "\u001b[1;31mIndexError\u001b[0m: list index out of range"
     ]
    }
   ],
   "source": [
    "l=[4,5]\n",
    "\n",
    "print(l[9])"
   ]
  },
  {
   "cell_type": "code",
   "execution_count": 36,
   "id": "3cfc0fcc",
   "metadata": {},
   "outputs": [
    {
     "ename": "UnboundLocalError",
     "evalue": "local variable 'y' referenced before assignment",
     "output_type": "error",
     "traceback": [
      "\u001b[1;31m---------------------------------------------------------------------------\u001b[0m",
      "\u001b[1;31mUnboundLocalError\u001b[0m                         Traceback (most recent call last)",
      "Input \u001b[1;32mIn [36]\u001b[0m, in \u001b[0;36m<cell line: 6>\u001b[1;34m()\u001b[0m\n\u001b[0;32m      2\u001b[0m     y\u001b[38;5;241m=\u001b[39my\u001b[38;5;241m+\u001b[39m\u001b[38;5;241m1\u001b[39m\n\u001b[0;32m      5\u001b[0m y\u001b[38;5;241m=\u001b[39m\u001b[38;5;241m9\u001b[39m\n\u001b[1;32m----> 6\u001b[0m \u001b[43mx\u001b[49m\u001b[43m(\u001b[49m\u001b[43m)\u001b[49m\n\u001b[0;32m      7\u001b[0m \u001b[38;5;28mprint\u001b[39m(y)\n",
      "Input \u001b[1;32mIn [36]\u001b[0m, in \u001b[0;36mx\u001b[1;34m()\u001b[0m\n\u001b[0;32m      1\u001b[0m \u001b[38;5;28;01mdef\u001b[39;00m \u001b[38;5;21mx\u001b[39m():\n\u001b[1;32m----> 2\u001b[0m     y\u001b[38;5;241m=\u001b[39m\u001b[43my\u001b[49m\u001b[38;5;241m+\u001b[39m\u001b[38;5;241m1\u001b[39m\n",
      "\u001b[1;31mUnboundLocalError\u001b[0m: local variable 'y' referenced before assignment"
     ]
    }
   ],
   "source": [
    "def x():\n",
    "    y=y+1\n",
    "\n",
    "    \n",
    "y=9\n",
    "x()\n",
    "print(y)"
   ]
  },
  {
   "cell_type": "code",
   "execution_count": 38,
   "id": "348496fe",
   "metadata": {},
   "outputs": [
    {
     "name": "stdout",
     "output_type": "stream",
     "text": [
      "20\n",
      "5\n",
      "IndexError caught\n",
      "Atlast\n"
     ]
    }
   ],
   "source": [
    "try:\n",
    "    a=int(input())\n",
    "    b=int(input())\n",
    "\n",
    "    c=a/b\n",
    "    l=[4,5]\n",
    "    print(l[9])\n",
    "except ZeroDivisionError:\n",
    "    print(\"ZeroDivisionError Error caught\")\n",
    "except IndexError:\n",
    "    print(\"IndexError caught\")\n",
    "    \n",
    "else:    \n",
    "    print(c)\n",
    "    print('The End')\n",
    "    print(\"TCS\")\n",
    "    \n",
    "finally:\n",
    "    print(\"Atlast\")"
   ]
  },
  {
   "cell_type": "code",
   "execution_count": 40,
   "id": "1211b9cc",
   "metadata": {},
   "outputs": [
    {
     "name": "stdout",
     "output_type": "stream",
     "text": [
      "20\n",
      "0\n",
      " Error caught\n",
      "Atlast\n"
     ]
    }
   ],
   "source": [
    "try:\n",
    "    a=int(input())\n",
    "    b=int(input())\n",
    "\n",
    "    c=a/b\n",
    "    l=[4,5]\n",
    "    print(l[9])\n",
    "except Exception:\n",
    "    print(\" Error caught\")\n",
    "else:    \n",
    "    print(c)\n",
    "    print('The End')\n",
    "    print(\"TCS\")\n",
    "    \n",
    "finally:\n",
    "    print(\"Atlast\")"
   ]
  },
  {
   "cell_type": "code",
   "execution_count": 1,
   "id": "f4c19f08",
   "metadata": {},
   "outputs": [
    {
     "name": "stdout",
     "output_type": "stream",
     "text": [
      "21\n",
      "26\n",
      "True\n"
     ]
    }
   ],
   "source": [
    "#static method and class method--Both of them are related to class\n",
    "\n",
    "from datetime import date\n",
    "class Person:\n",
    "\tdef __init__(self, name, age):\n",
    "\t\tself.name = name\n",
    "\t\tself.age = age\n",
    "\t\n",
    "\t# a class method to create a Person object by birth year.\n",
    "\t@classmethod\n",
    "\tdef fromBirthYear(cls, name, year):\n",
    "\t\treturn cls(name, date.today().year - year)\n",
    "\t\n",
    "\t# a static method to check if a Person is adult or not.\n",
    "\t@staticmethod\n",
    "\tdef isAdult(age):\n",
    "\t\treturn age > 18\n",
    "\n",
    "person1 = Person('mayank', 21)\n",
    "person2 = Person.fromBirthYear('mayank', 1996)\n",
    "\n",
    "print (person1.age)\n",
    "print (person2.age)\n",
    "\n",
    "# print the result\n",
    "print (Person.isAdult(22))\n",
    "\n"
   ]
  },
  {
   "cell_type": "code",
   "execution_count": null,
   "id": "72f5028e",
   "metadata": {},
   "outputs": [],
   "source": [
    "class Geek:\n",
    "\t\n",
    "\t# constructor\n",
    "\tdef __init__(self, name, age):\n",
    "\t\t\n",
    "\t\t# public data members\n",
    "\t\tself.geekName = name\n",
    "\t\tself.geekAge = age\n",
    "\n",
    "\t# public member function\t\n",
    "\tdef displayAge(self):\n",
    "\t\t\n",
    "\t\t# accessing public data member\n",
    "\t\tprint(\"Age: \", self.geekAge)\n",
    "        \n",
    "#Encpsulation- capturing /storing all in one place--methods, constr, attributes"
   ]
  }
 ],
 "metadata": {
  "kernelspec": {
   "display_name": "Python 3 (ipykernel)",
   "language": "python",
   "name": "python3"
  },
  "language_info": {
   "codemirror_mode": {
    "name": "ipython",
    "version": 3
   },
   "file_extension": ".py",
   "mimetype": "text/x-python",
   "name": "python",
   "nbconvert_exporter": "python",
   "pygments_lexer": "ipython3",
   "version": "3.9.7"
  }
 },
 "nbformat": 4,
 "nbformat_minor": 5
}
