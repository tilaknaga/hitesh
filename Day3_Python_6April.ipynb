{
 "cells": [
  {
   "cell_type": "code",
   "execution_count": 1,
   "id": "417fa2f1",
   "metadata": {},
   "outputs": [],
   "source": [
    "#Single Line comment"
   ]
  },
  {
   "cell_type": "code",
   "execution_count": 2,
   "id": "16ddd74e",
   "metadata": {},
   "outputs": [
    {
     "name": "stdout",
     "output_type": "stream",
     "text": [
      "INDIA\n"
     ]
    }
   ],
   "source": [
    "# Print\n",
    "print(\"INDIA\")"
   ]
  },
  {
   "cell_type": "code",
   "execution_count": 1,
   "id": "2f92bc64",
   "metadata": {},
   "outputs": [
    {
     "name": "stdout",
     "output_type": "stream",
     "text": [
      "EdYoda\n"
     ]
    }
   ],
   "source": [
    "'''\n",
    "This is a multi line comment\n",
    "This is EdYOda classroom \n",
    "\n",
    "'''\n",
    "print(\"EdYoda\")"
   ]
  },
  {
   "cell_type": "code",
   "execution_count": 4,
   "id": "9e316d22",
   "metadata": {},
   "outputs": [
    {
     "ename": "ValueError",
     "evalue": "invalid literal for int() with base 10: 'IndiaRepublic'",
     "output_type": "error",
     "traceback": [
      "\u001b[1;31m---------------------------------------------------------------------------\u001b[0m",
      "\u001b[1;31mValueError\u001b[0m                                Traceback (most recent call last)",
      "Input \u001b[1;32mIn [4]\u001b[0m, in \u001b[0;36m<cell line: 3>\u001b[1;34m()\u001b[0m\n\u001b[0;32m      1\u001b[0m a\u001b[38;5;241m=\u001b[39m\u001b[38;5;124m\"\u001b[39m\u001b[38;5;124mIndia\u001b[39m\u001b[38;5;124m\"\u001b[39m\n\u001b[0;32m      2\u001b[0m b\u001b[38;5;241m=\u001b[39ma\u001b[38;5;241m+\u001b[39m\u001b[38;5;124m\"\u001b[39m\u001b[38;5;124mRepublic\u001b[39m\u001b[38;5;124m\"\u001b[39m\n\u001b[1;32m----> 3\u001b[0m \u001b[38;5;28mprint\u001b[39m(\u001b[38;5;28;43mint\u001b[39;49m\u001b[43m(\u001b[49m\u001b[43mb\u001b[49m\u001b[43m)\u001b[49m)\n",
      "\u001b[1;31mValueError\u001b[0m: invalid literal for int() with base 10: 'IndiaRepublic'"
     ]
    }
   ],
   "source": [
    "a=\"India\"\n",
    "b=a+\"Republic\"\n",
    "print(int(b))\n"
   ]
  },
  {
   "cell_type": "code",
   "execution_count": 5,
   "id": "ea2c8e32",
   "metadata": {},
   "outputs": [
    {
     "ename": "NameError",
     "evalue": "name 'String' is not defined",
     "output_type": "error",
     "traceback": [
      "\u001b[1;31m---------------------------------------------------------------------------\u001b[0m",
      "\u001b[1;31mNameError\u001b[0m                                 Traceback (most recent call last)",
      "Input \u001b[1;32mIn [5]\u001b[0m, in \u001b[0;36m<cell line: 3>\u001b[1;34m()\u001b[0m\n\u001b[0;32m      1\u001b[0m a\u001b[38;5;241m=\u001b[39m\u001b[38;5;124m\"\u001b[39m\u001b[38;5;124mIndia\u001b[39m\u001b[38;5;124m\"\u001b[39m\n\u001b[0;32m      2\u001b[0m b\u001b[38;5;241m=\u001b[39ma\u001b[38;5;241m+\u001b[39m\u001b[38;5;124m\"\u001b[39m\u001b[38;5;124mRepublic\u001b[39m\u001b[38;5;124m\"\u001b[39m\n\u001b[1;32m----> 3\u001b[0m \u001b[38;5;28mprint\u001b[39m(\u001b[43mString\u001b[49m(b))\n",
      "\u001b[1;31mNameError\u001b[0m: name 'String' is not defined"
     ]
    }
   ],
   "source": [
    "a=\"India\"\n",
    "b=a+\"Republic\"\n",
    "print(String(b))\n"
   ]
  },
  {
   "cell_type": "code",
   "execution_count": 6,
   "id": "ff071a05",
   "metadata": {},
   "outputs": [
    {
     "name": "stdout",
     "output_type": "stream",
     "text": [
      "IndiaRepublic\n"
     ]
    }
   ],
   "source": [
    "a=\"India\"\n",
    "b=a+\"Republic\"\n",
    "print(str(b))\n"
   ]
  },
  {
   "cell_type": "code",
   "execution_count": 8,
   "id": "9e066a02",
   "metadata": {},
   "outputs": [],
   "source": [
    "for i in range(2,10,-1):\n",
    " print(i,sep=\" \")"
   ]
  },
  {
   "cell_type": "code",
   "execution_count": 9,
   "id": "8c5c4152",
   "metadata": {},
   "outputs": [
    {
     "ename": "TypeError",
     "evalue": "'float' object cannot be interpreted as an integer",
     "output_type": "error",
     "traceback": [
      "\u001b[1;31m---------------------------------------------------------------------------\u001b[0m",
      "\u001b[1;31mTypeError\u001b[0m                                 Traceback (most recent call last)",
      "Input \u001b[1;32mIn [9]\u001b[0m, in \u001b[0;36m<cell line: 1>\u001b[1;34m()\u001b[0m\n\u001b[1;32m----> 1\u001b[0m \u001b[38;5;28;01mfor\u001b[39;00m i \u001b[38;5;129;01min\u001b[39;00m \u001b[38;5;28;43mrange\u001b[39;49m\u001b[43m(\u001b[49m\u001b[38;5;241;43m2\u001b[39;49m\u001b[43m,\u001b[49m\u001b[38;5;241;43m10\u001b[39;49m\u001b[43m,\u001b[49m\u001b[38;5;241;43m-\u001b[39;49m\u001b[38;5;241;43m1.5\u001b[39;49m\u001b[43m)\u001b[49m:\n\u001b[0;32m      2\u001b[0m  \u001b[38;5;28mprint\u001b[39m(i,sep\u001b[38;5;241m=\u001b[39m\u001b[38;5;124m\"\u001b[39m\u001b[38;5;124m \u001b[39m\u001b[38;5;124m\"\u001b[39m)\n",
      "\u001b[1;31mTypeError\u001b[0m: 'float' object cannot be interpreted as an integer"
     ]
    }
   ],
   "source": [
    "for i in range(2,10,-1.5):\n",
    " print(i,sep=\" \")"
   ]
  },
  {
   "cell_type": "code",
   "execution_count": 2,
   "id": "49f4d43c",
   "metadata": {},
   "outputs": [
    {
     "name": "stdout",
     "output_type": "stream",
     "text": [
      "Enter your age3\n",
      "3.0\n"
     ]
    }
   ],
   "source": [
    "a=input(\"Enter your age\")\n",
    "print(float(a))\n"
   ]
  },
  {
   "cell_type": "code",
   "execution_count": 8,
   "id": "76003a6b",
   "metadata": {},
   "outputs": [
    {
     "name": "stdout",
     "output_type": "stream",
     "text": [
      "Enter the values of the list1,2,3,4,4\n",
      "['1', '2', '3', '4', '4']\n"
     ]
    }
   ],
   "source": [
    "a=[]\n",
    "b=input(\"Enter the values of the list\")\n",
    "#user must give the input to the console in comma sepearted values\n",
    "#like 3,4,5,6-----[3,4,5,6]\n",
    "\n",
    "#split function\n",
    "# typecasted string to list datatype\n",
    "#split output datatype is list\n",
    "#inputvariable.split(\"seperator\")---syntax of split function\n",
    "a=b.split(\",\")\n",
    "print(a)\n"
   ]
  },
  {
   "cell_type": "code",
   "execution_count": 22,
   "id": "e6d104c8",
   "metadata": {},
   "outputs": [
    {
     "name": "stdout",
     "output_type": "stream",
     "text": [
      "A#B#C#D\n"
     ]
    }
   ],
   "source": [
    "l=[\"A\",\"B\",\"C\",\"D\"]\n",
    "#l is a list\n",
    "# join function to create a string from list of string\n",
    "#Seperator.join(list)\n",
    "#charcter between the values in string\n",
    "print(\"#\".join(l))\n",
    "\n"
   ]
  },
  {
   "cell_type": "code",
   "execution_count": 34,
   "id": "a99a404e",
   "metadata": {
    "scrolled": true
   },
   "outputs": [
    {
     "name": "stdout",
     "output_type": "stream",
     "text": [
      "Enter the roll no1234\n",
      "This is my roll number 1234\n",
      "<class 'str'>\n",
      "['1']\n",
      "1\n",
      "['1', '2']\n",
      "2\n",
      "['1', '2', '3']\n",
      "3\n",
      "['1', '2', '3', '4']\n",
      "4\n"
     ]
    }
   ],
   "source": [
    "a=input(\"Enter the roll no\")\n",
    "print(\"This is my roll number\",int(a))\n",
    "# store the digits of a roll number in a list\n",
    "#lis=a.split(\"\")\n",
    "#print(lis)\n",
    "# using for loop  to access the elements of string\n",
    "print(type(a))\n",
    "l=[]\n",
    "for i in a:\n",
    "    l.append(i)\n",
    "    print(l)\n",
    "    print(i)    \n",
    "  "
   ]
  },
  {
   "cell_type": "code",
   "execution_count": 29,
   "id": "15947d74",
   "metadata": {},
   "outputs": [
    {
     "name": "stdout",
     "output_type": "stream",
     "text": [
      "Sagar 33 56.6 33 "
     ]
    }
   ],
   "source": [
    "lis=[\"Sagar\",33,56.6,33]\n",
    "# using for loop  to access the elements of list\n",
    "for i in lis:\n",
    "  print(i,end=\" \")"
   ]
  },
  {
   "cell_type": "code",
   "execution_count": 30,
   "id": "a9ea9952",
   "metadata": {},
   "outputs": [
    {
     "name": "stdout",
     "output_type": "stream",
     "text": [
      "N e w D e l h i "
     ]
    }
   ],
   "source": [
    "s=\"NewDelhi\"\n",
    "# using for loop  to access the elements of string\n",
    "for i in s:\n",
    "  print(i,end=\" \")"
   ]
  },
  {
   "cell_type": "code",
   "execution_count": 35,
   "id": "be1d211e",
   "metadata": {},
   "outputs": [],
   "source": [
    "#append helps to add a list member into a list\n",
    "\n",
    "l=[1,2,3,4]\n",
    "\n",
    "l.append(5)"
   ]
  },
  {
   "cell_type": "code",
   "execution_count": 38,
   "id": "19a1c893",
   "metadata": {},
   "outputs": [
    {
     "name": "stdout",
     "output_type": "stream",
     "text": [
      "sagar\n",
      "{'a', 'g', 's', 'r'}\n"
     ]
    }
   ],
   "source": [
    "#I want to generate a new string from and old string which will not contain repeated values\n",
    "#\"sagar\"-----\"sgar\"\n",
    "# conversion from string to set and again back to string\n",
    "s=input()\n",
    "sets=set(s)\n",
    "#conversion from string to set \n",
    "nrs=str(sets)\n",
    "print(nrs)\n",
    "\n",
    "#conversion from set to string \n",
    "\n",
    "#no surety of order ...\n",
    "\n"
   ]
  },
  {
   "cell_type": "code",
   "execution_count": 11,
   "id": "2548bc67",
   "metadata": {},
   "outputs": [
    {
     "ename": "AttributeError",
     "evalue": "'tuple' object has no attribute 'append'",
     "output_type": "error",
     "traceback": [
      "\u001b[1;31m---------------------------------------------------------------------------\u001b[0m",
      "\u001b[1;31mAttributeError\u001b[0m                            Traceback (most recent call last)",
      "\u001b[1;32m~\\AppData\\Local\\Temp/ipykernel_4424/2073034554.py\u001b[0m in \u001b[0;36m<module>\u001b[1;34m\u001b[0m\n\u001b[0;32m      4\u001b[0m \u001b[1;33m\u001b[0m\u001b[0m\n\u001b[0;32m      5\u001b[0m \u001b[0mt\u001b[0m\u001b[1;33m=\u001b[0m\u001b[1;33m(\u001b[0m\u001b[1;36m3\u001b[0m\u001b[1;33m,\u001b[0m\u001b[1;36m4\u001b[0m\u001b[1;33m,\u001b[0m\u001b[1;36m5\u001b[0m\u001b[1;33m)\u001b[0m\u001b[1;33m\u001b[0m\u001b[1;33m\u001b[0m\u001b[0m\n\u001b[1;32m----> 6\u001b[1;33m \u001b[0mt\u001b[0m\u001b[1;33m.\u001b[0m\u001b[0mappend\u001b[0m\u001b[1;33m(\u001b[0m\u001b[1;36m6\u001b[0m\u001b[1;33m)\u001b[0m\u001b[1;33m\u001b[0m\u001b[1;33m\u001b[0m\u001b[0m\n\u001b[0m\u001b[0;32m      7\u001b[0m \u001b[0mprint\u001b[0m\u001b[1;33m(\u001b[0m\u001b[0mt\u001b[0m\u001b[1;33m)\u001b[0m\u001b[1;33m\u001b[0m\u001b[1;33m\u001b[0m\u001b[0m\n",
      "\u001b[1;31mAttributeError\u001b[0m: 'tuple' object has no attribute 'append'"
     ]
    }
   ],
   "source": [
    "# how to enter values in a tuple ??\n",
    "\n",
    "#we cannot mutate a tuple\n",
    "\n",
    "t=(3,4,5)\n",
    "t.append(6)\n",
    "print(t)"
   ]
  },
  {
   "cell_type": "code",
   "execution_count": 12,
   "id": "5b2d1b8f",
   "metadata": {},
   "outputs": [
    {
     "name": "stdout",
     "output_type": "stream",
     "text": [
      "222\n",
      "('222',)\n",
      "<class 'tuple'>\n"
     ]
    }
   ],
   "source": [
    "a=input()\n",
    "b=a.split(\",\")\n",
    "\n",
    "t=tuple(b)\n",
    "print(t)\n",
    "print(type(t))"
   ]
  },
  {
   "cell_type": "code",
   "execution_count": 44,
   "id": "2fab676e",
   "metadata": {
    "scrolled": true
   },
   "outputs": [
    {
     "name": "stdout",
     "output_type": "stream",
     "text": [
      "How many elements do want in a tuple5\n",
      "0 term\n",
      "34\n",
      "1 term\n",
      "56\n",
      "2 term\n",
      "78\n",
      "3 term\n",
      "56\n",
      "4 term\n",
      "33\n",
      "('34', '56', '78', '56', '33') <class 'tuple'>\n"
     ]
    }
   ],
   "source": [
    "l=[]\n",
    "#this is the way of declaring an empty list\n",
    "a=int(input(\"How many elements do want in a tuple\"))\n",
    "for i in range(a):\n",
    "    print(i,\"term\")\n",
    "    e=input()\n",
    "    l.append(e)\n",
    "t=tuple(l)    \n",
    "print(t,type(t)) \n"
   ]
  },
  {
   "cell_type": "code",
   "execution_count": 47,
   "id": "e402813d",
   "metadata": {},
   "outputs": [
    {
     "ename": "KeyboardInterrupt",
     "evalue": "Interrupted by user",
     "output_type": "error",
     "traceback": [
      "\u001b[1;31m---------------------------------------------------------------------------\u001b[0m",
      "\u001b[1;31mKeyboardInterrupt\u001b[0m                         Traceback (most recent call last)",
      "Input \u001b[1;32mIn [47]\u001b[0m, in \u001b[0;36m<cell line: 5>\u001b[1;34m()\u001b[0m\n\u001b[0;32m      1\u001b[0m l\u001b[38;5;241m=\u001b[39m[]\n\u001b[0;32m      2\u001b[0m \u001b[38;5;66;03m#this is the way of declaring an empty list\u001b[39;00m\n\u001b[0;32m      3\u001b[0m \u001b[38;5;66;03m# how to convert tuple into list\u001b[39;00m\n\u001b[1;32m----> 5\u001b[0m a\u001b[38;5;241m=\u001b[39m\u001b[38;5;28mint\u001b[39m(\u001b[38;5;28;43minput\u001b[39;49m\u001b[43m(\u001b[49m\u001b[38;5;124;43m\"\u001b[39;49m\u001b[38;5;124;43mHow many elements do want in a tuple\u001b[39;49m\u001b[38;5;124;43m\"\u001b[39;49m\u001b[43m)\u001b[49m)\n\u001b[0;32m      6\u001b[0m \u001b[38;5;28;01mfor\u001b[39;00m i \u001b[38;5;129;01min\u001b[39;00m \u001b[38;5;28mrange\u001b[39m(a):\n\u001b[0;32m      7\u001b[0m     \u001b[38;5;28mprint\u001b[39m(i,\u001b[38;5;124m\"\u001b[39m\u001b[38;5;124mterm\u001b[39m\u001b[38;5;124m\"\u001b[39m)\n",
      "File \u001b[1;32m~\\AppData\\Local\\Programs\\Python\\Python310\\lib\\site-packages\\ipykernel\\kernelbase.py:1159\u001b[0m, in \u001b[0;36mKernel.raw_input\u001b[1;34m(self, prompt)\u001b[0m\n\u001b[0;32m   1155\u001b[0m \u001b[38;5;28;01mif\u001b[39;00m \u001b[38;5;129;01mnot\u001b[39;00m \u001b[38;5;28mself\u001b[39m\u001b[38;5;241m.\u001b[39m_allow_stdin:\n\u001b[0;32m   1156\u001b[0m     \u001b[38;5;28;01mraise\u001b[39;00m StdinNotImplementedError(\n\u001b[0;32m   1157\u001b[0m         \u001b[38;5;124m\"\u001b[39m\u001b[38;5;124mraw_input was called, but this frontend does not support input requests.\u001b[39m\u001b[38;5;124m\"\u001b[39m\n\u001b[0;32m   1158\u001b[0m     )\n\u001b[1;32m-> 1159\u001b[0m \u001b[38;5;28;01mreturn\u001b[39;00m \u001b[38;5;28;43mself\u001b[39;49m\u001b[38;5;241;43m.\u001b[39;49m\u001b[43m_input_request\u001b[49m\u001b[43m(\u001b[49m\n\u001b[0;32m   1160\u001b[0m \u001b[43m    \u001b[49m\u001b[38;5;28;43mstr\u001b[39;49m\u001b[43m(\u001b[49m\u001b[43mprompt\u001b[49m\u001b[43m)\u001b[49m\u001b[43m,\u001b[49m\n\u001b[0;32m   1161\u001b[0m \u001b[43m    \u001b[49m\u001b[38;5;28;43mself\u001b[39;49m\u001b[38;5;241;43m.\u001b[39;49m\u001b[43m_parent_ident\u001b[49m\u001b[43m[\u001b[49m\u001b[38;5;124;43m\"\u001b[39;49m\u001b[38;5;124;43mshell\u001b[39;49m\u001b[38;5;124;43m\"\u001b[39;49m\u001b[43m]\u001b[49m\u001b[43m,\u001b[49m\n\u001b[0;32m   1162\u001b[0m \u001b[43m    \u001b[49m\u001b[38;5;28;43mself\u001b[39;49m\u001b[38;5;241;43m.\u001b[39;49m\u001b[43mget_parent\u001b[49m\u001b[43m(\u001b[49m\u001b[38;5;124;43m\"\u001b[39;49m\u001b[38;5;124;43mshell\u001b[39;49m\u001b[38;5;124;43m\"\u001b[39;49m\u001b[43m)\u001b[49m\u001b[43m,\u001b[49m\n\u001b[0;32m   1163\u001b[0m \u001b[43m    \u001b[49m\u001b[43mpassword\u001b[49m\u001b[38;5;241;43m=\u001b[39;49m\u001b[38;5;28;43;01mFalse\u001b[39;49;00m\u001b[43m,\u001b[49m\n\u001b[0;32m   1164\u001b[0m \u001b[43m\u001b[49m\u001b[43m)\u001b[49m\n",
      "File \u001b[1;32m~\\AppData\\Local\\Programs\\Python\\Python310\\lib\\site-packages\\ipykernel\\kernelbase.py:1201\u001b[0m, in \u001b[0;36mKernel._input_request\u001b[1;34m(self, prompt, ident, parent, password)\u001b[0m\n\u001b[0;32m   1198\u001b[0m             \u001b[38;5;28;01mbreak\u001b[39;00m\n\u001b[0;32m   1199\u001b[0m \u001b[38;5;28;01mexcept\u001b[39;00m \u001b[38;5;167;01mKeyboardInterrupt\u001b[39;00m:\n\u001b[0;32m   1200\u001b[0m     \u001b[38;5;66;03m# re-raise KeyboardInterrupt, to truncate traceback\u001b[39;00m\n\u001b[1;32m-> 1201\u001b[0m     \u001b[38;5;28;01mraise\u001b[39;00m \u001b[38;5;167;01mKeyboardInterrupt\u001b[39;00m(\u001b[38;5;124m\"\u001b[39m\u001b[38;5;124mInterrupted by user\u001b[39m\u001b[38;5;124m\"\u001b[39m) \u001b[38;5;28;01mfrom\u001b[39;00m \u001b[38;5;28mNone\u001b[39m\n\u001b[0;32m   1202\u001b[0m \u001b[38;5;28;01mexcept\u001b[39;00m \u001b[38;5;167;01mException\u001b[39;00m:\n\u001b[0;32m   1203\u001b[0m     \u001b[38;5;28mself\u001b[39m\u001b[38;5;241m.\u001b[39mlog\u001b[38;5;241m.\u001b[39mwarning(\u001b[38;5;124m\"\u001b[39m\u001b[38;5;124mInvalid Message:\u001b[39m\u001b[38;5;124m\"\u001b[39m, exc_info\u001b[38;5;241m=\u001b[39m\u001b[38;5;28;01mTrue\u001b[39;00m)\n",
      "\u001b[1;31mKeyboardInterrupt\u001b[0m: Interrupted by user"
     ]
    }
   ],
   "source": [
    "l=[]\n",
    "#this is the way of declaring an empty list\n",
    "# how to convert tuple into list\n",
    "\n",
    "a=int(input(\"How many elements do want in a tuple\"))\n",
    "for i in range(a):\n",
    "    print(i,\"term\")\n",
    "    e=input()\n",
    "    l.append(e)\n",
    "t=tuple(l)    \n",
    "print(t,type(t)) \n",
    "\n",
    "listlast=list(t)\n",
    "n=int(input(\"Enter the new numbers to be added into the list\"))\n",
    "for i in range(n):\n",
    "    print(i,\"term\")\n",
    "    e=input()\n",
    "    listlast.append(e)\n",
    "print(listlast,type(listlast))\n",
    "print(tuple(listlast),type(tuple(listlast)))\n"
   ]
  },
  {
   "cell_type": "code",
   "execution_count": 52,
   "id": "67dfb02c",
   "metadata": {},
   "outputs": [
    {
     "name": "stdout",
     "output_type": "stream",
     "text": [
      "[2, 3, 4, 9, 5, 6]\n",
      "ElonM8sk\n"
     ]
    }
   ],
   "source": [
    "#append example\n",
    "\n",
    "l1=[2,3,4]\n",
    "l2=[9,5,6]\n",
    "print(l1+l2)\n",
    "\n",
    "# type operation\n",
    "s1=\"Elon\"\n",
    "l=['M','8','s','k']\n",
    "\n",
    "for i in l:\n",
    "    s1=s1+i\n",
    "    \n",
    "print(s1) \n"
   ]
  },
  {
   "cell_type": "code",
   "execution_count": 53,
   "id": "9123ed7c",
   "metadata": {},
   "outputs": [
    {
     "name": "stdout",
     "output_type": "stream",
     "text": [
      "[2, 3]\n"
     ]
    }
   ],
   "source": [
    "l1=[2,3,4]\n",
    "\n",
    "l2=[4,5,6]\n",
    "# I want to find out the list of elements which are present in l1\n",
    "#but not in l2\n",
    "\n",
    "diffset=set(l1)-set(l2)\n",
    "\n",
    "print(list(diffset))\n"
   ]
  },
  {
   "cell_type": "code",
   "execution_count": 55,
   "id": "d1a2319c",
   "metadata": {},
   "outputs": [
    {
     "name": "stdout",
     "output_type": "stream",
     "text": [
      "Current value of s1 ElonM\n",
      "Current value of s1 ElonM8\n",
      "Current value of s1 ElonM8s\n",
      "Current value of s1 ElonM8sk\n",
      "ElonM8sk\n"
     ]
    }
   ],
   "source": [
    "s1= \"Elon\"\n",
    "l = ['M','8', 's', 'k']\n",
    "for i in l:\n",
    "    s1 = s1+i\n",
    "    print(\"Current value of s1\",s1)\n",
    "    \n",
    "print(s1)        \n",
    "#Why am I getting Elonk as output"
   ]
  },
  {
   "cell_type": "code",
   "execution_count": 58,
   "id": "dbb8fe53",
   "metadata": {},
   "outputs": [
    {
     "name": "stdout",
     "output_type": "stream",
     "text": [
      "range(0, 5)\n",
      "0\n",
      "1\n",
      "2\n",
      "3\n",
      "4\n",
      "range(1, 5, 2)\n",
      "1\n",
      "3\n"
     ]
    }
   ],
   "source": [
    "numbers = range(5)\n",
    "print(numbers)\n",
    "for j in range(5):\n",
    "    print(j)\n",
    "#range generates a sequence of numbers one by one not a list of numbers\n",
    "numbers = range(1 , 5 , 2)\n",
    "print(numbers)\n",
    "for j in range(1,5,2):\n",
    "    print(j)\n"
   ]
  },
  {
   "cell_type": "code",
   "execution_count": 60,
   "id": "e073a572",
   "metadata": {},
   "outputs": [
    {
     "name": "stdout",
     "output_type": "stream",
     "text": [
      "enter x2\n",
      "enter y9\n",
      "2\n",
      "4\n",
      "6\n",
      "8\n"
     ]
    }
   ],
   "source": [
    "x= int(input(\"enter x\")) \n",
    "y = int(input(\"enter y\")) \n",
    "for i in range(x,y,2):\n",
    "    print(i)\n",
    " \n"
   ]
  },
  {
   "cell_type": "code",
   "execution_count": null,
   "id": "c6a7d0df",
   "metadata": {},
   "outputs": [],
   "source": [
    "dicti={rollno:}"
   ]
  },
  {
   "cell_type": "code",
   "execution_count": 62,
   "id": "6bea0f8c",
   "metadata": {},
   "outputs": [
    {
     "name": "stdout",
     "output_type": "stream",
     "text": [
      "107.67\n",
      "107.67\n"
     ]
    }
   ],
   "source": [
    "a=98\n",
    "b=9.67\n",
    "#implicit type conversion\n",
    "print(a+b)\n",
    "#explicit type conversion\n",
    "print(float(a)+b)\n"
   ]
  },
  {
   "cell_type": "code",
   "execution_count": 65,
   "id": "070e198d",
   "metadata": {},
   "outputs": [
    {
     "name": "stdout",
     "output_type": "stream",
     "text": [
      "25\n",
      "<class 'str'>\n",
      "7\n"
     ]
    }
   ],
   "source": [
    "a=2\n",
    "b=5\n",
    "c=str(a)+str(b)\n",
    "print(c)\n",
    "print(type(c))\n",
    "#str +str===25\n",
    "#int +Int===7\n",
    "print(a+b)"
   ]
  },
  {
   "cell_type": "code",
   "execution_count": null,
   "id": "7d4ecaaa",
   "metadata": {},
   "outputs": [],
   "source": []
  }
 ],
 "metadata": {
  "kernelspec": {
   "display_name": "Python 3 (ipykernel)",
   "language": "python",
   "name": "python3"
  },
  "language_info": {
   "codemirror_mode": {
    "name": "ipython",
    "version": 3
   },
   "file_extension": ".py",
   "mimetype": "text/x-python",
   "name": "python",
   "nbconvert_exporter": "python",
   "pygments_lexer": "ipython3",
   "version": "3.9.7"
  }
 },
 "nbformat": 4,
 "nbformat_minor": 5
}
