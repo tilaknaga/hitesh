{
 "cells": [
  {
   "cell_type": "code",
   "execution_count": 10,
   "id": "4b32ff13",
   "metadata": {},
   "outputs": [
    {
     "name": "stdout",
     "output_type": "stream",
     "text": [
      "before sorted\n",
      " [(2, 5), (1, 2), (4, 4), (2, 3), (2, 1)]\n",
      "After sorted\n",
      "sorted tuple: [(2, 1), (1, 2), (2, 3), (4, 4), (2, 5)]\n"
     ]
    }
   ],
   "source": [
    "#Assignment-1\n",
    "#----------------------------------------------------------------------------------------------\n",
    "#Write a Python program to get a list, sorted in increasing order by the last element \n",
    "# in each tuple from a given list of non-empty tuples\n",
    "#----------------------------------------------------------------------------------------------\n",
    "def sort(tup):\n",
    "\n",
    "    lst = len(tup)  \n",
    "    for i in range(0, lst):  \n",
    "            \n",
    "        for j in range(0, lst-i-1):  \n",
    "            if (tup[j][-1] > tup[j + 1][-1]):  \n",
    "                temp = tup[j]  \n",
    "                tup[j]= tup[j + 1]  \n",
    "                tup[j + 1]= temp  \n",
    "    return tup    \n",
    "tup =[(2, 5), (1, 2), (4, 4), (2, 3), (2, 1)]\n",
    "print(\"before sorted\\n\",tup)\n",
    "print(\"After sorted\")\n",
    "print(\"sorted tuple:\",sort(tup))\n"
   ]
  },
  {
   "cell_type": "code",
   "execution_count": null,
   "id": "060dc56a",
   "metadata": {},
   "outputs": [],
   "source": [
    "\n"
   ]
  },
  {
   "cell_type": "code",
   "execution_count": null,
   "id": "eb9d7725",
   "metadata": {},
   "outputs": [],
   "source": []
  },
  {
   "cell_type": "code",
   "execution_count": null,
   "id": "0d6ee148",
   "metadata": {},
   "outputs": [],
   "source": []
  }
 ],
 "metadata": {
  "kernelspec": {
   "display_name": "Python 3 (ipykernel)",
   "language": "python",
   "name": "python3"
  },
  "language_info": {
   "codemirror_mode": {
    "name": "ipython",
    "version": 3
   },
   "file_extension": ".py",
   "mimetype": "text/x-python",
   "name": "python",
   "nbconvert_exporter": "python",
   "pygments_lexer": "ipython3",
   "version": "3.9.7"
  }
 },
 "nbformat": 4,
 "nbformat_minor": 5
}
