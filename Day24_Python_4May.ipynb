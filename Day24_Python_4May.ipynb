{
 "cells": [
  {
   "cell_type": "code",
   "execution_count": 7,
   "id": "15c60486",
   "metadata": {},
   "outputs": [
    {
     "name": "stdout",
     "output_type": "stream",
     "text": [
      "(1.7320508075688772, 2.0, 2.23606797749979, 2.449489742783178)\n"
     ]
    }
   ],
   "source": [
    "# Python program to demonstrate\n",
    "# use of lambda() function\n",
    "# with map() function\n",
    "ani = [3,4,5,6]\n",
    "\n",
    "# here we intend to change all animal names\n",
    "# to upper case and return the same\n",
    "uppered_animals = tuple(map(lambda a: a**0.5, ani))\n",
    "\n",
    "print(uppered_animals)"
   ]
  },
  {
   "cell_type": "code",
   "execution_count": 9,
   "id": "6443ab7d",
   "metadata": {},
   "outputs": [
    {
     "name": "stdout",
     "output_type": "stream",
     "text": [
      "27\n",
      "27\n"
     ]
    }
   ],
   "source": [
    "def cube(x):\n",
    "    \n",
    "    return x*x*x\n",
    "#s=x*x*x\n",
    "#return s\n",
    "#s=x**3\n",
    "#pow()\n",
    "print(cube(3))\n",
    "#lambda function/anonymous---miniature version-smaller operations-return  atmost 1 value\n",
    "#cu=lambda A...:B A-input(s),B-Output\n",
    "cu=lambda x:x**3\n",
    "ad=lambda x,y,z:x+y+z\n",
    "print(cu(3))"
   ]
  },
  {
   "cell_type": "code",
   "execution_count": 10,
   "id": "48fc4d1e",
   "metadata": {},
   "outputs": [
    {
     "name": "stdout",
     "output_type": "stream",
     "text": [
      "[2, 4, 6, 8]\n",
      "[2, 4, 6, 8]\n"
     ]
    }
   ],
   "source": [
    "# Return double of n\n",
    "def double(n):\n",
    "\treturn n + n\n",
    "\n",
    "ad=lambda x:x+x\n",
    "\n",
    "# We double all numbers using map()\n",
    "numbers = (1, 2, 3, 4)\n",
    "result = map(double, numbers)\n",
    "print(list(result))\n",
    "res = list(map(ad, numbers))\n",
    "print(res)\n",
    "\n",
    "m=[30,60]\n",
    "\n",
    "m=[30*100/80,60*100/80]\n",
    "\n",
    "#whenver you want to fetch a list from an  old list  by including some modif\n",
    "#use map..as it poingt sto the elements one by one\n",
    "\n"
   ]
  },
  {
   "cell_type": "code",
   "execution_count": 13,
   "id": "4f4af1a1",
   "metadata": {},
   "outputs": [
    {
     "name": "stdout",
     "output_type": "stream",
     "text": [
      "[5, 7, 12]\n"
     ]
    }
   ],
   "source": [
    "numbers1 = [1, 2, 3]\n",
    "numbers2 = [4, 5,9]\n",
    "\n",
    "result = map(lambda x, y: x + y, numbers1, numbers2)\n",
    "print(list(result))"
   ]
  },
  {
   "cell_type": "code",
   "execution_count": 14,
   "id": "6ad387ab",
   "metadata": {},
   "outputs": [
    {
     "name": "stdout",
     "output_type": "stream",
     "text": [
      "4\n",
      "34\n",
      "56\n",
      "78\n",
      "89\n",
      "[1156, 3136, 6084, 7921]\n"
     ]
    }
   ],
   "source": [
    "n=int(input())\n",
    "l=[]\n",
    "for i in range(n):\n",
    "   e=int(input())\n",
    "   l.append(e)    \n",
    "sq=lambda x:x**2\n",
    "r=list(map(sq,l))\n",
    "print(r)"
   ]
  },
  {
   "cell_type": "code",
   "execution_count": 19,
   "id": "9acfbfed",
   "metadata": {},
   "outputs": [
    {
     "name": "stdout",
     "output_type": "stream",
     "text": [
      "(('s', 'a', 't'), ('b', 'a', 't'), ('c', 'a', 't'), ('m', 'a', 't'))\n"
     ]
    }
   ],
   "source": [
    "# List of strings\n",
    "l = ['sat', 'bat', 'cat', 'mat']\n",
    "\n",
    "# map() can listify the list of strings individually\n",
    "test =tuple(map(tuple, l))\n",
    "print(test)"
   ]
  },
  {
   "cell_type": "code",
   "execution_count": 23,
   "id": "cc59f367",
   "metadata": {},
   "outputs": [
    {
     "name": "stdout",
     "output_type": "stream",
     "text": [
      "8\n",
      "None\n"
     ]
    }
   ],
   "source": [
    "h=lambda x:x**2\n",
    "l=lambda y:print(y**3)\n",
    "\n",
    "Max = lambda a, b : h(a) if(a > b) else l(b)\n",
    "\n",
    "print(Max(1, 2))\n",
    "\n",
    "\n"
   ]
  },
  {
   "cell_type": "code",
   "execution_count": 24,
   "id": "546784ed",
   "metadata": {},
   "outputs": [
    {
     "name": "stdout",
     "output_type": "stream",
     "text": [
      "[5, 7, 97, 77, 23, 73, 61]\n"
     ]
    }
   ],
   "source": [
    "# filter() with lambda()\n",
    "li = [5, 7, 22, 97, 54, 62, 77, 23, 73, 61]\n",
    "\n",
    "final_list = list(filter(lambda x: (x%2 != 0) , li))\n",
    "print(final_list)\n"
   ]
  },
  {
   "cell_type": "code",
   "execution_count": 25,
   "id": "491cbdf7",
   "metadata": {},
   "outputs": [
    {
     "name": "stdout",
     "output_type": "stream",
     "text": [
      "[90, 59, 21, 60]\n"
     ]
    }
   ],
   "source": [
    "# Python 3 code to people above 18 yrs\n",
    "ages = [13, 90, 17, 59, 21, 60, 5]\n",
    "\n",
    "adults = list(filter(lambda age: age>18, ages))\n",
    "\n",
    "print(adults)"
   ]
  },
  {
   "cell_type": "code",
   "execution_count": 26,
   "id": "7fcf1cb6",
   "metadata": {},
   "outputs": [
    {
     "name": "stdout",
     "output_type": "stream",
     "text": [
      "The filtered letters are:\n",
      "e\n",
      "e\n"
     ]
    }
   ],
   "source": [
    "# function that filters vowels\n",
    "def fun(variable):\n",
    "\tletters = ['a', 'e', 'i', 'o', 'u']\n",
    "\tif (variable in letters):\n",
    "\t\treturn True\n",
    "\telse:\n",
    "\t\treturn False\n",
    "\n",
    "\n",
    "# sequence\n",
    "sequence = ['g', 'e', 'e', 'j', 'k', 's', 'p', 'r']\n",
    "\n",
    "# using filter function\n",
    "filtered = filter(fun, sequence)\n",
    "\n",
    "print('The filtered letters are:')\n",
    "for s in filtered:\n",
    "\tprint(s)\n"
   ]
  },
  {
   "cell_type": "code",
   "execution_count": 29,
   "id": "b500ec74",
   "metadata": {},
   "outputs": [
    {
     "name": "stdout",
     "output_type": "stream",
     "text": [
      "['A', 'B']\n"
     ]
    }
   ],
   "source": [
    "a=[x.upper() for x in ['a','b'] ]\n",
    "print(a)"
   ]
  },
  {
   "cell_type": "code",
   "execution_count": 32,
   "id": "0bf97ba8",
   "metadata": {},
   "outputs": [
    {
     "name": "stdout",
     "output_type": "stream",
     "text": [
      "{97: 'a', 98: 'b', 99: 'c', 100: 'd', 101: 'e', 102: 'f', 103: 'g', 104: 'h', 105: 'i', 106: 'j', 107: 'k', 108: 'l', 109: 'm', 110: 'n', 111: 'o', 112: 'p', 113: 'q', 114: 'r', 115: 's', 116: 't', 117: 'u', 118: 'v', 119: 'w', 120: 'x', 121: 'y', 122: 'z'}\n",
      "{97, 98, 99, 100, 101, 102, 103, 104, 105, 106, 107, 108, 109, 110, 111, 112, 113, 114, 115, 116, 117, 118, 119, 120, 121, 122}\n",
      "<class 'set'>\n"
     ]
    }
   ],
   "source": [
    "d={x:chr(x) for x in range(97,123)}\n",
    "print(d)\n",
    "#ord--to get ascii value from character\n",
    "#chr--to get charcter from ascii value\n",
    "ds={x for x in range(97,123)}\n",
    "print(ds)\n",
    "print(type(ds))"
   ]
  },
  {
   "cell_type": "code",
   "execution_count": 33,
   "id": "c2857cd2",
   "metadata": {},
   "outputs": [
    {
     "name": "stdout",
     "output_type": "stream",
     "text": [
      "[True, 50, 5, 10] Sum is:  66\n"
     ]
    }
   ],
   "source": [
    "List = [True, 50, 10]  # True,50,5,10\n",
    "List.insert(2, 5)   \n",
    "print(List, \"Sum is: \", sum(List))\n"
   ]
  },
  {
   "cell_type": "code",
   "execution_count": 34,
   "id": "df44dfa5",
   "metadata": {},
   "outputs": [],
   "source": [
    "x = 'abcd'\n",
    "a=[]\n",
    "for i in x:\n",
    "    i.upper()\n",
    "        \n",
    "    "
   ]
  },
  {
   "cell_type": "code",
   "execution_count": 2,
   "id": "172595c7",
   "metadata": {},
   "outputs": [
    {
     "name": "stdout",
     "output_type": "stream",
     "text": [
      "[0, 1, 2, 3, 4, 5, 6, 7, 8, 9]\n"
     ]
    }
   ],
   "source": [
    "odd=lambda x: bool(x%2)\n",
    "numbers=[n for n in range(10)]\n",
    "print(numbers)\n",
    "n=list()\n",
    "\n",
    "for i in numbers:\n",
    "    if odd(i):\n",
    "        continue\n",
    "    else:\n",
    "        break"
   ]
  },
  {
   "cell_type": "code",
   "execution_count": 3,
   "id": "91af39c0",
   "metadata": {},
   "outputs": [
    {
     "name": "stdout",
     "output_type": "stream",
     "text": [
      "True True\n"
     ]
    }
   ],
   "source": [
    "fun=lambda y:bool(y%2)\n",
    "print(fun(25),fun(31))"
   ]
  },
  {
   "cell_type": "code",
   "execution_count": 4,
   "id": "52dd7f2c",
   "metadata": {},
   "outputs": [
    {
     "name": "stdout",
     "output_type": "stream",
     "text": [
      "40\n"
     ]
    }
   ],
   "source": [
    "import functools\n",
    "l=[1,2,4,5]\n",
    "print(functools.reduce(lambda x,y:x*y,l))"
   ]
  },
  {
   "cell_type": "code",
   "execution_count": 5,
   "id": "79e55ca0",
   "metadata": {},
   "outputs": [
    {
     "name": "stdout",
     "output_type": "stream",
     "text": [
      "[1, -2, -7]\n"
     ]
    }
   ],
   "source": [
    "l=[1,-2,-7,4,10]\n",
    "\n",
    "def f1(x):\n",
    "    return x<2\n",
    "m1=filter(f1,l)\n",
    "print(list(m1))"
   ]
  },
  {
   "cell_type": "code",
   "execution_count": 6,
   "id": "066b702f",
   "metadata": {},
   "outputs": [
    {
     "name": "stdout",
     "output_type": "stream",
     "text": [
      "<map object at 0x000001FCAD3E1FA0>\n"
     ]
    }
   ],
   "source": [
    "l=[-2,4]\n",
    "m=map(lambda x:x*2,l)\n",
    "print(listm)"
   ]
  },
  {
   "cell_type": "code",
   "execution_count": 10,
   "id": "06861de4",
   "metadata": {},
   "outputs": [
    {
     "data": {
      "text/plain": [
       "[3, 2, 1, 0, 7]"
      ]
     },
     "execution_count": 10,
     "metadata": {},
     "output_type": "execute_result"
    }
   ],
   "source": [
    "list(map((lambda x:x^3),range(5)))"
   ]
  },
  {
   "cell_type": "code",
   "execution_count": 11,
   "id": "f42393aa",
   "metadata": {},
   "outputs": [
    {
     "data": {
      "text/plain": [
       "[0, 1, 4, 9, 16, 25, 36, 49, 64, 81]"
      ]
     },
     "execution_count": 11,
     "metadata": {},
     "output_type": "execute_result"
    }
   ],
   "source": [
    "[x**2 for x in range(10)]\n",
    "list(map((lambda x:x**2),range(10)))"
   ]
  },
  {
   "cell_type": "code",
   "execution_count": null,
   "id": "0edf04a6",
   "metadata": {},
   "outputs": [],
   "source": []
  }
 ],
 "metadata": {
  "kernelspec": {
   "display_name": "Python 3 (ipykernel)",
   "language": "python",
   "name": "python3"
  },
  "language_info": {
   "codemirror_mode": {
    "name": "ipython",
    "version": 3
   },
   "file_extension": ".py",
   "mimetype": "text/x-python",
   "name": "python",
   "nbconvert_exporter": "python",
   "pygments_lexer": "ipython3",
   "version": "3.9.7"
  }
 },
 "nbformat": 4,
 "nbformat_minor": 5
}
