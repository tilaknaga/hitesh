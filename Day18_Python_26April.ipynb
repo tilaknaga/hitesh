{
 "cells": [
  {
   "cell_type": "code",
   "execution_count": 9,
   "id": "a012138b",
   "metadata": {},
   "outputs": [
    {
     "name": "stdout",
     "output_type": "stream",
     "text": [
      "['A', 'B', 'C']\n",
      "['A']\n"
     ]
    }
   ],
   "source": [
    "\n",
    "\"\"\"\n",
    "#function revision\n",
    "def calculation(x,y=9,z):\n",
    "  \n",
    "  q=(x*y)/z\n",
    "  return q\n",
    "\n",
    "def stringop(s1,s2):\n",
    "    \n",
    "    print(s1+s2)\n",
    "    \n",
    "#calculation(10,2,2)\n",
    "print(calculation(10,2,2))\n",
    "print(calculation(10,5,2))\n",
    "print(calculation(10,2,5))#positional argu\n",
    "\n",
    "print(calculation(10,z=2,y=5))\n",
    "print(calculation(10,z=2))\n",
    "\n",
    "\"\"\"\n",
    "def prtoppers(*names):\n",
    "    \n",
    "    a=[]\n",
    "    for n in names:\n",
    "        a.append(n)\n",
    "    return a\n",
    "\n",
    "\n",
    "ans=prtoppers(\"A\",\"B\",\"C\")\n",
    "ans1=prtoppers(\"A\")\n",
    "print(ans)\n",
    "print(ans1)\n",
    "    \n",
    "    "
   ]
  },
  {
   "cell_type": "code",
   "execution_count": 14,
   "id": "852acf44",
   "metadata": {},
   "outputs": [
    {
     "name": "stdout",
     "output_type": "stream",
     "text": [
      "[20, 11, 12, 13, 14, 15]\n",
      "[20, 11, 12, 13, 14, 15]\n"
     ]
    }
   ],
   "source": [
    "#namespace\n",
    "\n",
    "# Here x is a new reference to same list lst\n",
    "def myFun(x):\n",
    "    x[0] = 20\n",
    "    print(x)\n",
    "\n",
    "# Driver Code (Note that lst is modified\n",
    "# after function call.\n",
    "lst = [10, 11, 12, 13, 14, 15]\n",
    "myFun(lst)\n",
    "print(lst)"
   ]
  },
  {
   "cell_type": "code",
   "execution_count": null,
   "id": "abffcf9d",
   "metadata": {},
   "outputs": [],
   "source": [
    "def myFun(x):\n",
    "\n",
    "\t# After below line link of x with previous\n",
    "\t# object gets broken. A new object is assigned\n",
    "\t# to x.\n",
    "\tx = 20\n",
    "# Driver Code (Note that lst is not modified\n",
    "# after function call.\n",
    "x = 10\n",
    "myFun(x)\n",
    "print(x)"
   ]
  },
  {
   "cell_type": "code",
   "execution_count": 15,
   "id": "9ba1b1f2",
   "metadata": {},
   "outputs": [
    {
     "name": "stdout",
     "output_type": "stream",
     "text": [
      "9 2168673141232\n",
      "10 2168673141264\n",
      "9 2168673141232\n",
      "9 2168673141232\n"
     ]
    }
   ],
   "source": [
    "def x():\n",
    "    global a\n",
    "    a = 9\n",
    "    print(a, id(a))\n",
    "\n",
    "\n",
    "x()\n",
    "global a\n",
    "a = 10\n",
    "print(a, id(a))\n",
    "x()\n",
    "print(a, id(a))"
   ]
  },
  {
   "cell_type": "code",
   "execution_count": 16,
   "id": "5ea3fb25",
   "metadata": {},
   "outputs": [
    {
     "name": "stdout",
     "output_type": "stream",
     "text": [
      "9 2168673141232\n",
      "10 2168673141264\n",
      "9 2168673141232\n",
      "18\n"
     ]
    }
   ],
   "source": [
    "def x():\n",
    "\tglobal a\n",
    "\ta = 9\n",
    "\tprint(a, id(a))\n",
    "\n",
    "x()\n",
    "a=10\n",
    "print(a,id(a))\n",
    "x()\n",
    "global a\n",
    "\n",
    "a=18\n",
    "print(a)\n"
   ]
  },
  {
   "cell_type": "code",
   "execution_count": null,
   "id": "30ee688f",
   "metadata": {},
   "outputs": [],
   "source": []
  }
 ],
 "metadata": {
  "kernelspec": {
   "display_name": "Python 3 (ipykernel)",
   "language": "python",
   "name": "python3"
  },
  "language_info": {
   "codemirror_mode": {
    "name": "ipython",
    "version": 3
   },
   "file_extension": ".py",
   "mimetype": "text/x-python",
   "name": "python",
   "nbconvert_exporter": "python",
   "pygments_lexer": "ipython3",
   "version": "3.9.7"
  }
 },
 "nbformat": 4,
 "nbformat_minor": 5
}
