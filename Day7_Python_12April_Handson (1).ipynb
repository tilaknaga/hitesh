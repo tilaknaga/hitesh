{
 "cells": [
  {
   "cell_type": "code",
   "execution_count": null,
   "id": "b2ac7356",
   "metadata": {},
   "outputs": [],
   "source": [
    "#Nested if\n",
    "maths=int(input())\n",
    "phy=int(input())\n",
    "if(maths>40):\n",
    "    if(phy>40):\n",
    "        print(\"Passed in Maths and Phy\")\n",
    "    else:\n",
    "        print(\"Passed in Maths but not Physics\")\n",
    "else:\n",
    "    print(\"Not passed in Maths but dont know about Physics\")\n"
   ]
  },
  {
   "cell_type": "code",
   "execution_count": null,
   "id": "d38fd6b6",
   "metadata": {},
   "outputs": [],
   "source": [
    "s=(\"madhyapradesh\",\"dehli\",\"goa\")\n",
    "\n",
    "for i in s:\n",
    "    print(i,sep=\",\",end=\" \")"
   ]
  },
  {
   "cell_type": "code",
   "execution_count": null,
   "id": "cabed802",
   "metadata": {},
   "outputs": [],
   "source": [
    "e=0#line 1\n",
    "def square(a):#line 3\n",
    "   e=a*a#line 4\n",
    "   return e#line 5\n",
    "print(square(4))#line2,line 6\n",
    "print(e)#line 7"
   ]
  },
  {
   "cell_type": "code",
   "execution_count": null,
   "id": "8ac2e5ed",
   "metadata": {},
   "outputs": [],
   "source": [
    "maths=int(input())\n",
    "phy=int(input())\n",
    "if(maths>40 or phy >40):\n",
    "    if(phy>40):        \n",
    "        print(\"Passed in Phy\")\n",
    "    elif(maths>40):\n",
    "        print(\"Passed in Maths\")\n",
    "    elif(maths>40 and phy >40):\n",
    "        print(\"Passed in Maths and Physics\")\n",
    "else:\n",
    "    print(\"Not passed in Maths and  Physics\")"
   ]
  },
  {
   "cell_type": "code",
   "execution_count": null,
   "id": "0ed5ed69",
   "metadata": {},
   "outputs": [],
   "source": [
    "#Iterables--Is anything which we can iterate upon \n",
    "#String, list , tuples and set-- no function\n",
    "#.keys function is there in dictionary-- to iterate\n",
    "\n",
    "s=\"EdYodaUniversity\"\n",
    "\n",
    "#Way1--diff lines\n",
    "for a in s:\n",
    "    print(a)\n",
    "#Way2--same line\n",
    "for a in s:\n",
    "    print(a,end=\" \")\n",
    "#Way3\n",
    "\n",
    "#string ----   -6-5-4-3-2-1\n",
    "for a in range(-1,-len(s)-1,-1):\n",
    "    print(s[a],end=\" \")\n",
    "    \n",
    "    \n"
   ]
  },
  {
   "cell_type": "code",
   "execution_count": null,
   "id": "751d96f9",
   "metadata": {},
   "outputs": [],
   "source": []
  },
  {
   "cell_type": "code",
   "execution_count": null,
   "id": "a8ff6d05",
   "metadata": {},
   "outputs": [],
   "source": [
    "s=\"EdYodaUniversity\"\n",
    "\n",
    "#Way1--diff lines\n",
    "for a in s:\n",
    "    print(a)\n",
    "#Way2--same line\n",
    "for a in s:\n",
    "    print(a,end=\" \")\n",
    "#Way3\n",
    "\n",
    "for a in range(len(s)):\n",
    "    print(s[a],end=\" \")\n",
    "    "
   ]
  },
  {
   "cell_type": "code",
   "execution_count": null,
   "id": "eb864d9d",
   "metadata": {},
   "outputs": [],
   "source": [
    "\n",
    "s=\"EdYodaUniversity\"\n",
    "#len is 16\n",
    "#-17=-16-1==-17\n",
    "#start is -1 and end is in -17 step -1\n",
    "#forward -012345\n",
    "#backward- -1 -2 -3 -4 -5 -6\n",
    "for a in range(-1,-len(s)-1,-1):\n",
    "    print(s[a],end=\" \")\n",
    "    \n",
    "for i in range(-1,-17,-1):\n",
    "    print(i)"
   ]
  },
  {
   "cell_type": "code",
   "execution_count": null,
   "id": "843d310d",
   "metadata": {},
   "outputs": [],
   "source": [
    "l=[\"INDIA\",\"USA\",\"CHINA\",\"JAPAN\"]\n",
    "\n",
    "#Way1--diff lines\n",
    "for a in l:\n",
    "    print(a)\n",
    "#Way2--same line\n",
    "for a in l:\n",
    "    print(a,end=\" \")\n",
    "#Way3\n",
    "\n",
    "for a in range(len(l)):\n",
    "    print(l[a])\n",
    "    \n",
    "    \n",
    "#displa    "
   ]
  },
  {
   "cell_type": "code",
   "execution_count": null,
   "id": "bf1a4eb7",
   "metadata": {},
   "outputs": [],
   "source": [
    "l=[\"INDIA\",\"USA\",\"CHINA\",\"JAPAN\"]\n",
    "#for a in range(len(l)):\n",
    " #s   print(l[a],end=\" \")\n",
    "#0 1 2 3     \n",
    "# 3 2 1 0\n",
    "#display list in reverse\n",
    "\n",
    "#index start at 0,,,, ends at len-1\n",
    "for i in range(len(l)-1,-1,-1):\n",
    "    print(l[i]) \n",
    "        "
   ]
  },
  {
   "cell_type": "code",
   "execution_count": null,
   "id": "98199327",
   "metadata": {},
   "outputs": [],
   "source": [
    "#slicing --to cut a component of an iterable\n",
    "#slice a list---get a list\n",
    "#slice a string--get a string\n",
    "#slice a tuple--get a tuple\n",
    "\n",
    "l=[6,7,8,9,10]\n",
    "\n",
    "#l[a:b:c]\n",
    "#a==start==def is 0\n",
    "#b==stop==def is len--excluded like range\n",
    "#c==step==def is 1==not compulsory\n",
    "print(l[:])#0 1 2 3 4 \n",
    "print(l[1:])# 1 2 3 4 \n",
    "print(l[1:3])#1 2 "
   ]
  },
  {
   "cell_type": "code",
   "execution_count": null,
   "id": "fe48a9b2",
   "metadata": {},
   "outputs": [],
   "source": [
    "s=\"EdYodaUniversity\"\n",
    "\n",
    "print(s[:4])#0123\n",
    "print(s[::-1])\n",
    "print(s[::2])#0 2 4 6 8 10....\n",
    "print(s[1:9:2])#1 3 5 7 "
   ]
  },
  {
   "cell_type": "code",
   "execution_count": null,
   "id": "377cd26c",
   "metadata": {},
   "outputs": [],
   "source": [
    "## Returns False as x is False\n",
    "\n",
    "#bool()-convert the boolean equalivalent of all the datatypes\n",
    "x = False\n",
    "print(bool(x))\n",
    "\n",
    "# Returns True as x is True\n",
    "x = True\n",
    "print(bool(x))\n",
    "\n",
    "# Returns False as x is not equal to y\n",
    "x = 5\n",
    "y = 10\n",
    "print(bool(x == y))\n",
    "\n",
    "# Returns False as x is None\n",
    "x = None\n",
    "print(bool(x))"
   ]
  },
  {
   "cell_type": "code",
   "execution_count": null,
   "id": "16ccb967",
   "metadata": {},
   "outputs": [],
   "source": [
    "n=input(\"Take the string to be worked upon\")\n",
    "#n[1:1]--empty string\n",
    "if(n[1:3]): \n",
    " print(\"Yess\")\n",
    "else:\n",
    " print(\"Noo\")   "
   ]
  },
  {
   "cell_type": "code",
   "execution_count": null,
   "id": "baac399b",
   "metadata": {},
   "outputs": [],
   "source": [
    "#break---break out of the loop---cancelled\n",
    "#continue---skip the iteration\n",
    "\n",
    "for a in range(10):   \n",
    "    if(a==5):\n",
    "        continue\n",
    "        #it will ignore any state after this line\n",
    "    print(a)    "
   ]
  },
  {
   "cell_type": "code",
   "execution_count": null,
   "id": "3b7def5d",
   "metadata": {},
   "outputs": [],
   "source": [
    "\n",
    "for a in range(10):   \n",
    "    if(a==5):\n",
    "        break\n",
    "        #it will ignore any state after this line\n",
    "    print(a)    \n",
    "print(\"Loop no more\")    "
   ]
  },
  {
   "cell_type": "code",
   "execution_count": null,
   "id": "11c10750",
   "metadata": {},
   "outputs": [],
   "source": [
    "f=\"edyodauniversity\"\n",
    "\n",
    "for i in f:\n",
    "    if(i in ['a','e','i','o','u']):\n",
    "        break\n",
    "        \n",
    "    else:\n",
    "        print(i)\n",
    "        "
   ]
  },
  {
   "cell_type": "code",
   "execution_count": null,
   "id": "c9f1b8be",
   "metadata": {},
   "outputs": [],
   "source": [
    "for i in range(6):#012345\n",
    "    for j in  range(4):#0123\n",
    "        if(i==j):\n",
    "            continue\n",
    "        print(\"i\",i,\"j\",j)\n",
    "print('New Output')        \n",
    "for i in range(6):#012345\n",
    "    if(i==j):\n",
    "        break    \n",
    "    for j in  range(4):#0123\n",
    "        if(i==j):\n",
    "            break\n",
    "        print(\"i\",i,\"j\",j) \n",
    " "
   ]
  },
  {
   "cell_type": "code",
   "execution_count": null,
   "id": "a6817863",
   "metadata": {},
   "outputs": [],
   "source": [
    "students = [\"ram\", \"shyam\", \"kishan\", \"radha\", \"radhika\"]\n",
    "\n",
    "for student in students:\n",
    "    if student == \"radha\":\n",
    "        break\n",
    "    print(student)\n",
    "for student in students:\n",
    "    if student == \"kishan\":\n",
    "        continue\n",
    "    print(student)     \n"
   ]
  },
  {
   "cell_type": "code",
   "execution_count": null,
   "id": "38603816",
   "metadata": {},
   "outputs": [],
   "source": [
    "t=(5,6,7)\n",
    "#tuple reassignment is not there but slicing is there\n",
    "#same with string\n",
    "te=t[1:]\n",
    "print(te)\n",
    "print(id(te))\n",
    "print(id(t))"
   ]
  },
  {
   "cell_type": "code",
   "execution_count": null,
   "id": "773355c5",
   "metadata": {},
   "outputs": [],
   "source": [
    "s=\"INDIA\"\n",
    "#same with string\n",
    "se=s[:]\n",
    "print(se)\n",
    "print(id(se))\n",
    "print(id(s))\n"
   ]
  },
  {
   "cell_type": "code",
   "execution_count": null,
   "id": "890f4964",
   "metadata": {},
   "outputs": [],
   "source": [
    "#while loop\n",
    "for i in range(6):\n",
    "    print(i)\n",
    "#when we do not know about the end  number\n",
    "\n",
    "while(a>0):\n",
    "    \n",
    "    print(i)\n",
    "    i=i-1\n",
    "    "
   ]
  },
  {
   "cell_type": "code",
   "execution_count": 4,
   "id": "36c05256",
   "metadata": {},
   "outputs": [
    {
     "name": "stdout",
     "output_type": "stream",
     "text": [
      "1\n",
      "2\n",
      "3\n",
      "4\n",
      "5\n",
      "6\n",
      "7\n",
      "8\n",
      "9\n"
     ]
    }
   ],
   "source": [
    "a=1#start\n",
    "while(a<10):#stop cond    \n",
    "    print(a)\n",
    "  #step\n",
    "    a=a+1"
   ]
  },
  {
   "cell_type": "code",
   "execution_count": 12,
   "id": "9d01506d",
   "metadata": {},
   "outputs": [
    {
     "name": "stdout",
     "output_type": "stream",
     "text": [
      "current element 2\n",
      "2 Not present in list\n",
      "added current element 2\n",
      "current element 3\n",
      "3 Not present in list\n",
      "added current element 3\n",
      "current element 3\n",
      "current element 2\n",
      "current element 3\n",
      "current element 4\n",
      "4 Not present in list\n",
      "added current element 4\n",
      "current element 5\n",
      "5 Not present in list\n",
      "added current element 5\n",
      "current element 6\n",
      "6 Not present in list\n",
      "added current element 6\n",
      "current element 2\n",
      "[2, 3, 4, 5, 6]\n",
      "nitin\n",
      "It is Palindromic\n",
      "1221\n",
      "It is Palindromic\n"
     ]
    }
   ],
   "source": [
    "#store the single typesvalues from a list which are having duplicat values\n",
    "l=[2,3,3,2,3,4,5,6,2]\n",
    "#-->[2,3,4,5,6]\n",
    "#no use of set or sort\n",
    "#using for , if and membership operator\n",
    "a=[]\n",
    "for i in l:\n",
    "    print(\"current element\",i)\n",
    "    if(i not in a):\n",
    "        print(i,\"Not present in list\")\n",
    "        print(\"added current element\",i)\n",
    "        a.append(i)        \n",
    "print(a)\n",
    "\n",
    "#palindromic seq=== reverse and original is same\n",
    "#like as nitin , malayalam\n",
    "s=input()\n",
    "if(s==s[::-1]):\n",
    "    print(\"It is Palindromic\")\n",
    "else:\n",
    "    print(\"No it is not\")\n",
    "#palindromic number \n",
    "s=int(input())\n",
    "ns=str(s)\n",
    "if(str(s)==ns[::-1]):\n",
    "    print(\"It is Palindromic\")\n",
    "else:\n",
    "    print(\"No it is not\")"
   ]
  },
  {
   "cell_type": "code",
   "execution_count": null,
   "id": "f3771598",
   "metadata": {},
   "outputs": [],
   "source": [
    "#pseudo code --step by step--common for any lan-interview\n",
    "\n",
    "#coding test--code should be fine"
   ]
  },
  {
   "cell_type": "code",
   "execution_count": 23,
   "id": "fb71d14c",
   "metadata": {},
   "outputs": [
    {
     "name": "stdout",
     "output_type": "stream",
     "text": [
      "{2: 2, 3: 3, 4: 1, 5: 1, 6: 1}\n",
      "3\n"
     ]
    }
   ],
   "source": [
    "#3 more questions\n",
    "s=\"EDYODA\"\n",
    "if(bool(s[-1:-5])):\n",
    "    print(bool(s[1:2]))\n",
    "    \n",
    "#Finding the highest frequency member in a list\n",
    "\n",
    "l=[2,3,2,3,4,5,6,3]#3\n",
    "#dictionary---ke would be value and value would be the freq\n",
    "d={}\n",
    "#1st iteration--d={2:1}\n",
    "#2nd iter--d={2:1,3:1}\n",
    "for i in l:\n",
    "    if i in d:\n",
    "        d[i]=d[i]+1\n",
    "    else:\n",
    "        d[i]=1\n",
    "        \n",
    "print(d) \n",
    "#max--helps you to find the highest value\n",
    "#2,3,4,5,6\n",
    "maxvalue=0\n",
    "#d.keys --list of keys\n",
    "for i in d.keys():    \n",
    "    if(maxvalue<d[i]):\n",
    "        \n",
    "        maxvalue=d[i]\n",
    "print(maxvalue)            "
   ]
  },
  {
   "cell_type": "code",
   "execution_count": null,
   "id": "93b4784d",
   "metadata": {},
   "outputs": [],
   "source": [
    "#count----- in list "
   ]
  }
 ],
 "metadata": {
  "kernelspec": {
   "display_name": "Python 3 (ipykernel)",
   "language": "python",
   "name": "python3"
  },
  "language_info": {
   "codemirror_mode": {
    "name": "ipython",
    "version": 3
   },
   "file_extension": ".py",
   "mimetype": "text/x-python",
   "name": "python",
   "nbconvert_exporter": "python",
   "pygments_lexer": "ipython3",
   "version": "3.10.2"
  }
 },
 "nbformat": 4,
 "nbformat_minor": 5
}
