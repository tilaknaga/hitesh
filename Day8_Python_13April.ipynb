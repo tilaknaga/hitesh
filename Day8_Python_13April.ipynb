{
 "cells": [
  {
   "cell_type": "code",
   "execution_count": 1,
   "id": "38be1f82",
   "metadata": {},
   "outputs": [
    {
     "name": "stdout",
     "output_type": "stream",
     "text": [
      "tilak naga\n",
      "10\n",
      "9\n"
     ]
    },
    {
     "data": {
      "text/plain": [
       "'\\nfor i in s:\\n    if i ==\" \":\\n        continue\\n    else:\\n        count=count+1\\n        \\n'"
      ]
     },
     "execution_count": 1,
     "metadata": {},
     "output_type": "execute_result"
    }
   ],
   "source": [
    "#Q1\n",
    "s=input()\n",
    "print(len(s))\n",
    "count=0\n",
    "for i in s:\n",
    "    if i !=\" \":\n",
    "        count=count+1\n",
    "#count+=1  \n",
    "#count++\n",
    "print(count)        \n",
    "\"\"\"\n",
    "for i in s:\n",
    "    if i ==\" \":\n",
    "        continue\n",
    "    else:\n",
    "        count=count+1\n",
    "        \n",
    "\"\"\"        "
   ]
  },
  {
   "cell_type": "code",
   "execution_count": 2,
   "id": "3e53d4b1",
   "metadata": {
    "scrolled": true
   },
   "outputs": [
    {
     "name": "stdout",
     "output_type": "stream",
     "text": [
      "tilak\n",
      "4\n",
      "tila\n"
     ]
    }
   ],
   "source": [
    "#Q2\n",
    "#Python program for removing i-th character from a string\n",
    "#Given the string, we have to remove the ith indexed character from the string.\n",
    "s=input()\n",
    "n=int(input())\n",
    "a=\"\"\n",
    "for i in range(len(s)):\n",
    "    if(i!=n):\n",
    "        a=a+s[i]        \n",
    "print(a)\n",
    "\n",
    "#slicing way\n",
    "\n",
    "a=s[:n]+s[n+1:]\n",
    "\n",
    "#Sagarsar\n",
    "#3\n",
    "#ans---Sagrsar"
   ]
  },
  {
   "cell_type": "code",
   "execution_count": 8,
   "id": "48f855d4",
   "metadata": {},
   "outputs": [
    {
     "name": "stdout",
     "output_type": "stream",
     "text": [
      "0101\n"
     ]
    },
    {
     "ename": "SyntaxError",
     "evalue": "'break' outside loop (Temp/ipykernel_9024/3814727663.py, line 10)",
     "output_type": "error",
     "traceback": [
      "\u001b[1;36m  File \u001b[1;32m\"C:\\Users\\91738\\AppData\\Local\\Temp/ipykernel_9024/3814727663.py\"\u001b[1;36m, line \u001b[1;32m10\u001b[0m\n\u001b[1;33m    break\u001b[0m\n\u001b[1;37m    ^\u001b[0m\n\u001b[1;31mSyntaxError\u001b[0m\u001b[1;31m:\u001b[0m 'break' outside loop\n"
     ]
    }
   ],
   "source": [
    "#Q3Python | Check if a given string is binary string or not\n",
    "\n",
    "#Binary only has 0 or 1\n",
    "\n",
    "s=input()\n",
    "\n",
    "for i in s:\n",
    "    if i not in ['0','1']:\n",
    "        print(\"It is not binary\")\n",
    "        break  \n",
    "\n",
    "\n",
    "#pass- is a keyword  which works like a space filler no func as it os\n"
   ]
  },
  {
   "cell_type": "code",
   "execution_count": null,
   "id": "e965071e",
   "metadata": {},
   "outputs": [],
   "source": [
    "\n"
   ]
  },
  {
   "cell_type": "code",
   "execution_count": 3,
   "id": "6246914c",
   "metadata": {},
   "outputs": [],
   "source": [
    "a=0\n",
    "if(a>9):\n",
    "    print(\"yy\")    \n",
    "else:\n",
    "    pass"
   ]
  },
  {
   "cell_type": "code",
   "execution_count": 6,
   "id": "c61f1e64",
   "metadata": {},
   "outputs": [
    {
     "name": "stdout",
     "output_type": "stream",
     "text": [
      "10101010\n",
      "binary string\n"
     ]
    }
   ],
   "source": [
    "#Q3Python | Check if a given string is binary string or not\n",
    "\n",
    "#Binary only has 0 or 1\n",
    "s=input()\n",
    "flag=0  # not a keyword      \n",
    "for i in s:\n",
    "    if i not in ['0','1']:\n",
    "      #if i!='0' and i!='1':  \n",
    "        flag=flag+1\n",
    "    else:\n",
    "        pass\n",
    "if(flag>0):\n",
    "    print(\"Not a binary string\")\n",
    "else:\n",
    "    print(\"binary string\")"
   ]
  },
  {
   "cell_type": "code",
   "execution_count": 8,
   "id": "ab0e9797",
   "metadata": {},
   "outputs": [
    {
     "name": "stdout",
     "output_type": "stream",
     "text": [
      "7\n",
      "1\n",
      "3\n",
      "[2, 7, 1, 6, 3, 9, 8]\n"
     ]
    }
   ],
   "source": [
    "#Q4Python program to swap two elements in a list\n",
    "#Given a list in Python and provided the positions of the elements, write a program to swap the two elements in the list.\n",
    "l=[2,6,1,7,3,9,8]\n",
    "print(len(l))\n",
    "n1=int(input())#1st\n",
    "n2=int(input())#3rd\n",
    "a=l[n1]#a=1st value\n",
    "l[n1]=l[n2]#1st index=3rd value\n",
    "l[n2]=a#3rd index=a\n",
    "print(l)"
   ]
  },
  {
   "cell_type": "code",
   "execution_count": 11,
   "id": "b8b85150",
   "metadata": {},
   "outputs": [
    {
     "name": "stdout",
     "output_type": "stream",
     "text": [
      "3\n",
      "5\n",
      "[2, 4, 6] [4, 7]\n"
     ]
    }
   ],
   "source": []
  },
  {
   "cell_type": "code",
   "execution_count": 12,
   "id": "13762a26",
   "metadata": {},
   "outputs": [
    {
     "name": "stdout",
     "output_type": "stream",
     "text": [
      "[6, 7, 3, 5, 11] [3, 4, 5]\n",
      "[6, 7, 3, 11] [3, 4]\n"
     ]
    }
   ],
   "source": [
    "# never ever remember\n",
    "#Remove common elements from two list in Python\n",
    "#Given two lists, the task is to write a Python program to remove all the common elements of two lists. \n",
    "l1=[6,7,2,3,5,11]\n",
    "l2=[2,3,4,5]\n",
    "#remove method--used to remove the element from the list\n",
    "for i in l1:\n",
    "    if i in l2:     \n",
    "       l1.remove(i)       \n",
    "       l2.remove(i)\n",
    "       print(l1,l2)\n",
    "    else:\n",
    "        continue\n",
    "    \n",
    "    \n",
    "    \n",
    "    \n",
    "#print(l1,l2)\n",
    "#Test cases"
   ]
  },
  {
   "cell_type": "code",
   "execution_count": 3,
   "id": "4aaab9f1",
   "metadata": {},
   "outputs": [
    {
     "name": "stdout",
     "output_type": "stream",
     "text": [
      "['I', 'study']\n"
     ]
    }
   ],
   "source": [
    "s=\"I study from Edyoda\"\n",
    "\n",
    "s=s.split(\" \")#-----listof strings-[\"I\",\"study\",....]\n",
    "a=[]\n",
    "for i in s:\n",
    "    if(len(i)%2==1):#!=\n",
    "        a.append(i)\n",
    "        \n",
    "print(a)        "
   ]
  },
  {
   "cell_type": "code",
   "execution_count": 4,
   "id": "a12c23c0",
   "metadata": {},
   "outputs": [
    {
     "name": "stdout",
     "output_type": "stream",
     "text": [
      "list1 :  [5, 3, 7]\n",
      "list2 :  [6, 7, 8]\n"
     ]
    }
   ],
   "source": [
    "        \n",
    "        \n",
    "x = [3, 5, 3, 4, 7]\n",
    "y = [4, 3, 6, 7, 8]\n",
    "\n",
    "for i in x:\n",
    "\tif i in y:\n",
    "\t\tx.remove(i)\n",
    "\t\ty.remove(i)\n",
    "\n",
    "print(\"list1 : \", x)\n",
    "print(\"list2 : \", y)\n"
   ]
  },
  {
   "cell_type": "code",
   "execution_count": 8,
   "id": "92f18049",
   "metadata": {
    "scrolled": true
   },
   "outputs": [
    {
     "name": "stdout",
     "output_type": "stream",
     "text": [
      "{'i', 'n', 'e', 'r', 'g'} {'n', 'm', 'e', 'a', 'r', 'g'}\n",
      "4\n"
     ]
    }
   ],
   "source": [
    "#Q10Python | Count the Number of matching characters in a pair of string\n",
    "s1=\"engineer\" \n",
    "s2=\"manager\"\n",
    "ss1=set(s1)\n",
    "ss2=set(s2)\n",
    "print(ss1,ss2)\n",
    "count=0\n",
    "for i in ss1:\n",
    "    if i in ss2:\n",
    "        count=count+1        \n",
    "print(count) \n",
    "\n",
    "#set to remove the duplicacy"
   ]
  },
  {
   "cell_type": "code",
   "execution_count": 9,
   "id": "4d1c9a2b",
   "metadata": {},
   "outputs": [
    {
     "name": "stdout",
     "output_type": "stream",
     "text": [
      "Yes\n"
     ]
    }
   ],
   "source": [
    "s1 = \"listen\"\n",
    "s2 = \"silent\"\n",
    "#\n",
    "ss1=set(s1)\n",
    "ss2=set(s2)\n",
    "\n",
    "if(ss1==ss2):\n",
    "    print(\"Yes\")"
   ]
  },
  {
   "cell_type": "code",
   "execution_count": null,
   "id": "152be9ee",
   "metadata": {},
   "outputs": [],
   "source": [
    "a=[1,2,3,2]\n",
    "\n",
    "#uniqueee\n",
    "u=[]\n",
    "for i in a:\n",
    "    if i not in u:\n",
    "        u.append(i)\n",
    "        \n",
    "print(u)\n",
    "sumn=0\n",
    "for i in u:\n",
    "    sumn=sumn+i\n",
    "print(sumn)    \n"
   ]
  },
  {
   "cell_type": "code",
   "execution_count": 15,
   "id": "795a59bb",
   "metadata": {},
   "outputs": [
    {
     "name": "stdout",
     "output_type": "stream",
     "text": [
      "{2: 2, 3: 3, 4: 1, 5: 1, 6: 1}\n",
      "3\n",
      "4\n",
      "6\n",
      "2\n",
      "28\n"
     ]
    }
   ],
   "source": [
    "l=[2,3,2,3,4,5,6,3]#3\n",
    "#dictionary---ke would be value and value would be the freq\n",
    "d={}\n",
    "#1st iteration--d={2:1}\n",
    "#2nd iter--d={2:1,3:1}\n",
    "for i in l:\n",
    "    if i in d:\n",
    "        d[i]=d[i]+1\n",
    "    else:\n",
    "        d[i]=1\n",
    "        \n",
    "print(d) \n",
    "#max--helps you to find the highest value\n",
    "#2,3,4,5,6\n",
    "#max freq member\n",
    "#maxa=max(collection, key)\n",
    "maxa=max(d,key=d.get)\n",
    "print(maxa)\n",
    "mina=min(d,key=d.get)\n",
    "print(mina)\n",
    "l=[2,3,2,3,4,5,6,3]\n",
    "print(max(l))\n",
    "print(min(l))\n",
    "l=[2,3,2,3,4,5,6,3]\n",
    "suma=sum(l)\n",
    "print(suma)\n",
    "\n"
   ]
  },
  {
   "cell_type": "code",
   "execution_count": 16,
   "id": "e066ac7e",
   "metadata": {},
   "outputs": [
    {
     "name": "stdout",
     "output_type": "stream",
     "text": [
      "<built-in function len>\n"
     ]
    }
   ],
   "source": [
    "print(len)"
   ]
  },
  {
   "cell_type": "code",
   "execution_count": 17,
   "id": "94aae782",
   "metadata": {},
   "outputs": [
    {
     "name": "stdout",
     "output_type": "stream",
     "text": [
      "Help on built-in function min in module builtins:\n",
      "\n",
      "min(...)\n",
      "    min(iterable, *[, default=obj, key=func]) -> value\n",
      "    min(arg1, arg2, *args, *[, key=func]) -> value\n",
      "    \n",
      "    With a single iterable argument, return its smallest item. The\n",
      "    default keyword-only argument specifies an object to return if\n",
      "    the provided iterable is empty.\n",
      "    With two or more arguments, return the smallest argument.\n",
      "\n"
     ]
    }
   ],
   "source": [
    "help(min)"
   ]
  },
  {
   "cell_type": "code",
   "execution_count": 19,
   "id": "787e8856",
   "metadata": {},
   "outputs": [
    {
     "name": "stdout",
     "output_type": "stream",
     "text": [
      "Enter your first value: 20\n",
      "Enter your second value: 2\n",
      "choose the operand below---\n",
      "your operand are--> +,-,/,*,//,%\n",
      "Enter your operand: /\n",
      "10.0\n"
     ]
    }
   ],
   "source": [
    "#calculator\n",
    "\n",
    "num1=int(input(\"Enter your first value: \"))\n",
    "num2=int(input(\"Enter your second value: \"))\n",
    "print(\"choose the operand below---\")\n",
    "\n",
    "print(\"your operand are--> +,-,/,*,//,%\")\n",
    "n=input(\"Enter your operand: \")\n",
    "\n",
    "if n==\"+\":\n",
    "    print(num1+num2)\n",
    "elif n==\"-\":\n",
    "    print(num1-num2)\n",
    "    \n",
    "elif n==\"/\":\n",
    "    print(num1/num2)\n",
    "    \n",
    "elif n==\"*\":\n",
    "    print(num1*num2)\n",
    "    \n",
    "elif n==\"//\":\n",
    "    print(num1//num2)\n",
    "    \n",
    "elif n==\"%\":\n",
    "    print(num1%num2)\n",
    "    \n",
    "else:\n",
    "    print(\"wrong input!\")\n"
   ]
  },
  {
   "cell_type": "code",
   "execution_count": null,
   "id": "dd25483f",
   "metadata": {},
   "outputs": [],
   "source": []
  }
 ],
 "metadata": {
  "kernelspec": {
   "display_name": "Python 3 (ipykernel)",
   "language": "python",
   "name": "python3"
  },
  "language_info": {
   "codemirror_mode": {
    "name": "ipython",
    "version": 3
   },
   "file_extension": ".py",
   "mimetype": "text/x-python",
   "name": "python",
   "nbconvert_exporter": "python",
   "pygments_lexer": "ipython3",
   "version": "3.9.7"
  }
 },
 "nbformat": 4,
 "nbformat_minor": 5
}
